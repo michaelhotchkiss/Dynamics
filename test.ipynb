{
 "cells": [
  {
   "cell_type": "markdown",
   "source": [
    "$U_{1-2} = \\int_{\\vec r_1}^{\\vec r_2} {\\vec F \\cdot d\\vec r} = \\int_{s_1}^{s_2} {F \\cos \\theta ds$ &emsp; (14-1)\n",
    "\n",
    "$U_{1-2} = \\int_{\\vec r_1}^{\\vec r_2}{\\vec F \\cdot d\\vec r} = \\int_{s_1}^{s_2}{F \\cos \\theta ds}$ &emsp; (14-1)"
   ],
   "metadata": {
    "collapsed": false
   }
  }
 ],
 "metadata": {
  "kernelspec": {
   "display_name": "Python 3",
   "language": "python",
   "name": "python3"
  },
  "language_info": {
   "codemirror_mode": {
    "name": "ipython",
    "version": 2
   },
   "file_extension": ".py",
   "mimetype": "text/x-python",
   "name": "python",
   "nbconvert_exporter": "python",
   "pygments_lexer": "ipython2",
   "version": "2.7.6"
  }
 },
 "nbformat": 4,
 "nbformat_minor": 0
}
