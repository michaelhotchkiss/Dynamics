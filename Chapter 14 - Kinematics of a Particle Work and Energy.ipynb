{
 "cells": [
  {
   "cell_type": "markdown",
   "source": [
    "# Chapter 14 - Kinematics of a Particle: Work and Energy"
   ],
   "metadata": {
    "collapsed": false
   }
  },
  {
   "cell_type": "markdown",
   "source": [
    "## Section 14.1 The Work of a Force\n",
    "* A force does work on a particle only when the particle undergoes a displacement in the direction of the force\n",
    "* If a force $\\vec F$ causes a particle to move along a path $s$ from position $\\vec r$ to position $\\vec r'$ the displacement is $d\\vec r = \\vec r' - \\vec r$, magnitude of $d\\vec r$ is $ds$ which is the length of the differential segment along the path, let the angle between the tails of $d\\vec r$ and $\\vec F$ be $\\theta$, then the work done by $\\vec F$ can be written as $dU = F ds \\cos \\theta$\n",
    "* Can also be written in dot product form, $dU = \\vec F \\cdot d\\vec r$\n",
    "* This can be interpreted two ways\n",
    "    * As the product of $F$ and $ds \\cos \\theta$ in direction of the force\n",
    "    * As the product of $ds$ and $F \\cos \\theta$ in the direction of displacement\n",
    "* When $0^\\circ < \\theta^\\circ < 90^\\circ$ then the force and displacement have the same sense, work is positive\n",
    "* When $90^\\circ < \\theta^\\circ < 180^\\circ$ then the force and displacement have opposite sense, work is negative\n",
    "* $dU = 0$ when the force is perpendicular to the displacement ($\\cos 90^\\circ =0$) or if the force is applied at a fixed point (displacement is zero)\n",
    "* Unit of work is joule (J), amount of work done by a one-newton force when it moves through distance of one meter in the direction of the force\n",
    "### Work of a Variable Force\n",
    "* If a particle acted upon by a force undergoes a finite displacement along its path from $\\vec r_1$ to $\\vec r_2$ or $s_1$ to $s_2$, the work of the force is determined by integration, $U_{1-2} = \\int_{\\vec r_1}^{\\vec r_2}{\\vec F \\cdot d\\vec r} = \\int_{s_1}^{s_2}{F \\cos \\theta ds}$ &emsp; (14-1)\n",
    "* This relation can sometimes be obtained using experimental data to plot $F \\cos \\theta $ vs $s$ and the area under the graph from $s_1$ to $s_2$ is the total work\n",
    "### Work of a Constant Force Moving Along a Straight Line\n",
    "* If a force $\\vec F_c$ has constant magnitude and acts at constant angle $\\theta$ from its straight-line path then the component of $\\vec F_c$ in the direction of displacement is always $F_c \\cos \\theta$, work done by $\\vec F_c$ when the particle moves from $s_1$ to $s_2$ is determined from 14-1, $U_{1-2} = F_c \\cos \\theta \\int_{s_1}^{s_2} {ds}$ or $U_{1-2} = F_c \\cos \\theta (s_2 - s_1)$ &emsp; (14-2)\n",
    "* Work of $\\vec F_c$ represents the area of the rectangle\n",
    "### Work of a Weight\n",
    "* If a particle with weight $\\vec W$ moves up a path $s$ from $s_1$ to $s_2$, at a point inbetween the displacement $d\\vec r = dx \\hat i + dy \\hat j + dz \\hat k$, since $\\vec W = -W \\hat j$ and applying 14-1 we obtain $U_{1-2} = \\int{\\vec F \\cdot d\\vec r} = \\int_{\\vec r_1}^{\\vec r_2}{-W \\hat j} \\cdot (dx \\hat i + dy \\hat j + dz \\hat k)= \\int_{y_1}^{y_2}{-W dy} = - W(y_2 - y_1)$ or $U_{1_2} = -W \\Delta y$ &emsp; (14-3)\n",
    "* The work is independent of the path and is equal to magnitude of particle's weight times vertical displacement\n",
    "### Work of a Spring Force\n",
    "* If an elastic spring is elongated distance $ds$ then the work done by the force that acts on the attached particle is $dU = -F_s ds = -ks ds$\n",
    "* The work is negative since $\\vec F_s$ acts in the opposite sense of $ds$\n",
    "* When a particle is displaced from $s_1$ to $s_2$ the work of $\\vec F_s$ is $U_{1-2} = \\int_{s_1}^{s_2} {F_s ds} = \\int_{s_1}^{s_2} {-ks ds}$ or $U_{1-2} = -(\\frac{1}{2} ks_2^2 - \\frac{1}{2}ks_1^2)$ &emsp; (14-4)\n",
    "* Work represents the trapezoidal area under the line $F_s = ks$"
   ],
   "metadata": {
    "collapsed": false
   }
  },
  {
   "cell_type": "markdown",
   "source": [
    "## Section 14.2 Principle of Work and Energy\n",
    "* Consider a particle which is located on a path defined relative to an inertial coordinate system, let the particle have mass $m$ and be subjected to a system of external forces represented by resultant force $\\vec F_R = \\sum \\vec F$ then the equation of motion for the particle in the tangential direction is $\\sum F_t = ma_t$\n",
    "* Applying kinematic equation $a_t = v dv/ds$ and integrating both sides with the assumption that initially the particle has position $s = s_1$ and speed $v = v_1$ and later at $s = s_2$, $v = v_2$ we obtain\n",
    "* $\\sum \\int_{s_1}^{s_2} {F_t ds} = \\int_{v_1}^{v_2} {mv dv} = \\frac{1}{2} m v_2^2 - \\frac{1}{2} m v_1^2$ &emsp; (14-5)\n",
    "* $\\sum F_t = \\sum F \\cos \\theta$ and from 14-1 we can write $\\sum U_{1-2} = \\frac{1}{2} m v_2^2 - \\frac{1}{2} m v_1^2$ &emsp; (14-6)\n",
    "* The above equation represents the principle of work and energy for the particle, term on the left is the sum of work done by all the forces acting on the particle as the particle moves from $s_1$ to $s_2$, terms on the right are of the form $T = \\frac{1}{2} m v^2$ define the particle's final and initial kinetic energy\n",
    "* Kinetic energy is a scalar and has units of joules, unlike work it can only be positive regardless of direction of motion of the particle\n",
    "* 14-6 can be applied in form $T_1 + \\sum U_{1-2} = T_2$ &emsp; (14-7)\n",
    "* This equation states the particle's initial kinetic energy plus work done by all the forces acting on the particle as it moves from $s_1$ to $s_2$ is equal to the particle's final kinetic energy\n",
    "* The principle of work and energy represents an integrated form of $\\sum F_t = ma_t$ obtained by using the kinematic equation $a_t = v dv/ds$, as a result this principle will provide a substitution for $\\sum F_t = m a_t$ when solving those types of kinetic problems which involve force, velocity, and displacement since these quantities are involved in 14-7\n",
    "### Procedure for Analysis\n",
    "#### Work FBD\n",
    "* Establish inertial coordinate system and draw free-body diagram of the particle in order to account for all the forces that do work on the particle as it moves along the path\n",
    "#### Principle of Work and Energy\n",
    "* Apply principle of work and energy, $T_1 + \\sum U_{1-2} = T_2$\n",
    "* Kinetic energy at initial and final points are positive since it involves the speed squared\n",
    "* A force does work when it moves through a displacement in the direction of the force\n",
    "* Work is positive when the force component is in the same sense of direction as its displacement, otherwise its negative\n",
    "* Forces that are functions of displacement must be integrated to obtain work, graphically the work is equal to the area under force-displacement curve\n",
    "* Work of a weight is the product of the weight magnitude and vertical displacement, $U_w = \\pm Wy$, it is positive when the weight moves downwards\n",
    "* Work of a spring is of the form $U_s = \\frac{1}{2} ks^2$, where $k$ is the spring stiffness and $s$ is the stretch or compression of the spring"
   ],
   "metadata": {
    "collapsed": false
   }
  },
  {
   "cell_type": "markdown",
   "source": [
    "## Section 14.3 Principle of Work and Energy for a System of Particles\n",
    "* Principle of work and energy can be extended to include a system of particles isolated within an enclosed region of space\n",
    "* The arbitrary $i$th particle with mass $m_i$ is subjected to a resultant external force $\\vec F_i$ and a resultant internal force $\\vec f_i$ which all the other particles exert on the $i$th particle, we can apply the principle of work and energy to this particle and all other particles in the system, the equations can be summed to obtain $\\sum T_1 + \\sum U_{1-2} = \\sum T_2$ &emsp; (14-8)\n",
    "* Initial kinetic energy of system plus work done by external and internal forces acting on the system equals final kinetic energy of the system\n",
    "* If the system is a translating rigid body or a series of connected translating bodies, then all particles in each body will undergo the same displacement, as a result the work of all internal forces occur in equal but opposite direction pairs, and the work by internal forces will be zero\n",
    "* If the body is nonrigid then the particles of the body can be displaced along different paths, and some energy due to force interactions will be given off and lost as heat or stored in the body if permanent deformations occur\n",
    "### Work of Friction Caused by Sliding\n",
    "* Consider a block which translates a distance $s$ over a rough surface, if applied force $\\vec P$ just balances the resultant frictional force $\\mu_k N$ then due to equilibrium a constant velocity $\\vec v$ is maintained, and we can apply 14-8, $\\frac{1}{2} m v^2 + Ps - \\mu_k Ns = \\frac{1}{2} m v^2$\n",
    "* This equation is satisfied when $P = \\mu_k N$\n",
    "* The sliding motion will generate heat, which is a form of energy not accounted for in the work-energy equation\n",
    "* The rough portions at the bottom of the block act as teeth and when the block slides these teeth deform slightly and break off or vibrate as they pull away from the teeth at the contacting surface, these frictional forces that act on the block at these points are displaced slightly due to the localized deformations, and later are replaced with other frictional forces as other points of contacts are made\n",
    "* At any instance the resultant $\\vec F$ of these frictional forces remains constant, but due to the many localized deformations the actual displacement $s'$ of $\\mu_k N$ is not the same as the dispolacement $s$ of the applied force $\\vec P$, instead $s'$ is less thant $s$, therefore the external work done by the resultant frictional force will be $\\mu_k N s'$ instead of $\\mu_k N s$\n",
    "* The remaining work $\\mu_k N (s-s')$ manifests itself as an increase in internal energy, which causes the block's temperature to increase\n",
    "* 14-8 can be applied to problems involving sliding friction, but it should be noted that the work of the resultant frictional force is not represented by $\\mu_k Ns$ but this term represents both the external work($\\mu_k Ns'$) of friction and internal work ($\\mu_k N (s-s')$) which is converted into various forms of internal energy such as heat"
   ],
   "metadata": {
    "collapsed": false
   }
  },
  {
   "cell_type": "markdown",
   "source": [
    "## Section 14.4 Power and Efficiency\n",
    "### Power\n",
    "* Power provides a useful basis for choosing the type of motor or machine which is required to do a certain amount of work in a given time\n",
    "* The power generated by a machine or engine that performs an amount of work $dU$ within time interval $dt$ is $P = \\frac{dU}{dt}$ &emsp; (14-9)\n",
    "* Let $dU = \\vec F \\cdot d\\vec r$ then $P = \\frac{dU}{dt} = \\frac{\\vec F \\cdot d\\vec r}{dt} = \\vec F \\cdot \\frac{d\\vec r}{dt}$ or $P = \\vec F \\cdot \\vec v$ &emsp; (14-10)\n",
    "* Power is a scalar, $\\vec v$ represents velocity of the particle which is acted upon by $\\vec F$\n",
    "* Power units are watt (W) or horsepower (hp), 1 W = 1 J/s = 1 N $\\cdot$ m/s, 1 hp = 550 ft $\\cdot$ lb/s, 1 hp = 746 W\n",
    "### Efficiency\n",
    "* Mechanical efficiency of a machine is the ratio of the output of useful power produced by the machine to the input of power supplied to the machine, $\\varepsilon = \\frac{\\textnormal{power output}}{\\textnormal{power input}}$ &emsp; (14-11)\n",
    "* If energy supplied to the machine occurs during the same time interval at which it is drawn then the efficiency can be expressed in terms of the ratio $\\varepsilon = \\frac{\\textnormal{energy output}}{\\textnormal{energy input}}$ &emsp; (14-12)\n",
    "* Since machines consist of a series of moving parts frictional forces will always be developed within a machine, as a result extra energy or power will be needed to overcome these forces, therefore power output will be less than power input and the efficiency of a machine is always less than one\n",
    "### Procedure for Analysis\n",
    "* Determine the external force $\\vec F$ acting on the body which causes the motion, this force is usually developed by a machine or engine placed either within or external to the body\n",
    "* If the body is accelerating it may be needed to draw its free-body diagram and apply equation of motion to determine $\\vec F$\n",
    "* With $\\vec F$ and $\\vec v$ of the particle where $\\vec F$ is applied are known the power is determined by multiplying the force magnitude with the component of velocity acting in the direction of $\\vec F$, $P = \\vec F \\cdot \\vec v = F v \\cos \\theta$\n",
    "* In some problems the power may be found by calculating the work done by $\\vec F$ per unit of time ($P_{avg} = \\Delta U / \\Delta t$)"
   ],
   "metadata": {
    "collapsed": false
   }
  }
 ],
 "metadata": {
  "kernelspec": {
   "display_name": "Python 3",
   "language": "python",
   "name": "python3"
  },
  "language_info": {
   "codemirror_mode": {
    "name": "ipython",
    "version": 2
   },
   "file_extension": ".py",
   "mimetype": "text/x-python",
   "name": "python",
   "nbconvert_exporter": "python",
   "pygments_lexer": "ipython2",
   "version": "2.7.6"
  }
 },
 "nbformat": 4,
 "nbformat_minor": 0
}
