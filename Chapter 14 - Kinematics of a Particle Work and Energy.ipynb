{
 "cells": [
  {
   "cell_type": "markdown",
   "source": [
    "# Chapter 14 - Kinematics of a Particle: Work and Energy"
   ],
   "metadata": {
    "collapsed": false
   }
  },
  {
   "cell_type": "markdown",
   "source": [
    "## Section 14.1 The Work of a Force\n",
    "* A force does work on a particle only when the particle undergoes a displacement in the direction of the force\n",
    "* If a force $\\vec F$ causes a particle to move along a path $s$ from position $\\vec r$ to position $\\vec r'$ the displacement is $d\\vec r = \\vec r' - \\vec r$, magnitude of $d\\vec r$ is $ds$ which is the length of the differential segment along the path, let the angle between the tails of $d\\vec r$ and $\\vec F$ be $\\theta$, then the work done by $\\vec F$ can be written as $dU = F ds \\cos \\theta$\n",
    "* Can also be written in dot product form, $dU = \\vec F \\cdot d\\vec r$\n",
    "* This can be interpreted two ways\n",
    "    * As the product of $F$ and $ds \\cos \\theta$ in direction of the force\n",
    "    * As the product of $ds$ and $F \\cos \\theta$ in the direction of displacement\n",
    "* When $0^\\circ < \\theta^\\circ < 90^\\circ$ then the force and displacement have the same sense, work is positive\n",
    "* When $90^\\circ < \\theta^\\circ < 180^\\circ$ then the force and displacement have opposite sense, work is negative\n",
    "* $dU = 0$ when the force is perpendicular to the displacement ($\\cos 90^\\circ =0$) or if the force is applied at a fixed point (displacement is zero)\n",
    "* Unit of work is joule (J), amount of work done by a one-newton force when it moves through distance of one meter in the direction of the force\n",
    "### Work of a Variable Force\n",
    "* If a particle acted upon by a force undergoes a finite displacement along its path from $\\vec r_1$ to $\\vec r_2$ or $s_1$ to $s_2$, the work of the force is determined by integration, $U_{1-2} = \\int_{\\vec r_1}^{\\vec r_2}{\\vec F \\cdot d\\vec r} = \\int_{s_1}^{s_2}{F \\cos \\theta ds}$ &emsp; (14-1)\n",
    "* This relation can sometimes be obtained using experimental data to plot $F \\cos \\theta $ vs $s$ and the area under the graph from $s_1$ to $s_2$ is the total work\n",
    "### Work of a Constant Force Moving Along a Straight Line\n",
    "* If a force $\\vec F_c$ has constant magnitude and acts at constant angle $\\theta$ from its straight-line path then the component of $\\vec F_c$ in the direction of displacement is always $F_c \\cos \\theta$, work done by $\\vec F_c$ when the particle moves from $s_1$ to $s_2$ is determined from 14-1, $U_{1-2} = F_c \\cos \\theta \\int_{s_1}^{s_2} {ds}$ or $U_{1-2} = F_c \\cos \\theta (s_2 - s_1)$ &emsp; (14-2)\n",
    "* Work of $\\vec F_c$ represents the area of the rectangle\n",
    "### Work of a Weight\n",
    "* If a particle with weight $\\vec W$ moves up a path $s$ from $s_1$ to $s_2$, at a point inbetween the displacement $d\\vec r = dx \\hat i + dy \\hat j + dz \\hat k$, since $\\vec W = -W \\hat j$ and applying 14-1 we obtain $U_{1-2} = \\int{\\vec F \\cdot d\\vec r} = \\int_{\\vec r_1}^{\\vec r_2}{-W \\hat j} \\cdot (dx \\hat i + dy \\hat j + dz \\hat k)= \\int_{y_1}^{y_2}{-W dy} = - W(y_2 - y_1)$ or $U_{1_2} = -W \\Delta y$ &emsp; (14-3)\n",
    "* The work is independent of the path and is equal to magnitude of particle's weight times vertical displacement\n",
    "### Work of a Spring Force\n",
    "* If an elastic spring is elongated distance $ds$ then the work done by the force that acts on the attached particle is $dU = -F_s ds = -ks ds$\n",
    "* The work is negative since $\\vec F_s$ acts in the opposite sense of $ds$\n",
    "* When a particle is displaced from $s_1$ to $s_2$ the work of $\\vec F_s$ is $U_{1-2} = \\int_{s_1}^{s_2} {F_s ds} = \\int_{s_1}^{s_2} {-ks ds}$ or $U_{1-2} = -(\\frac{1}{2} ks_2^2 - \\frac{1}{2}ks_1^2)$ &emsp; (14-4)\n",
    "* Work represents the trapezoidal area under the line $F_s = ks$"
   ],
   "metadata": {
    "collapsed": false
   }
  },
  {
   "cell_type": "markdown",
   "source": [
    "## Section 14.2 Principle of Work and Energy\n",
    "* Consider a particle which is located on a path defined relative to an inertial coordinate system, let the particle have mass $m$ and be subjected to a system of external forces represented by resultant force $\\vec F_R = \\sum \\vec F$ then the equation of motion for the particle in the tangential direction is $\\sum F_t = ma_t$\n",
    "* Applying kinematic equation $a_t = v dv/ds$ and integrating both sides with the assumption that initially the particle has position $s = s_1$ and speed $v = v_1$ and later at $s = s_2$, $v = v_2$ we obtain\n",
    "* $\\sum \\int_{s_1}^{s_2} {F_t ds} = \\int_{v_1}^{v_2} {mv dv} = \\frac{1}{2} m v_2^2 - \\frac{1}{2} m v_1^2$ &emsp; (14-5)\n",
    "* $\\sum F_t = \\sum F \\cos \\theta$ and from 14-1 we can write $\\sum U_{1-2} = \\frac{1}{2} m v_2^2 - \\frac{1}{2} m v_1^2$ &emsp; (14-6)\n",
    "* The above equation represents the principle of work and energy for the particle, term on the left is the sum of work done by all the forces acting on the particle as the particle moves from $s_1$ to $s_2$, terms on the right are of the form $T = \\frac{1}{2} m v^2$ define the particle's final and initial kinetic energy\n",
    "* Kinetic energy is a scalar and has units of joules, unlike work it can only be positive regardless of direction of motion of the particle\n",
    "* 14-6 can be applied in form $T_1 + \\sum U_{1-2} = T_2$ &emsp; (14-7)\n",
    "* This equation states the particle's initial kinetic energy plus work done by all the forces acting on the particle as it moves from $s_1$ to $s_2$ is equal to the particle's final kinetic energy\n",
    "* The principle of work and energy represents an integrated form of $\\sum F_t = ma_t$ obtained by using the kinematic equation $a_t = v dv/ds$, as a result this principle will provide a substitution for $\\sum F_t = m a_t$ when solving those types of kinetic problems which involve force, velocity, and displacement since these quantities are involved in 14-7\n",
    "### Procedure for Analysis\n",
    "#### Work FBD\n",
    "* Establish inertial coordinate system and draw free-body diagram of the particle in order to account for all the forces that do work on the particle as it moves along the path\n",
    "#### Principle of Work and Energy\n",
    "* Apply principle of work and energy, $T_1 + \\sum U_{1-2} = T_2$\n",
    "* Kinetic energy at initial and final points are positive since it involves the speed squared\n",
    "* A force does work when it moves through a displacement in the direction of the force\n",
    "* Work is positive when the force component is in the same sense of direction as its displacement, otherwise its negative\n",
    "* Forces that are functions of displacement must be integrated to obtain work, graphically the work is equal to the area under force-displacement curve\n",
    "* Work of a weight is the product of the weight magnitude and vertical displacement, $U_w = \\pm Wy$, it is positive when the weight moves downwards\n",
    "* Work of a spring is of the form $U_s = \\frac{1}{2} ks^2$, where $k$ is the spring stiffness and $s$ is the stretch or compression of the spring"
   ],
   "metadata": {
    "collapsed": false
   }
  },
  {
   "cell_type": "markdown",
   "source": [
    "## Section 14.3 Principle of Work and Energy for a System of Particles\n",
    "* Principle of work and energy can be extended to include a system of particles isolated within an enclosed region of space\n",
    "* The arbitrary $i$th particle with mass $m_i$ is subjected to a resultant external force $\\vec F_i$ and a resultant internal force $\\vec f_i$ which all the other particles exert on the $i$th particle, we can apply the principle of work and energy to this particle and all other particles in the system, the equations can be summed to obtain $\\sum T_1 + \\sum U_{1-2} = \\sum T_2$ &emsp; (14-8)\n",
    "* Initial kinetic energy of system plus work done by external and internal forces acting on the system equals final kinetic energy of the system\n",
    "* If the system is a translating rigid body or a series of connected translating bodies, then all particles in each body will undergo the same displacement, as a result the work of all internal forces occur in equal but opposite direction pairs, and the work by internal forces will be zero\n",
    "* If the body is nonrigid then the particles of the body can be displaced along different paths, and some energy due to force interactions will be given off and lost as heat or stored in the body if permanent deformations occur\n",
    "### Work of Friction Caused by Sliding\n",
    "* Consider a block which translates a distance $s$ over a rough surface, if applied force $\\vec P$ just balances the resultant frictional force $\\mu_k N$ then due to equilibrium a constant velocity $\\vec v$ is maintained, and we can apply 14-8, $\\frac{1}{2} m v^2 + Ps - \\mu_k Ns = \\frac{1}{2} m v^2$\n",
    "* This equation is satisfied when $P = \\mu_k N$\n",
    "* The sliding motion will generate heat, which is a form of energy not accounted for in the work-energy equation\n",
    "* The rough portions at the bottom of the block act as teeth and when the block slides these teeth deform slightly and break off or vibrate as they pull away from the teeth at the contacting surface, these frictional forces that act on the block at these points are displaced slightly due to the localized deformations, and later are replaced with other frictional forces as other points of contacts are made\n",
    "* At any instance the resultant $\\vec F$ of these frictional forces remains constant, but due to the many localized deformations the actual displacement $s'$ of $\\mu_k N$ is not the same as the dispolacement $s$ of the applied force $\\vec P$, instead $s'$ is less thant $s$, therefore the external work done by the resultant frictional force will be $\\mu_k N s'$ instead of $\\mu_k N s$\n",
    "* The remaining work $\\mu_k N (s-s')$ manifests itself as an increase in internal energy, which causes the block's temperature to increase\n",
    "* 14-8 can be applied to problems involving sliding friction, but it should be noted that the work of the resultant frictional force is not represented by $\\mu_k Ns$ but this term represents both the external work($\\mu_k Ns'$) of friction and internal work ($\\mu_k N (s-s')$) which is converted into various forms of internal energy such as heat"
   ],
   "metadata": {
    "collapsed": false
   }
  },
  {
   "cell_type": "markdown",
   "source": [
    "## Problem 32\n",
    "The block has a mass of $0.8 kg$ and moves within\n",
    "the smooth vertical slot. If it starts from rest when the\n",
    "attached spring is in the unstretched position at $A$, determine\n",
    "the constant vertical force $F$ which must be applied to the\n",
    "cord so that the block attains a speed $v_B = 2.5 m/s$ when it\n",
    "reaches $B$; $s_B = 0.15 m$. Neglect the size and mass of the\n",
    "pulley. Hint: The work of $\\vec F$ can be determined by finding the\n",
    "difference $\\Delta l$ in cord lengths $AC$ and $BC$ and using\n",
    "$U_F = F \\Delta l$."
   ],
   "metadata": {
    "collapsed": false
   }
  },
  {
   "cell_type": "code",
   "execution_count": 2,
   "outputs": [
    {
     "name": "stdout",
     "output_type": "stream",
     "text": [
      "F = 43.86 N\n"
     ]
    }
   ],
   "source": [
    "import numpy as np\n",
    "from sympy import solve, symbols\n",
    "F = symbols('F')\n",
    "height = .4\n",
    "length = .3\n",
    "s_B = .15\n",
    "k = 100\n",
    "weight = .8\n",
    "gravity = 9.81\n",
    "v_B = 2.5\n",
    "AC = np.sqrt(height**2 + length**2)\n",
    "BC = np.sqrt((height-s_B)**2 + length**2)\n",
    "\n",
    "#T_A + sum U_{A-B} = T_B\n",
    "# 0 + F(AC - BC)-1/2 * k * s_B**2 - weight * gravity * s_B = 1/2 * weight * v_B**2\n",
    "F = solve(F*(AC-BC) - 1/2 * k * s_B**2 - weight * gravity * s_B - 1/2 * weight * v_B**2,F)[0]\n",
    "print(f'F = {F:.2f} N')"
   ],
   "metadata": {
    "collapsed": false,
    "ExecuteTime": {
     "end_time": "2023-07-25T05:59:03.125514900Z",
     "start_time": "2023-07-25T05:59:03.106565700Z"
    }
   }
  },
  {
   "cell_type": "markdown",
   "source": [
    "## Section 14.4 Power and Efficiency\n",
    "### Power\n",
    "* Power provides a useful basis for choosing the type of motor or machine which is required to do a certain amount of work in a given time\n",
    "* The power generated by a machine or engine that performs an amount of work $dU$ within time interval $dt$ is $P = \\frac{dU}{dt}$ &emsp; (14-9)\n",
    "* Let $dU = \\vec F \\cdot d\\vec r$ then $P = \\frac{dU}{dt} = \\frac{\\vec F \\cdot d\\vec r}{dt} = \\vec F \\cdot \\frac{d\\vec r}{dt}$ or $P = \\vec F \\cdot \\vec v$ &emsp; (14-10)\n",
    "* Power is a scalar, $\\vec v$ represents velocity of the particle which is acted upon by $\\vec F$\n",
    "* Power units are watt (W) or horsepower (hp), 1 W = 1 J/s = 1 N $\\cdot$ m/s, 1 hp = 550 ft $\\cdot$ lb/s, 1 hp = 746 W\n",
    "### Efficiency\n",
    "* Mechanical efficiency of a machine is the ratio of the output of useful power produced by the machine to the input of power supplied to the machine, $\\varepsilon = \\frac{\\textnormal{power output}}{\\textnormal{power input}}$ &emsp; (14-11)\n",
    "* If energy supplied to the machine occurs during the same time interval at which it is drawn then the efficiency can be expressed in terms of the ratio $\\varepsilon = \\frac{\\textnormal{energy output}}{\\textnormal{energy input}}$ &emsp; (14-12)\n",
    "* Since machines consist of a series of moving parts frictional forces will always be developed within a machine, as a result extra energy or power will be needed to overcome these forces, therefore power output will be less than power input and the efficiency of a machine is always less than one\n",
    "### Procedure for Analysis\n",
    "* Determine the external force $\\vec F$ acting on the body which causes the motion, this force is usually developed by a machine or engine placed either within or external to the body\n",
    "* If the body is accelerating it may be needed to draw its free-body diagram and apply equation of motion to determine $\\vec F$\n",
    "* With $\\vec F$ and $\\vec v$ of the particle where $\\vec F$ is applied are known the power is determined by multiplying the force magnitude with the component of velocity acting in the direction of $\\vec F$, $P = \\vec F \\cdot \\vec v = F v \\cos \\theta$\n",
    "* In some problems the power may be found by calculating the work done by $\\vec F$ per unit of time ($P_{avg} = \\Delta U / \\Delta t$)"
   ],
   "metadata": {
    "collapsed": false
   }
  },
  {
   "cell_type": "markdown",
   "source": [
    "## Problem 60\n",
    "If the escalator in Prob. 14–46 is not moving,\n",
    "determine the constant speed at which a man having a\n",
    "mass of $80 kg$ must walk up the steps to generate $100 W$ of\n",
    "power—the same amount that is needed to power a\n",
    "standard light bulb"
   ],
   "metadata": {
    "collapsed": false
   }
  },
  {
   "cell_type": "code",
   "execution_count": 3,
   "outputs": [
    {
     "name": "stdout",
     "output_type": "stream",
     "text": [
      "Speed of the man = 0.28 m/s\n"
     ]
    }
   ],
   "source": [
    "from sympy import solve, symbols\n",
    "import numpy as np\n",
    "t = symbols('t')\n",
    "height = 4\n",
    "height_step = .125\n",
    "width_step = .250\n",
    "number_of_steps = 32\n",
    "weight = 80\n",
    "power = 100\n",
    "gravity = 9.81\n",
    "\n",
    "# P = U_{1-2}/t = weight * gravity * height /t\n",
    "t = solve(weight * gravity * height / (100*t) - 1,t)[0]\n",
    "\n",
    "# v = s/t\n",
    "v = np.sqrt((number_of_steps * width_step)**2 + height**2)/t\n",
    "print(f'Speed of the man = {v:.2f} m/s')"
   ],
   "metadata": {
    "collapsed": false,
    "ExecuteTime": {
     "end_time": "2023-07-25T05:59:03.178373100Z",
     "start_time": "2023-07-25T05:59:03.140475200Z"
    }
   }
  },
  {
   "cell_type": "markdown",
   "source": [
    "## Section 14.5 Conservative Forces and Potential Energy\n",
    "### Conservative Force\n",
    "* When the work of a force is independent of the path and only depends on the force's initial and final positions on the path then this force is a conservative force, weight of a particle and the force developed by a spring are examples of this type of force\n",
    "* The work done by the weight only depends on the vertical displacement of the weight\n",
    "* The work done by a spring force only depends on the spring's elongation or compression\n",
    "* Consider the force of friction exerted on a sliding object by a fixed surface, the work done by the frictional force depends on the path, the longer the path the greater the work, as a result frictional forces are nonconservative, the work is dissipated from the body by heat\n",
    "### Energy\n",
    "* Energy is the capacity for doing work\n",
    "* Consider a particle that's initially at rest, the principle of work and energy states $\\sum U_{1 \\rightarrow 2} = T_2$, the kinetic energy is equal to the work needed to be done on the particle to bring it from rest to a speed $v$, therefore kinetic energy is a measure of the particle's capacity to do work, which is associated with the motion of the particle\n",
    "* When energy comes from the position of a particle measured from a fixed datum then it is potential energy\n",
    "* Potential energy is a measure of the amount of work a conservative force will do when it moves from a given position to the datum\n",
    "### Gravitational Potential Energy\n",
    "* When a particle is located distance $y$ above an arbitrarily selected datum the particle's weight has positive gravitational potential energy, $V_g$, since $\\vec W$ has the capacity of doing positive work when the particle is moved back to the datum\n",
    "* When a particle is located below this datum $V_g$ is negative since the weight does negative work when the particle is moved back to the datum\n",
    "* When the particle is at the datum $V_g =0$\n",
    "* In general when $y$ is positive upward the gravitational potential energy of the particle with weight $W$ is $V_g = Wy$ &emsp; (14-13)\n",
    "### Elastic Potential Energy\n",
    "* When an elastic spring is elongated or compressed distance $s$ from its unstretched position the elastic potential energy $V_e$ can be stored in the spring, $V_e = \\frac{1}{2} ks^2$ &emsp; (14-14)\n",
    "* $V_e$ is always positive since in the deformed position the force of the spring has the capacity for doing positive work on the particle when the spring is returned to its unstretched position\n",
    "### Potential Function\n",
    "* When a particle is subjected to both gravitational and elastic forces the particle's potential energy can be expressed as a potential function, $V = V_g + V_e$ &emsp; (14-15)\n",
    "* Measurement of $V$ depends on location of the particle with respect to a selected datum\n",
    "* Work done by a conservative force in moving the particle from one point to another point is measured by the difference of this function $U_{1-2} = V_1 - V_2$ &emsp; (14-16)\n",
    "* Consider a system with a particle of weight $W$ that is suspended from a spring, the potential function can be expressed in terms of its position $s$ measured from a datum at the unstretched length of the spring, $V = V_g + V_e = -Ws + \\frac{1}{2} k s^2$\n",
    "* If the particle moves from $s_1$ to a lower position $s_2$ then using 14-16 it can be seen the work of $\\vec W$ and $\\vec F_s$ is $U_{1-2} = V_1 - V_2 = (-Ws_1 + \\frac{1}{2}ks_1^2) - (-Ws_2 + \\frac{1}{2}ks_2^2) = W(s_2 - s_1) - (\\frac{1}{2}ks_2^2 - \\frac{1}{2}ks_1^2)$\n",
    "* When the displacement along a path is infinitesimal 14-16 becomes $dU = V(x,y,z) - V(x+dx,y+dy,z+dz) = -dV(x,y,z)$ &emsp; (14-17)\n",
    "* We can represent the force and its displacement as Cartesian vectors $dU = \\vec F \\cdot d\\vec r = (F_x \\hat i + F_y \\hat j + F_z \\hat k) \\cdot (dx\\hat i + dy\\hat j + dz \\hat k) = F_x dx + F_y dy + F_z dz$\n",
    "* We can substitute this into 14-17 and express the differential $dV(x,y,z)$ in terms of its partial derivative to obtain $F_x dx + F_y dy + F_z dz = - (\\frac{\\partial V}{\\partial x} dx + \\frac{\\partial V}{\\partial y} dy + \\frac{\\partial V}{\\partial z} dz)$\n",
    "* Since changes in $x,y,z$ are independent of each other $F_x = -\\frac{\\partial V}{\\partial x} dx$, $F_y = -\\frac{\\partial V}{\\partial y} dy$, $F_z = -\\frac{\\partial V}{\\partial z} dz$ &emsp; (14-18)\n",
    "* Therefore $\\vec F =  -\\frac{\\partial V}{\\partial x} \\hat i  -\\frac{\\partial V}{\\partial y} \\hat j -  -\\frac{\\partial V}{\\partial z} \\hat k = -(\\frac{\\partial}{\\partial x} \\hat i + \\frac{\\partial}{\\partial y} \\hat j + \\frac{\\partial}{\\partial z} \\hat k)V$\n",
    "* $\\vec F = - \\nabla V$ &emsp; (14-19)\n",
    "* $\\nabla$ is the vector operator $\\nabla = \\frac{\\partial}{\\partial x} \\hat i + \\frac{\\partial}{\\partial y} \\hat j + \\frac{\\partial}{\\partial z} \\hat k$\n",
    "* 14-19 relates force $\\vec F$ to its potential function $V$ and thereby provides a criterion for proving $\\vec F$ is conservative\n",
    "* Consider the gravitational potential function for a weight located a distance $y$ above a datum, $V_g = Wy$, to prove $\\vec W$ is conservative it is needed to show it satisfies 14-19 or 14-19, $F_y = -\\frac{\\partial V}{\\partial y}$ or $F_y = -\\frac{\\partial}{\\partial y}(Wy) = -W$, the negative sign shows that $\\vec W$ acts downward opposite to positive $y$"
   ],
   "metadata": {
    "collapsed": false
   }
  },
  {
   "cell_type": "markdown",
   "source": [
    "## Section 14.6 Conservation of Energy\n",
    "* When a particle is acted upon by conservative and nonconservative forces the portion of work done by the conservative forces can be written in terms of the difference in their potential energies with 14-16, the principle of work and energy can be expressed as $T_1 + V_1 + (\\sum U_{1-2})_{\\textnormal{nonconservative}} = T_2 + V_2$ &emsp; (14-20)\n",
    "* $(\\sum U_{1-2})_{\\textnormal{nonconservative}}$ represents the work of the nonconservative forces acting on the particle, if only the conservative forces do work then $T_1 + V_1 =T_2 + V_2$ &emsp; (14-21)\n",
    "* This equation is called the conservation of mechanical energy or conservation of energy, it states during motion the sum of the particle's kinetic and potential energies remains constant, for this to happen kinetic energy must be transformed into potential energy and the other way around\n",
    "* Consider a ball with weight $\\vec W$ dropped from a height $h$ above a datum, the potential energy of the ball is at its maximum when it is dropped, and the kinetic energy is zero at this time, the total mechanical energy of the ball in its initial position is $E = T_1 + V_1 = 0 + Wh = Wh$\n",
    "* When the ball has fallen distance $h/2$ its speed is determined by using $v^2 = v_0^2 + 2 a_c (y-y_0)$ which yields $v = \\sqrt{2g(h/2)} = \\sqrt{gh}$, the energy of the ball at the mid-height position is $E = T_2 + V_2 =  \\frac{1}{2} \\frac{W}{g} (\\sqrt{gh})^2 + W (\\frac{h}{2}) = Wh$\n",
    "* Just before the ball hits the ground its potential energy is zero and its speed it $v = \\sqrt{2gh}$, the total energy of the ball is $E = T_3 + V_3 = \\frac{1}{2} \\frac{W}{g} (\\sqrt{2gh})^2 + 0 = Wh$\n",
    "* When the ball hits the ground it deforms slightly and if the ground is hard enough the ball will rebound off the surface reaching height $h'$ which will be less than height $h$\n",
    "* Neglecting air friction the difference in height accounts for an energy loss $E_l = W(h-h')$ which occurs during the collision, portions of this loss produce noise, localized deformation of the ball and ground, and heat\n",
    "### System of Particles\n",
    "* When a system of particles is only subjected to conservative forces an equation similar to 14-21 can be made for the particles\n",
    "* We can apply the ideas above, 14-8 becomes $\\sum T_1 + \\sum V_1 = \\sum T_2 + \\sum V_2$ &emsp; (14-22)\n",
    "* The sum of the system's initial kinetic and potential energies is equal to the sum of the system's final kinetic and potential energies, $\\sum T + \\sum V = $ constant\n",
    "### Procedure for Analysis\n",
    "* Conservation of energy equation can be used to solve problems involving velocity, displacement and conservative force systems\n",
    "* It is usually easier to apply than the principle of work and energy since this equation requires specifying the particle's kinetic and potential energies at only two points along the path instead of determining the work when the particle moves through a displacement\n",
    "#### Potential Energy\n",
    "* Draw two diagrams showing the particle located at its initial and final position along the path\n",
    "* If the particle is subjected to a vertical displacement establish the fixed horizontal datum from which to measure the particle's gravitational potential energy $V_g$\n",
    "* Data pertaining to the elevation $y$ of the particle from the datum and stretch or compression $s$ of any connecting springs can be determined from the geometry associated with the two diagrams\n",
    "* Recall $V_g = Wy$ where $y$ is positive upward from the datum and negative downward from the datum, also for a spring $V_e= \\frac{1}{2} ks^2$ and is always positive\n",
    "#### Conservation of Energy\n",
    "* Apply equation $T_1 + V_1 = T_2 +V_2$\n",
    "* When determining the kinetic energy, $T = \\frac{1}{2} mv^2$, remember the particle's speed $v$ must be measured from an inertial reference frame"
   ],
   "metadata": {
    "collapsed": false
   }
  },
  {
   "cell_type": "markdown",
   "source": [
    "## Problem 88\n",
    "The $2 lb$ collar has a speed of $5 ft/s$ at $A$. The\n",
    "attached spring has an unstretched length of $2 ft$ and a\n",
    "stiffness of$ k = 10 lb/ft$. If the collar moves over the smooth\n",
    "rod, determine its speed when it reaches point $B$, the normal\n",
    "force of the rod on the collar, and the rate of decrease in\n",
    "its speed."
   ],
   "metadata": {
    "collapsed": false
   }
  },
  {
   "cell_type": "code",
   "execution_count": 4,
   "outputs": [
    {
     "name": "stdout",
     "output_type": "stream",
     "text": [
      "Speed at B = 34.06 ft/s\n",
      "Normal force of the rod on the collar = 7.84 lb\n",
      "Acceleration at B = -20.37 ft/s**2\n"
     ]
    }
   ],
   "source": [
    "from sympy import solve, symbols\n",
    "import numpy as np\n",
    "v_B,x,N, a_t  = symbols('v_B x N a_t')\n",
    "k = 10\n",
    "weight = 2\n",
    "mass = weight/32.2\n",
    "v_A = 5\n",
    "width = 3\n",
    "height = 4.5\n",
    "unstretched_length = 2\n",
    "y = height - 1/2 * x**2\n",
    "\n",
    "# Datum at B\n",
    "# T_A + V_A = T_B + V_B\n",
    "# 1/2 * mass * v_A**2 + 1/2 * k * (height - unstretched_length)**2 = 1/2 * mass * v_B**2 + 1/2 * mass *(width - unstretched_length)**2 + 0\n",
    "v_B = solve(1/2 * mass * v_A**2 + 1/2 * k * (height-unstretched_length)**2 + height * weight - 1/2 * mass * v_B**2 - 1/2 * k * (width-unstretched_length)**2,v_B)[1]\n",
    "# dy/dx = tan theta = -x at x =3\n",
    "dy_dx = -width\n",
    "theta = np.arctan(-3)\n",
    "# d**2y/dx**2 = -1\n",
    "d2y_dx2 = -1\n",
    "rho = (1+(dy_dx)**2)**(3/2)/(abs(d2y_dx2))\n",
    "# sum F_n = m * a_n\n",
    "# -N + k * cos(pi/2 + theta) + weight * cos(theta) = mass * v_B**2 / rho\n",
    "N = solve(-N + k * np.cos(np.pi/2 + theta) + weight * np.cos(theta) - mass * (v_B**2/rho),N)[0]\n",
    "\n",
    "# sum F_t = m * a_t\n",
    "# weight * sin(theta) - k * sin (pi/2 + theta) = mass * a_t\n",
    "a_t = solve(weight * np.sin(abs(theta)) - k * np.sin(np.pi/2 + theta) - mass * a_t, a_t)[0]\n",
    "\n",
    "print(f'Speed at B = {v_B:.2f} ft/s')\n",
    "print(f'Normal force of the rod on the collar = {N:.2f} lb')\n",
    "print(f'Acceleration at B = {a_t:.2f} ft/s**2')"
   ],
   "metadata": {
    "collapsed": false,
    "ExecuteTime": {
     "end_time": "2023-07-25T05:59:03.239210400Z",
     "start_time": "2023-07-25T05:59:03.149450800Z"
    }
   }
  }
 ],
 "metadata": {
  "kernelspec": {
   "display_name": "Python 3",
   "language": "python",
   "name": "python3"
  },
  "language_info": {
   "codemirror_mode": {
    "name": "ipython",
    "version": 2
   },
   "file_extension": ".py",
   "mimetype": "text/x-python",
   "name": "python",
   "nbconvert_exporter": "python",
   "pygments_lexer": "ipython2",
   "version": "2.7.6"
  }
 },
 "nbformat": 4,
 "nbformat_minor": 0
}
