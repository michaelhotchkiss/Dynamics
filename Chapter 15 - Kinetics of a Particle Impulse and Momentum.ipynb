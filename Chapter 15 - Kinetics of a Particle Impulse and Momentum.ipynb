{
 "cells": [
  {
   "cell_type": "markdown",
   "source": [
    "# Chapter 15 - Kinetics of a Particle: Impulse and Momentum"
   ],
   "metadata": {
    "collapsed": false
   }
  },
  {
   "cell_type": "markdown",
   "source": [
    "## Section 15.1 Principle of Linear Impulse and Momentum\n",
    "* Using kinematics we can rewrite the equation of motion for a particle with mass $m$ as $\\sum \\vec F = m \\vec a = \\frac{d\\vec v}{dt}$ &emsp; (15-1)\n",
    "* $\\vec a$ and $\\vec v$ are measured from an inertial frame of reference\n",
    "* We can rearrange terms and integrate between $\\vec v = \\vec v_1$ at $t= t_1$ and $\\vec v = \\vec v_2$ at $t = t_2$ to obtain $\\sum \\int_{t_1}^{t_2} {\\vec F  dt} = m \\int_{\\vec v_1}^{\\vec v_2}{d\\vec v}$ or $\\sum \\int_{t_1}^{t_2}{\\vec F dt} = m \\vec v_2 - m \\vec v_1$ &emsp; (15-2)\n",
    "* This equation is called the principle of linear impulse and momentum, it can be seen it is a time integration of the equation of motion, provides a direct way of obtaining the particle's final velocity $\\vec v_2$ after a specified time period when the initial velocity is known and the forces acting on the particle are constant or are functions of time\n",
    "### Linear Momentum\n",
    "* Each vector in 15-2 are in the form $\\vec L = m \\vec v$, these vectors are called the particle's linear momentum, since $m$ is positive the linear-momentum vector has the same direction as $\\vec v$ and has units of mass times velocity (kg $\\cdot$ m/s)\n",
    "### Linear Impulse\n",
    "* Integral $\\vec I = \\int \\vec F dt$ in 15-2 is called the linear impulse, this is  a vector quantity that measures the effect of a force during the time the force acts, time positive so the impulse acts in same direction as the force, has units of force times time (N $\\cdot$ s)\n",
    "* When the force is a function of time the impulse can be found by direct integration, when the force is constant in magnitude and direction the impulse is $\\vec I = \\int_{t_1}^{t_2}{\\vec F_c dt} = \\vec F_c(t_2 - t_1)$\n",
    "* THe magnitude of the impulse can be represented on a graph by the area under the curve of force versus time\n",
    "### Principle of Linear Impulse and Momentum\n",
    "* 15-2 can be written as $m \\vec v_1 + \\sum \\int_{t_1}^{t_2}{\\vec F dt} = m \\vec v_2$ &emsp; (15-3)\n",
    "* This states the initial momentum of a particle at $t_1$ plus the sum of all the impulses applied to the particle from $t_1$ to $t_2$ is equal to the final momentum of the particle at $t_2$\n",
    "* These terms can be graphed on impulse and momentum diagrams, the momentum diagrams are outlined shapes if the particle that indicate the direction and magnitude of the particle's initial and final momenta, $m\\vec v_1$ and $m \\vec v_2$, the impulse diagram is an outlined shape of the particle showing all the impulses acting on the particle when it is located at a point along its path\n",
    "* We can write 15-3 in terms of $x,y,z$ components $m(v_x)_1 + \\sum \\int_{t_1}^{t_2}{F_x dt} = m (v_x)_2$, $m(v_y)_1 + \\sum \\int_{t_1}^{t_2}{F_y dt} = m (v_y)_2$ and $m(v_z)_1 + \\sum \\int_{t_1}^{t_2}{F_z dt} = m (v_z)_2$ &emsp; (15-4)"
   ],
   "metadata": {
    "collapsed": false
   }
  },
  {
   "cell_type": "markdown",
   "source": [
    "## Section 15.2 Principle of Linear Impulse and Momentum for a System of Particles\n",
    "* The principle of linear impulse and momentum for a system of particles moving relative to an inertial reference frame is obtained from the equation of motion applied to all particles in the system, $\\sum \\vec F_i = \\sum m_i \\frac{d\\vec v_i}{dt}$ &emsp; (15-5)\n",
    "* The left term represents the sum of the external forces acting on the particles (does not include internal forces as they cancel out)\n",
    "* Multiply both sides of 15-5 by $dt$ and integrate between $t=t_1$, $\\vec v_i = (\\vec v_i)_1$ and $t=t_2$, $\\vec v_i = (\\vec v_i)_2$ we obtain $\\sum m_i (\\vec v_i)_1 + \\sum \\int_{t_1)^{t_2} {\\vec F_i dt} = \\sum m_i (\\vec v_i)_2$ &emsp; (15-6)\n",
    "* This equation states the initial linear momentum of the system plus the impulses of all the external forces acting on the system between $t_1$ and $t_2$ is equal to the final linear momentum of the system\n",
    "* The location of the mass center $G$ of the system is found using $m \\vec r_G = \\sum m_i \\vec r_i$ and $m = \\sum m_i$ we can take the time derivative to obtain $m \\vec v_G = \\sum m_i \\vec v_i$, this states the total linear momentum of the system is equal to the linear momentum of an aggregate particle with mass $m = \\sum m_i$ moving with the velocity of the mass center of the system\n",
    "* We can substitute this into 15-6 to obtain $m (\\vec v_G)_1 + \\sum \\int_{t_1}^{t_2} {\\vec F_i dt} = m (\\vec v_G)_2$ &emsp; (15-7)\n",
    "* The initial linear momentum of the aggregate particle plus the external impulses acting on the system between $t_1$ and $t_2$ is equal to the final linear momentum of the aggregate particle\n",
    "* This equation justifies the application of the principle of linear impulse  and momentum to a system of particles that are a rigid body\n",
    "### Procedure for Analysis\n",
    "* Principle of linear impulse and momentum is used to solve problems involving force, time, and velocity since these are involved in the equation\n",
    "#### Free-Body Diagram\n",
    "* Establish $x,y,z$ inertial frame of reference and draw the particle's free-body diagram to account for all forces that produce an impulse on the particle\n",
    "* Direction and sense of the particle's initial and final velocities should be established\n",
    "* If a vector is unknown assume it acts in the sense of its components positive inertial coordinate\n",
    "* Alternatively draw the impulse and momentum diagrams for the particle\n",
    "#### Principle of Impulse and Momentum\n",
    "* In accordance with the coordinate system, apply principle of linear impulse and momentum, $m \\vec v_1 + \\sum \\int_{t_1}^{t_2} {\\vec F d} = m \\vec v_2$, if motion occurs in $xy$ plane the two scalar component equations can be formulated by resolving the vector components of $\\vec F$ from the FBD or by using the data on the impulse and momentum diagrams\n",
    "* Note that every force acting on the particle's FBD will create an impulse, eben though some of the forces do no work\n",
    "* Forces that are functions of time need to be integrated to obtain the impulse, on a graph the impulse is equal to the area under the force-time curve"
   ],
   "metadata": {
    "collapsed": false
   }
  },
  {
   "cell_type": "markdown",
   "source": [
    "## Problem 32\n",
    "Block $A$ weighs $10 lb$ and block $B$ weighs $3 lb$. If$ B$\n",
    "is moving downward with a velocity $(v_B)_1 = 3 ft/s$ at $t = 0$,\n",
    "determine the velocity of $A$ when $t = 1 s$. The coefficient of\n",
    "kinetic friction between the horizontal plane and block $A$ is\n",
    "$\\mu_A = 0.15$."
   ],
   "metadata": {
    "collapsed": false
   }
  },
  {
   "cell_type": "code",
   "execution_count": 1,
   "outputs": [
    {
     "data": {
      "image/png": "[encoded data removed]",
      "text/plain": "<IPython.core.display.Image object>"
     },
     "execution_count": 1,
     "metadata": {},
     "output_type": "execute_result"
    }
   ],
   "source": [
    "from IPython.display import Image\n",
    "Image(\"pictures/dynamics_15_32.png\")"
   ],
   "metadata": {
    "collapsed": false,
    "ExecuteTime": {
     "end_time": "2023-08-24T17:12:30.585981400Z",
     "start_time": "2023-08-24T17:12:30.526140Z"
    }
   }
  },
  {
   "cell_type": "code",
   "execution_count": null,
   "outputs": [],
   "source": [
    "from sympy import symbols,solve, lambdify\n",
    "T, v_A_2 = symbols('T v_A_2')\n",
    "weight_A = 10\n",
    "weight_B = 3\n",
    "mass_A = weight_A/32.2\n",
    "mass_B = weight_B/32.2\n",
    "friction_coefficient = .15\n",
    "v_B_1 = 3\n",
    "\n",
    "# s_A + 2 * s_B = l\n",
    "#v_A = -2 * v_B\n",
    "v_A_1 = -2 * v_B_1\n",
    "\n",
    "# mass_A * v_A_1 + sum int F dt = mass_A * v_A_2, sum int F dt = T\n",
    "v_A_2 = solve(mass_A * v_A_1 - T + friction_coefficient * weight_A - mass_A * v_A_2, v_A_2)[0]\n",
    "\n",
    "# mass_B * v_B_1 + sum int F dt = mass_B * v_B_2, sum int F dt = weight_B - 2 * T\n",
    "Tension = solve(mass_B * v_B_1 + weight_B - 2 * T + (mass_B * v_A_2)/2 ,T)[0]\n",
    "\n",
    "v_A_2_calculated = lambdify(T,v_A_2)(Tension)\n",
    "print(f'v_A_2 = {abs(v_A_2_calculated):.2f} ft/s to the right')"
   ],
   "metadata": {
    "collapsed": false,
    "is_executing": true,
    "ExecuteTime": {
     "start_time": "2023-08-24T17:12:30.536112Z"
    }
   }
  },
  {
   "cell_type": "markdown",
   "source": [
    "## Section 15.3 Conservation of Linear Momentum for a System of Particles\n",
    "* If the sum of the external impulses acting on a system is zero then 15-6 reduces to $\\sum m_i (\\vec v_i)_1 = \\sum m_i (\\vec v_i)_2$ &emsp; (15-8)\n",
    "* This equation is called the conservation of linear momentum, the total linear momentum for a system remains constant during $t_1$ to $t_2$\n",
    "* We can substitute $m \\vec v_G = \\sum m_i \\vec v_i$ into 15-8 to obtain $(\\vec v_G)_1 = (\\vec v_G)_2$ &emsp; (15-9)\n",
    "* This shows the velocity $\\vec v_G$ of the mass center for the system does not change when no external impulses are added to the system\n",
    "* Conservation of linear momentum is used when particles collide or interact\n",
    "* For application study FBD of the entire system of particles should be made to indentify the forces that create external or internal impulses and determine what direction(s) linear momentum is conserved\n",
    "* If the time period over which the motion is studied is very short some external impulses can be neglected, forces causing these negligible impulses are called nonimpulsive forces\n",
    "* Forces that are very large and act for a very short period of time produce a significant change in momentum are called impulsive forces and cannot be neglected\n",
    "* Impulsive forces usually occur due to explosion or striking one body against another\n",
    "* Nonimpulsive forces can be the weight of a body, force imparted by a slightly deformed spring having a relatively small stiffness, or any force that is very small compared to the impulsive forces\n",
    "* When deciding between a force being impulsive and nonimpulsive note that it is only during $t_1$ to $t_2$\n",
    "* Consider the effect of hitting a tennis ball with a racket, during the very short time of interaction the force of the racket on the ball is impulsive since it changes the ball's momentum significantly, the ball's weight however has negligible effect on the change in momentum and is nonimpulsive, therefore it can be neglected in the impulse-momentum analysis for this time\n",
    "* If the time is increased to last the ball's flight after the racket-ball interaction then the impulse of the ball's weight is impulsive since it changes the momentum of the ball, the ball's weight is included in the impulse-momentum analysis\n",
    "### Procedure for Analysis\n",
    "* Principle of linear impulse and momentum or conservation of linear momentum is applied to a system of particles to determine final velocities of the particles just after the period of time considered, by applying this to the entire system the internal impulses acting within the system are eliminated from analysis\n",
    "#### Free-Body Diagram\n",
    "* Establish $x,y,z$ inertial frame of reference and draw FBD for each particle in the system to identify internal and external forces\n",
    "* Conservation of linear momentum applies to the system in a direction which has no external forces or the forces are considered nonimpulsive\n",
    "* Establish direction and sense of particle's initial and final velocities, if sense is unknown assume it is in the positive inertial coordinate axis\n",
    "* Alternately draw impulse and momentum diagrams for each particle in the system\n",
    "#### Momentum Equations\n",
    "* Apply principle of linear impulse and momentum or the conservation of linear momentum in the appropriate directions\n",
    "* If it is needed to determine the internal impulse $\\int F dt$ acting on only one particle in the system, then the particle needs to be isolated and the principle of linear impulse and momentum need to be applied to this particle\n",
    "* After impulse is calculated and provided time $\\Delta t$ for which the impulse acts is known, the average impulsive force $F_{avg}$ can be found from $F_{avg} = \\int{F\\frac{dt}{\\Delta t}$"
   ],
   "metadata": {
    "collapsed": false
   }
  },
  {
   "cell_type": "markdown",
   "source": [
    "## Problem 48\n",
    "Blocks $A$ and $B$ have masses of $40 kg$ and $60 kg$,\n",
    "respectively. They are placed on a smooth surface and the\n",
    "spring connected between them is stretched $2 m$. If they are\n",
    "released from rest, determine the speeds of both blocks the\n",
    "instant the spring becomes unstretched.\n",
    "Plot speed as function of stretch, velocity of $A$ and $B$ as function of stretch."
   ],
   "metadata": {
    "collapsed": false
   }
  },
  {
   "cell_type": "code",
   "execution_count": null,
   "outputs": [],
   "source": [
    "from IPython.display import Image\n",
    "Image(\"pictures/dynamics_15_48.png\")"
   ],
   "metadata": {
    "collapsed": false,
    "is_executing": true
   }
  },
  {
   "cell_type": "code",
   "execution_count": null,
   "outputs": [],
   "source": [
    "from sympy import symbols,solve,lambdify\n",
    "import numpy as np\n",
    "import matplotlib.pyplot as plt\n",
    "vB, work = symbols('vB work')\n",
    "mass_A = 40\n",
    "mass_B = 60\n",
    "stretch = 2\n",
    "k = 180\n",
    "\n",
    "# sum m v_1 = sum m v_2, both masses at rest at t=0\n",
    "# 0 + 0 = mass_A * v_A - mass_B * v_B\n",
    "v_A = mass_B/mass_A * vB\n",
    "\n",
    "# T_1 + V_1 = T_2 + V_2\n",
    "# 0 + 1/2 * k * stretch**2 = 1/2 * mass_A * v_A**2 + 1/2 * mass_B * v_B**2\n",
    "v_B = solve(1/2 * k * stretch**2 - 1/2 * mass_A * v_A**2 - 1/2 * mass_B * vB**2, vB)[1]\n",
    "\n",
    "v_A_2_eq = lambdify(vB,v_A)\n",
    "vA = v_A_2_eq(v_B)\n",
    "stretches = np.linspace(2,0,10)\n",
    "v_B_graph = solve(1/2 * k * work**2 - 1/2 * mass_A * v_A**2 - 1/2 * mass_B * vB**2, vB)[1]\n",
    "v_B_graph_1 = lambdify(work,v_B_graph)\n",
    "v_B_values = v_B_graph_1(stretches)\n",
    "v_A_values = v_A_2_eq(stretches)\n",
    "print(f'v_A = {vA:.2f} m/s')\n",
    "print(f'v_B = {v_B:.2f} m/s')\n",
    "\n",
    "plt.plot(stretches,v_A_values)\n",
    "plt.plot(stretches,v_B_values)\n",
    "plt.xlabel('Stretched length')\n",
    "plt.ylabel('Velocity')\n",
    "plt.legend('A' 'B')\n",
    "plt.show()"
   ],
   "metadata": {
    "collapsed": false,
    "is_executing": true
   }
  },
  {
   "cell_type": "markdown",
   "source": [
    "## Section 15.4 Impact\n",
    "* Impact occurs when two bodies collide with one another during a very short period of time, causing relatively large (impulsive) forces to be exerted between the bodies\n",
    "* Two types of impacts\n",
    "    * Central impact occurs when the direction of motion of the mass centers of the two colliding particles is along a line passing through the mass centers of the particles, the line is called line of impact and is perpendicular to the plane of contact\n",
    "    * Oblique impact occurs when the motion of one or both of the particles makes an angle with the line of impact\n",
    "### Central Impact\n",
    "Consider two particles moving in the same direction $A$ and $B$, particle $A$ is positioned behind $B$ but the velocity of $A$ is greater\n",
    "* Particles have initial momenta, and since $(v_A)_1 > (v_B)_1$ collision will occur\n",
    "* During collision the particles must be thought of as deformable or nonrigid, the particles undergo period of deformation such that they exert an equal but opposite deformation impulse $\\int \\vec P dt$ on each other\n",
    "* At only the instant of maximum deformation both particles move with the same velocity $\\vec v$ since their relative motion is zero\n",
    "* Afterward a period of restitution occurs, the particles return to their original shape or remain permanently deformed, the equal but opposite restitution impulse $\\int \\vec R dt$ pushes the particles apart  from each other, in the real world $\\int P dt > \\int R dt$\n",
    "* Just after separation the particles have final momenta where $(v_B)_2 > (v_A)_2$\n",
    "* Usually initial velocities of the particles will be known, and it is needed to calculate the final velocities, momentum for the system of particles is conserved since during collision the internal impulses of deformation and restitution cancel, therefore requiring $m_A (v_A)_1 + m_B(v_B)_1 = m_A (v_A)_2 + m_B(v_B)_2$ &emsp; (15-10)\n",
    "* To obtain a second equation needed to solve for the final velocities we must apply principle of impulse and momentum to each particle, during deformation phase of particle $A$ we have $m_a (v_A)_1 - \\int P dt = m_A v$ and for the restitution phase we have $m_A v - \\int R dt = m_A (v_A)_2$\n",
    "* Ratio of restitution impulse to deformation impulse is called the coefficient of restitution, $e = \\frac{\\int R dt}{\\int P dt} = \\frac{v - (v_A)_2}{(v_a)_1-v}$\n",
    "* We can do the same for $B$, $e = \\frac{\\int R dt}{\\int P dt} = \\frac{(v_B)_2 - v}{v - (v_B)_1}$\n",
    "* We can eliminate $v$ from these two equations the coefficient of restitution can be expressed using the particle's initial and final velocities, $e = \\frac{(v_B)_2(v_A)_2}{(v_A)_1 - (v_B)_1}$ &emsp; (15-11)\n",
    "* If $e$ is known we can use 15-10 and 15-11 to solve for the final velocities, when doing so establish a sign convention for defining the positive direction for $\\vec v_A$ and $\\vec v_B$ and use it consistently when writing both equations, usually assume positive is to the right\n",
    "### Coefficient of Restitution\n",
    "* It can be seen that 15-11 states that $e$ is equal to the ratio of the relative velocity of the particle's separation just after impact to the relative velocity of the particle's approach just before impact\n",
    "* Measuring these relative velocities experimentally it is found that $e$ varies appreciably with impact velocity as well as with the size and shape of the colliding bodies, as a result the coefficient of restitution is only reliable when used with data which closely approximate the conditions which were known to exist when measurements of it were made\n",
    "* $e$ usually has a value between zero and one\n",
    "### Elastic Impact ($e=1$)\n",
    "* When collision between two particles is perfectly elastic the deformation impulse is equal and opposite to the restitution impulse, in the real world this can never be achieved\n",
    "### Plastic Impact ($e=0$)\n",
    "* Impact is said to be inelastic or plastic when $e=0$, here there is no restitution impulse so after collision both particles couple together and move with the same velocity\n",
    "* Principle of work and energy cannot be used for the analysis of impact problems since it is not possible to know how the internal forces of deformation and restitution vary or displace during collision\n",
    "* Knowing the particle's velocities before and after collision the energy loss during collision can be calculated on the basis of the difference in the particle's kinetic energy, $\\sum U_{1-2} = \\sum T_2 - \\sum T_1$, this energy loss occurs since some of the initial kinetic energy of the particle is transformed into thermal energy as well as creating sound and localized deformation of the material when collision occurs\n",
    "* If the impact is perfectly elastic no energy is lost in collision\n",
    "* If the impact is plastic all energy is lost in collision\n",
    "### Procedure for Analysis\n",
    "* Usually the final velocities of two smooth particles are to be found just after they are subjected to direct central impact, if coefficient of restitution, mass of each particle, and each particle's initial velocity just before impact are known you can solve the problem as follows\n",
    "* Conservation of momentum applies to the system of particles $\\sum m v_1 = \\sum m v_2$\n",
    "* Coefficient of restitution relates the relative velocities of the particle along the line of impact just before and after impact\n",
    "* When applying these equations the sense of an unknown velocity can be assumed, if solution yields negative scalar the velocity acts in the opposite sense\n",
    "### Oblique Impact\n",
    "* When oblique impact occurs between two smooth particles the particles move away from each other with velocities having unknown directions and magnitudes\n",
    "* If initial velocities are known then four unknowns are present in the problem, these unknowns can be represented as $(v_A)_2, (v_B)_2, \\theta_2,\\phi_2$ or in their $x,y$ components of the final velocities\n",
    "### Procedure for Analysis\n",
    "* If the $y$ axis is established within the plane of contact and the $x$ axis along the line of impact, the impulsive forces of deformation and restitution act only in the $x$ direction\n",
    "* By resolving the velocity or momentum vectors into components along the $x$ and $y$ axes it is possible to write four independent scalar equations to determine $(v_{Ax})_2, (v_{Ay})_2, (v_{Bx})_2, (v_{By})_2$\n",
    "* Momentum of the system is conserved along line of impact so that $\\sum m (v_x)_1 = \\sum m (v_x)_2$\n",
    "* Coefficient of restitution relates the relative velocity components of the particles along the line of impact, $e = \\frac{(v_{Bx})_2-(v_{Ax})_2}{(v_{Ax})_1 - (v_{Bx})_1}$\n",
    "* If these two equations are solved simultaneously we obtain $(v_{Ax})_2$ and $(v_{Bx})_2$\n",
    "* Momentum of particle $A$ is conserved along $y$ axis since no impulse acts on $A$ in this direction, as a result $m_A (v_{Ay})_1 = m_A (v_{Ay})_2$ or $(v_{Ay})_1 = (v_{Ay})_2$\n",
    "* Momentum of particle $B$ is conserved along $y$ axis since no impulse acts on $B$ in this direction, as a result  $(v_{By})_1 = (v_{By})_2$\n"
   ],
   "metadata": {
    "collapsed": false
   }
  },
  {
   "cell_type": "markdown",
   "source": [
    "## Problem 88\n",
    "The “stone” $A$ used in the sport of curling slides\n",
    "over the ice track and strikes another “stone” $B$ as shown. If\n",
    "each “stone” is smooth and has a weight of $47 lb$, and the\n",
    "coefficient of restitution between the “stone” is $e = 0.8$,\n",
    "determine the time required just after collision for $B$ to\n",
    "slide off the runway. This requires the horizontal component\n",
    "of displacement to be $3 ft$."
   ],
   "metadata": {
    "collapsed": false
   }
  },
  {
   "cell_type": "code",
   "execution_count": null,
   "outputs": [],
   "source": [
    "from IPython.display import Image\n",
    "Image(\"pictures/dynamics_15_88.png\")"
   ],
   "metadata": {
    "collapsed": false,
    "is_executing": true
   }
  },
  {
   "cell_type": "code",
   "execution_count": null,
   "outputs": [],
   "source": [
    "from sympy import symbols,solve, sqrt\n",
    "import numpy as np\n",
    "vA_2x,vB_2x = symbols('vA_2x vB_2x')\n",
    "vA_2y,vB_2y = symbols('vA_2y vB_2y')\n",
    "time = symbols('time')\n",
    "weight = 47\n",
    "mass = weight/32.2\n",
    "e = .8\n",
    "v_A_1 = 8\n",
    "v_B_1 = 0\n",
    "theta = np.radians(30)\n",
    "alpha = np.radians(60)\n",
    "displacement = 3\n",
    "\n",
    "#x axis\n",
    "# sum m * v_1 = sum m * v_2\n",
    "vA_2x = solve(mass * v_A_1 * np.cos(theta) - mass *  vB_2x - mass * vA_2x,vA_2x)[0]\n",
    "\n",
    "# e = (v_B_2x - v_A_2x)/(v_A_1 * cos(theta))\n",
    "v_B_2x = solve(( (vB_2x - vA_2x) / (v_A_1 * np.cos(theta)) ) /.8 -1,vB_2x)[0]\n",
    "\n",
    "v_A_2x = lambdify(vB_2x, vA_2x)(v_B_2x)\n",
    "\n",
    "# y axis\n",
    "# A, mv_1 = mv_2\n",
    "v_A_2y = solve(mass * v_A_1 * np.sin(theta) - mass * vA_2y, vA_2y)[0]\n",
    "\n",
    "# B, mv_1 = mv_2, v_1=0, v_2 =0\n",
    "v_B_2y = 0\n",
    "\n",
    "v_A_2 = sqrt(v_A_2x**2 + v_A_2y**2)\n",
    "v_B_2 = sqrt(v_B_2x**2 + v_B_2y**2)\n",
    "\n",
    "# s = s_0 + v_0 *t\n",
    "t = solve(3 - (v_B_2 * np.cos(alpha)) * time,time)[0]\n",
    "\n",
    "print(f'Time required after collision for B to slide off the runway = {t:.2f} s')"
   ],
   "metadata": {
    "collapsed": false,
    "is_executing": true
   }
  },
  {
   "cell_type": "markdown",
   "source": [
    "## Section 15.5 Angular Momentum\n",
    "* Angular momentum of a particle about $O$ is defined as the moment of the particle's linear momentum about $O$\n",
    "* Angular moment $\\vec H_O$ called the moment of momentum\n",
    "### Scalar Formulation\n",
    "* When a particle moves along a curve in the $xy$ plane the angular momentum at any instant can be determined about $O$ which is the $z$ axis by using a scalar formulation, $(H_O)_z = (d)(mv)$ &emsp; (15-12)\n",
    "* $d$ is the moment arm or perpendicular distance from $O$ to the line of action $m\\vec v$\n",
    "* Units for angular momentum are kg $\\cdot$ m$^2$/s\n",
    "* Direction of $\\vec H_O$ is defined by right-hand rule, the thumb points in direction of angular momentum, curl of fingers indicates sense of rotation of $m\\vec v$ about $O$, thumb is directed perpendicular to $xy$ plane\n",
    "### Vector Formulation\n",
    "* When the particle moves along a space curve, the vector cross product can be used to determine the angular momentum about $O$, $\\vec H_O = \\vec r \\times m\\vec v$ &emsp; (15-13)\n",
    "* $\\vec r$ is the position vector from $O$ to the particle, $\\vec H_O$ is perpendicular to the plane containing $\\vec r$ and $m \\vec v$\n",
    "* To evaluate the cross product $\\vec r$ and $m\\vec v$ need to be in their Cartesian form, angular momentum can be determined by evaluating"
   ],
   "metadata": {
    "collapsed": false
   }
  },
  {
   "cell_type": "markdown",
   "source": [
    "| $\\hat i$ | $\\hat j$ | $\\hat k$ |\n",
    "|:---------|:--------:|:---------|\n",
    "| $r_x$    | $r_y$    | $r_z$    |\n",
    "| $mv_x$   | $mv_y$   | $mv_z$   |"
   ],
   "metadata": {
    "collapsed": false
   }
  },
  {
   "cell_type": "markdown",
   "source": [
    "## Section 15.6 Relation Between Moment of a Force and Angular Momentum\n",
    "* Moments about $O$ for all the forces acting on a particle can be related to the particle's angular momentum by applying equation of motion, when the mass of the particle is constant, $\\sum \\vec F = m \\dot \\vec v$\n",
    "* Moments of the forces about $O$ can be obtained by cross-product multiplication of each side of this equation by $\\vec r$ which is measured from $x,y,z$ inertial frame of reference, $\\sum \\vec M_O = \\vec r \\times \\sum F = \\vec r \\times m \\dot{\\vec v}$\n",
    "* Derivative of $\\vec r \\times m \\vec v$ can be written as $\\dot{\\vec H_O} = \\frac{d}{dt} (\\vec r \\times m \\vec v) = \\dot{\\vec r} \\times m \\vec v + \\vec r \\times m \\dot{\\vec v}$\n",
    "* The first term on the right side is equal to zero since the cross product of a vector with itself is zero ($\\dot{\\vec r} = \\vec v$), therefore the equation becomes $\\sum \\vec M_O = \\dot{\\vec H_O}$ &emsp; (15-15)\n",
    "* This states the resultant moment about $O$ of all forces acting on the particle equals the time rate of change of the particle's angular momentum about $O$, this is similar to 15-1\n",
    "* $\\sum \\vec F = \\dot{\\vec L}$ &emsp; (15-16)\n",
    "* In this equation $\\vec L = m \\vec v$ so the resultant force acting on the particle is equal to the time rate of change of the particle's linear momentum\n",
    "* 15-15 and 15-16 are another way of stating Newton's second law of motion\n",
    "### Section of Particles\n",
    "* Another equation in the same form of 15-15 can be derived for a system of particles, the forces acting on arbitrary $i$th particle of the system consist of a resultant external force $\\vec F_i$ and resultant internal force $\\vec f_i$, we can express the moments of these forces about $O$ using form in 15-15 $(\\vec r_i \\times \\vec F_i) + (\\vec r_i \\times \\vec f_i) = (\\dot{\\vec H_i)_O}$\n",
    "* $(\\dot{\\vec H_i)_O}$ is the time rate of change in the angular momentum of the $i$th particle about $O$\n",
    "* We can sum the results vectorially to obtain $\\sum (\\vec r_i \\times \\vec F_i) + \\sum (\\vec r_i \\times \\vec f_i) = \\sum (\\dot{\\vec H_i)_O}$\n",
    "* The second term is zero since the internal forces exist in equal but opposite direction pairs, therefore the moment of each pair about $O$ is zero\n",
    "* We can rewrite the equation to $\\sum \\vec M_O = \\dot{\\vec H_O}$ &emsp; (15-17)\n",
    "* This states the sum of moments about $O$ of all external forces acting on a system of particles equals the time rate of change of the total angular momentum of the system about $O$\n",
    "* $O$ can represent any fixed point in the inertial frame of reference"
   ],
   "metadata": {
    "collapsed": false
   }
  },
  {
   "cell_type": "markdown",
   "source": [
    "# Section 15.7 Principle of Angular Impulse and Momentum\n",
    "### Principle of Angular Impulse and Momentum\n",
    "* 15-15 can be rewritten to $\\sum \\vec M_O dt = d\\vec H_O$ and we can integrate from $t = t_1$, $\\vec H_O = (\\vec H_O)_1$ to $t = t_2$, $\\vec H_O = (\\vec H_O)_2$ to obtain $\\sum \\int_{t_1}^{t_2}{\\vec M_O dt} = (\\vec H_O)_2 - (\\vec H_O)_1$\n",
    "* It can be rearranged to $(\\vec H_O)_1 + \\sum \\int_{t_1}^{t_2}{\\vec M_O dt} = (\\vec H_O)_2$ &emsp;(15-18)\n",
    "* This equation is called the principle of angular impulse and momentum, initial and final angular momenta are defined as the moment of the linear momentum of the particle ($\\vec H_O = \\vec r \\times m \\vec v$) at instants $t_1$ and $t_2$\n",
    "* The second term on the left is called the angular impulse, this is determined by integrating with respect to time the moments of all the forces acting on the particle between $t_1$ to $t_2$\n",
    "* The moment of a force about $O$ is $\\vec M_O = \\vec r \\times \\vec F$, angular impulse can be expressed in vector form as $\\sum \\int_{t_1}^{t_2}{\\vec M_O dt} = \\sum \\int_{t_1}^{t_2}{(\\vec r \\times \\vec F)  dt}$ &emsp; (15-19)\n",
    "* $\\vec r$ is a position vector that extends from $O$ to any point on the line of action $\\vec F$\n",
    "* We can use 15-18 to determine the principle of angular impulse and momentum for a system of particles, $\\sum (\\vec H_O)_1 + \\sum \\int_{t_1}^{t_2}{\\vec M_O dt} = \\sum (\\vec H_O)_2$ &emsp;(15-20)\n",
    "* The first and last term represent the angular momenta of all the particle at $t_1$ and $t_2$, the middle term is the sum of the angular impulses applied to the particles between $t_1$ and $t_2$\n",
    "* Recall impulses are created only by moments of external forces acting on the system $\\vec M_O = \\vec r_i \\times \\vec F_i$\n",
    "### Vector Formulation\n",
    "* We can use impulse and momentum principles to write two equations that define the particle's motion, 15-3 and 15-18 can be restated, $m \\vec v_1 + \\sum \\int_{t_1}^{t_2}{\\vec F dt} = m \\vec v_2$ and $(\\vec H_O)_1 + \\sum \\int_{t_1}^{t_2}{\\vec M_O dt} = (\\vec H_O)_2$ &emsp; (15-21)\n",
    "### Scalar Formulation\n",
    "* The above equations can be expressed in $x,y,z$ component form, if the particle is confined to move onl in the $xy$ plane then we can express the motion with $m(v_x)_1 + \\sum \\int_{t_1}^{t_2}{F_x dt} = m(v_x)_2$, $m(v_y)_1 + \\sum \\int_{t_1}^{t_2}{F_y dt} = m(v_y)_2$, and $(H_O)_1 + \\sum \\int_{t_1}^{t_2}{M_O dt} = (H_O)_2$ &emsp; (15-22)\n",
    "* First two equations represent the principle of linear impulse and momentum in $x$ and $y$ directions as discussed in section 15.1, the last equation represents the principle of angular impulse and momentum about the $z$ axis\n",
    "### Conservation of Angular Momentum\n",
    "* If the angular impulses acting on a particle are zero between $t_1$ and $t_2$ 15-18 can be reduced to $(\\vec H_O)_1 = (\\vec H_O)_2$ &emsp; (15-23)\n",
    "* This equation is called the conservation of angular momentum, it states that between $t_1$ and $t_2$ the particle's angular momentum remains constant\n",
    "* If no external impulse is applied to the particle then both linear and angular momentum will be conserved, in some cases particle's angular momentum will be conserved but linear momentum will not, an example of this is when the particle is only subjected to a central force\n",
    "* The impulsive force central force $\\vec F$ is always directed toward $O$ as the particle moves along the path, therefore the angular impulse created by $\\vec F$ about the $z$ axis is always zero, therefore angular momentum of the particle is conserved about this axis\n",
    "* We can write the conservation of angular momentum for a system of particles as $\\sum (\\vec H_0)_1 = \\sum (\\vec H_O)_2$ &emsp; (15-24)\n",
    "### Procedure for Analysis\n",
    "* When using principles of angular impulse and momentum or the conservation of angular use this procedure\n",
    "#### Free-Body Diagram\n",
    "* Draw particle's FBD to determine any axis about which angular momentum is conserved, this occurs when the moments of all the forces are parallel or pass through the axis to create zero moment between $t_1$ and $t_2$\n",
    "* Direction and sense of the particle's initial and final velocities should be established\n",
    "* Alternatively draw impulse and momentum diagrams for the particle\n",
    "#### Momentum Equations\n",
    "* Apply principle of angular impulse and momentum or the conservation of angular momentum when appropriate"
   ],
   "metadata": {
    "collapsed": false
   }
  },
  {
   "cell_type": "markdown",
   "source": [
    "## Problem 112\n",
    "A toboggan and rider, having a total mass of\n",
    "$150  kg$, enter horizontally tangent to a $90°$ circular curve\n",
    "with a velocity of $v_A = 70 km/h$. If the track is flat and\n",
    "banked at an angle of $60°$, determine the speed $v_B$ and the\n",
    "angle $\\theta$ of “descent,” measured from the horizontal in a\n",
    "vertical $xz$ plane, at which the toboggan exists at $B$. Neglect\n",
    "friction in the calculation."
   ],
   "metadata": {
    "collapsed": false
   }
  },
  {
   "cell_type": "code",
   "execution_count": null,
   "outputs": [],
   "source": [
    "from IPython.display import Image\n",
    "Image(\"pictures/dynamics_15_112.png\")"
   ],
   "metadata": {
    "collapsed": false,
    "is_executing": true
   }
  },
  {
   "cell_type": "code",
   "execution_count": null,
   "outputs": [],
   "source": [
    "from sympy import solve, symbols\n",
    "from math import acos\n",
    "import numpy as np\n",
    "vB = symbols('vB')\n",
    "mass = 150\n",
    "v_A = 70 * 1000 / 3600\n",
    "r_A = 60\n",
    "r_B = 57\n",
    "gravity = 9.81\n",
    "# H_A_z = H_B_z\n",
    "# mass * v_A * r_A = mass * v_B * r_B * np.cos(theta)\n",
    "\n",
    "# Datum at B, no V_g when the sled is at B\n",
    "# T_A + V_A = T_B + V_B\n",
    "h = (r_A - r_B) * np.tan(np.radians(60))\n",
    "v_B = solve(1/2 * mass * v_A**2 + mass * gravity * h - 1/2 * mass * vB**2 ,vB)[1]\n",
    "\n",
    "theta = np.degrees(acos(v_A * r_A/(v_B * r_B)))\n",
    "\n",
    "print(f'v_B = {v_B:.2f} m/s')\n",
    "print(f'angle of descent = {theta:.2f}\\u00b0')"
   ],
   "metadata": {
    "collapsed": false,
    "is_executing": true
   }
  },
  {
   "cell_type": "markdown",
   "source": [
    "## Section 15.8 Steady Flow of a Fluid Stream\n",
    "* A flow is steady when the flow of the fluid into the control volume is equal to the flow out\n",
    "### Principle of Impulse and Momentum\n",
    "* Consider a steady flow of a fluid steam that passes through a bent pipe, the region in the pipe and its opening is the control volume, the fluid flows into and out of the control volume with velocities $\\vec v_A$ and $\\vec v_B$, the change in the direction of the fluid flow in the control volume is caused by an impulse produced by the resultant external force exerted on the control surface by the wall of the pipe, the resultant force can be found by using the principle of impulse and momentum to the control volume\n",
    "* Consider the small amount of fluid with mass $dm$ about to enter the control volume through the opening $A$ with velocity $\\vec v_A$ at time $t$, since the flow is steady, at time $t + dt$ the same amount of fluid leaves the control volume through opening $B$ with velocity $\\vec v_B$\n",
    "* The momenta of the fluid entering and leaving the control volume are $dm \\vec v_A$ and $dm \\vec v_B$\n",
    "* During $dt$ the momentum of the fluid mass within the control volume remains constant, denoted $m \\vec v$\n",
    "* The resultant external force exerted on the control volume produces impulse $\\sum \\vec F dt$\n",
    "* We can apply the principle of linear impulse and momentum to obtain $ dm \\vec v_A = m \\vec v + \\sum \\vec F dt = dm \\vec v_B + m \\vec v$\n",
    "* Let $\\vec r, \\vec r_A, \\vec r_B$ be position vectors measured from $O$ to the geometric centers of the control volume and $A$ and $B$, then the principle of angular impulse and momentum about $O$ is $\\vec r_A \\times dm \\vec v_A + \\vec r \\times m \\vec v + \\vec r' \\times \\sum \\vec F dt = \\vec r \\times m \\vec v + \\vec r_B \\times dm \\vec v_B$\n",
    "* We can divide both sides of the two equations by $dt$ and simplify to get $\\sum \\vec F = \\frac{dm}{dt} (\\vec v_B - \\vec v_A)$ &emsp; (15-25) and $\\sum \\vec M_O = \\frac{dm}{dt] (\\vec r_V \\times \\vec v_B - \\vec r_A \\times \\vec v_A)$ &emsp; (15-26)\n",
    "* $\\frac{dm}{dt}$ is called the mass flow, and it indicates the constant amount of fluid which flows in or out of the control volume per unit of time\n",
    "* Let the cross-sectional areas and densities of the fluid at entrance $A$ be $A_A, \\rho_A$ and at exit $B$, $A_B, \\rho_B$ then for an incompressible fluid the continuity of mass requires $dm = \\rho dV = \\rho_A (ds_A A_A) = \\rho_B (ds_B A_B)$\n",
    "* Therefore during $dt$ since $v_A = \\frac{ds_A}{dt}$ and $v_B = \\frac{ds_B}{dt}$ we have $\\frac{dm}{dt} = \\rho_A v_A A_A = \\rho_B v_B A_B$ or $\\frac{dm}{dt} = \\rho v A  = \\rho Q$ &emsp; (15-27)\n",
    "* $Q = vA$ measures the volume of fluid flow per unit of time and is called the discharge or volumetric flow\n",
    "### Procedure for Analysis\n",
    "* Problems involving steady flow can be solved using this procedure\n",
    "#### Kinetic Diagram\n",
    "* Identify control volume, if it is moving draw a kinetic diagram to determine the entrance and exit velocities of the fluid flowing in and out of its openings since a relative-motion analysis of velocity will be involved\n",
    "* Measurements of $v_A$ and $v_B$ must be made by an observer fixed in an inertial frame of reference\n",
    "* Calculate mass flow using 15-27 once the velocity of the fluid flowing into the control volume is determined\n",
    "#### Free-Body Diagram\n",
    "* Draw FBD of the control volume to establish the forces $\\sum \\vec F$ that act on it, these forces include the support reactions, weight of all solid parts and fluid contained in the control volume, and the static gauge pressure forces of the fluid on entrance and exit sections, gauge pressure is the pressure measured above atmospheric pressure and if an opening is exposed to the atmosphere the pressure will be zero\n",
    "#### Equations of Steady Flow\n",
    "* Apply equations of steady flow 15-25 and 15-26 using the appropriate components of velocity and force shown on the kinematic and FBD"
   ],
   "metadata": {
    "collapsed": false
   }
  },
  {
   "cell_type": "markdown",
   "source": [
    "## Section 15.9 Propulsion with Variable Mass\n",
    "### A Control Volume That Loses Mass\n",
    "* Consider a device like a rocket which at an instant of time has mass $m$ and is moving with velocity $\\vec v$, at this same instant the amount of mass $m_e$ is expelled from the device with mass flow velocity $\\vec v_e$, for analysis let the control volume include masses $m$ and $m_e$\n",
    "* During $dt$ its velocity is increased from $\\vec v$ to $\\vec v + d\\vec v$ since mass $dm_e$ has been ejected and is therefore gained in exhaust, this increase in forward velocity does not change $\\vec v_e$ of the expelled mass as seen by a fixed observer since the mass moves with constant velocity once it is ejected\n",
    "* Impulses created by $\\sum \\vec F_{cv}$ which represents the resultant of all the external forces (drag or weight) that act on the control volume in the direction of motion, this force resultant does not include the force which causes the control volume to move forward since this force (thrust) is internal to the control volume\n",
    "* Thrust acts with equal magnitude but opposite direction on $m$ of the device and $m_e$\n",
    "* We can apply the principle of impulse and momentum to the control volume to obtain $mv - m_e v_e + \\sum F_{cv} dt = (m - dm_e)(v + dv) - (m_e + dm_e)v_e$ or $\\sum F_{cv} dt = - v dm_e + m dv - dm_e dv - v_e dm_e$\n",
    "* The third term on the right can be neglected since it a second-order differential, dividing by $dt$ we obtain $\\sum F_{cv} = m \\frac{dv}{dt} - (v+v_e) \\frac{dm_e}{dt}$\n",
    "* Velocity of the device as seen by an observer moving with the particles of the ejected mass is $v_{D/e} = (v+v_e)$ therefore we can simplify to $\\sum F_{cv} = m \\frac{dv}{dt} - v_{D/e} \\frac{dm_e}{dt}$ &emsp; (15-28)\n",
    "* $\\frac{dm_e}{dt}$ is the rate at which mass is being ejected\n",
    "* Consider a rocket that has weight $\\vec W$ and is moving upward against atmospheric drag force $\\vec F_D$, the control volume considered consists of the mass of the rocket and the mass of ejected gas\n",
    "* We can apply 15-28, $-F_D - W = \\frac{W}{g} \\frac{dv}{dt} - v_{D/e} \\frac{dm_e}{dt}$\n",
    "* The last term is the thrust $\\vec T$ which the engine exerts on the rocket, noting $dv/dt = a$ we can write $T - F_D - W = \\frac{W}{g}a$\n",
    "* A FBD can be drawn to see that this equation represents application of $\\sum \\vec F = m \\vec a$ for the rocket\n",
    "### A Control Volume That Gains Mass\n",
    "* Consider a scoop or shovel, it may gain mass as it moves forward\n",
    "* Consider a device that has mass $m$ and moves forward with velocity $\\vec v$, at this instant the device is collecting a particle stream of mass $m_i$, the flow velocity $\\vec v_i$ of this injected mass is constant and independent of the velocity $\\vec v$, $\\vec v > \\vec v_i$, control volume considered includes mass of the device and mass of the injected particles\n",
    "* There is an increase in mass $dm_i$ gained by the device and an increase in velocity $d\\vec v$ during $dt$, this increase is caused by the impulse created by $\\sum \\vec F_{cv}$, the resultant of all the external forces acting on the control volume in the direction of motion\n",
    "* The force summation does not include the retarding force of the injected mass acting on the device\n",
    "* We can apply the principle of impulse and momentum to the control volume to obtain $mv + m_i v_i + \\sum F_{cv} dt = (m +dm_i)(v+dv) + (m_i - dm_i) v_i$\n",
    "* We can follow the procedure as in the last case to obtain $\\sum F_{cv} = m \\frac{dv}{dt} + (v-v_i) \\frac{dm_i}{dt}$\n",
    "* Velocity of the device seen from an observer moving with the particles of the injected mass is $v_{D/i} = (v-v_i)$, we can simplify to $\\sum F_{cv} = m \\frac{dv}{dt} + v_{D/i} \\frac{dm_i}{dt}$ &emsp; (15-29)\n",
    "* $\\frac{dm_i}{dt}$ is the rate of mass injected into the device\n",
    "* The last term represents the magnitude of force $\\vec R$ which is the force the injected mass exerts on the device, noting $dv/dt = a$ we can further simplify to $\\sum F_{cv} - R = ma$, this again is an application of $\\sum \\vec F = m \\vec a$\n",
    "* As in the case of steady flow, problems which are solved using 15-28 and 15-29 should be accompanied by an identified control volume and FBD, with the diagram you can determine $\\sum F_{cv}$ and isolate the force exerted on the device by the particle stream"
   ],
   "metadata": {
    "collapsed": false
   }
  },
  {
   "cell_type": "markdown",
   "source": [
    "## Problem 136\n",
    "The rocket car has a mass of $2 Mg$ (empty) and\n",
    "carries $120 kg$ of fuel. If the fuel is consumed at a constant\n",
    "rate of $6 kg/s$ and ejected from the car with a relative\n",
    "velocity of $800 m/s$, determine the maximum speed attained\n",
    "by the car starting from rest. The drag resistance due to the\n",
    "atmosphere is $F_D = (6.8v^2) N$, where $v$ is the speed in $m/s$."
   ],
   "metadata": {
    "collapsed": false
   }
  },
  {
   "cell_type": "code",
   "execution_count": null,
   "outputs": [],
   "source": [
    "from IPython.display import Image\n",
    "Image(\"pictures/dynamics_15_136.png\")"
   ],
   "metadata": {
    "collapsed": false,
    "is_executing": true
   }
  },
  {
   "cell_type": "markdown",
   "source": [
    "$\\sum F_s = m \\frac{dv}{dt} - v_{D/e} c$\n",
    "$$$$\n",
    "$F = F_Dv^2 \\Rightarrow$$ -F_D v^2 = (m - ct)\\frac{dv}{dt} - v_{D/e} c$\n",
    "$$$$\n",
    "$\\int_0^t {\\frac{dv}{v_{D/e} c - F_D v^2}} = \\int_0^t {\\frac{dt}{m - ct}}$\n",
    "$$$$\n",
    "$\\frac{1}{2 \\sqrt{v_{D/e} c F_D}} \\ln{\\frac{\\sqrt{\\frac{v_{D/e} c}{F_D}} + v}{ \\sqrt{\\frac{v_{D/e} c }  {F_D} - v}} = -\\frac{1}{c} \\ln{\\frac{m-ct} {m}     }$\n",
    "$$$$\n"
   ],
   "metadata": {
    "collapsed": false
   }
  },
  {
   "cell_type": "code",
   "execution_count": null,
   "outputs": [],
   "source": [
    "from sympy import solve, symbols, integrate,log\n",
    "time,v = symbols('time v')\n",
    "c = 6\n",
    "fuel_mass = 120\n",
    "t = fuel_mass/c\n",
    "v_D_e = 800\n",
    "car_mass = 2000\n",
    "total_mass = fuel_mass + car_mass\n",
    "F_D = 6.8\n",
    "integral_1 = integrate(1/(v_D_e * c - F_D * v**2), (v,0,v))\n",
    "integral_2 = integrate(1/(total_mass - c * time),(time,0,t))\n",
    "#test = solve(integral_1 + integral_2, v)\n",
    "# print(integrate(1/(v_D_e * c - F_D * v**2), (v,0,v)))\n",
    "# print(integrate(1/(total_mass - c * time),(time,0,t)))\n",
    "left_side = 1 / (2* np.sqrt(v_D_e * c * F_D)) * log(   (np.sqrt(v_D_e * c/F_D) + v)/(np.sqrt(v_D_e * c/F_D) - v)    )\n",
    "right_side = - 1/c * log((total_mass - c * t)/total_mass)\n",
    "\n",
    "v = solve(left_side - right_side,v)[0]\n",
    "print(f'v = {v:.2f} m/s')"
   ],
   "metadata": {
    "collapsed": false,
    "is_executing": true
   }
  }
 ],
 "metadata": {
  "kernelspec": {
   "display_name": "Python 3",
   "language": "python",
   "name": "python3"
  },
  "language_info": {
   "codemirror_mode": {
    "name": "ipython",
    "version": 2
   },
   "file_extension": ".py",
   "mimetype": "text/x-python",
   "name": "python",
   "nbconvert_exporter": "python",
   "pygments_lexer": "ipython2",
   "version": "2.7.6"
  }
 },
 "nbformat": 4,
 "nbformat_minor": 0
}
