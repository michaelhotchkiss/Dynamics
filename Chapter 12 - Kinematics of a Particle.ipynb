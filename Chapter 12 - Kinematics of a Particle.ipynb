{
 "cells": [
  {
   "cell_type": "markdown",
   "source": [
    "# Chapter 12 Kinematics of a Particle"
   ],
   "metadata": {
    "collapsed": false
   }
  },
  {
   "cell_type": "markdown",
   "source": [
    "## Section 12.1 Introduction\n",
    "* Mechanics - branch of physical sciences that deals with state of rest or motion of bodies subjected to the action of forces\n",
    "* Dynamics - deals with the accelerated motion of a body\n",
    "* Two subjects of dynamics\n",
    "    * Kinematics - study of the geometry of the motion\n",
    "    * Kinetics - study of the forces that cause the motion\n",
    "### Problem Solving\n",
    "1. Read problem and correlate problem to theory\n",
    "2. Draw diagrams, organize data\n",
    "3. Establish coordinate system and apply principles\n",
    "4. Solve equations, convert units if needed and write answer\n",
    "5. Check to see answer is reasonable\n",
    "6. Review the problem and explore other ways of solving the problem"
   ],
   "metadata": {
    "collapsed": false
   }
  },
  {
   "cell_type": "markdown",
   "source": [
    "## Section 12.2 Rectilinear Kinematics: Continuous Motion\n",
    "* Particle has a mass but negligible size and shape\n",
    "* Kinematics of a particle is characterized by specifying at any given instant the particle's position, velocity, and acceleration\n",
    "### Position\n",
    "* Straight-line path of a particle is defined by single coordinate axis $s$, origin $O$ on the path is a fixed point and from this point,$O$, the position coordinate $s$ is used to specify the location of the particle at any given instant\n",
    "* Magnitude of $s$ is the distance from $O$ to the particle, and the sense of direction is defined by the sign of $s$\n",
    "* Position is a vector quantity since it has magnitude and direction, but in this case it is just represented by scalar,$s$, since the direction always remains along the coordinate axis\n",
    "### Displacement\n",
    "* Displacement of a particle is the change in its position, $\\Delta s = s' - s$\n",
    "* $\\Delta s$ can be positive or negative depending on the two positions\n",
    "* Displacement of a particle is a vector quantity, and should be distinguished from the distance the particle travels,\n",
    "* The distance traveled is a positive scalar and represents the total length of the path the particle travels\n",
    "### Velocity\n",
    "* When a particle moves $\\Delta s$ during time interval $\\Delta t$ the average velocity of the particle is $v_{avg} = \\frac{\\Delta s}{\\Delta t}$\n",
    "* When we take $\\Delta t \\rightarrow 0$ then we can find the instantaneous velocity, $v = \\lim_{\\Delta t \\rightarrow 0}(\\frac{\\Delta s}{\\Delta t}) \\Rightarrow v = \\frac{ds}{dt}$ &emsp; (12-1)\n",
    "* The sign that determines the sense of the velocity is the sign of $\\Delta s$, since $\\Delta t$ is always positive\n",
    "* Speed is the magnitude of the velocity\n",
    "* Average speed is a positive scalar and is defined as the total distance traveled by a particle,$s_T$, divided by the elapsed time $\\Delta t$, $(v_{sp})_{avg} = \\frac{s_T}{\\Delta t}$\n",
    "### Acceleration\n",
    "* Average acceleration of a particle during $\\Delta t$ is $a_{avg} = \\frac{\\Delta v}{\\Delta t}$, $\\Delta v$ is the difference in the velocity during $\\Delta t$\n",
    "* Instantaneous acceleration at time $t$ is a vector that is determined by taking $\\Delta t \\rightarrow 0$, $a = \\lim_{\\Delta t \\rightarrow 0}(\\frac{\\Delta v}{\\Delta t}) \\Rightarrow a = \\frac{dv}{dt}$ &emsp; (12-2)\n",
    "* We can substitute 12-1 into 12-2 to obtain $a = \\frac{d^2s}{dt^2}$\n",
    "* The average and instantaneous acceleration can be positive or negative\n",
    "* The particle is decelerating when the particle is slowing down, i.e. speed is decreasing, when this is the case $\\Delta v$ is negative and $a$ is also negative\n",
    "* Differential relation involving displacement, velocity, acceleration along a path can be obtained by eliminating $dt$ between 12-1 and 12-2, $dt = \\frac{ds}{v} = \\frac{dv}{a} \\Rightarrow a ds = v dv$ &emsp; (12-3)\n",
    "### Constant Acceleration\n",
    "* If the acceleration is constant, each kinematic equation, $a_c = \\frac{dv}{dt}$, $v = \\frac{ds}{dt}$, and $a_c ds = v dv$ can be integrated to obtain formulas which relate $a_c$, $v$, $s$ and $t$\n",
    "### Velocity as a Function of Time\n",
    "* Integrate $a_c = \\frac{dv}{dt}$ with assumption $v = v_0$ when $t=0$, $\\int_{v_0}^v dv = \\int_0^t{a_c dt} \\Rightarrow v = v_0 + a_c t$ &emsp; (12-4)\n",
    "### Position as a Function of Time\n",
    "* Integrate $v = \\frac{ds}{dt} = v_0 + a_c t$ with assumption $s = s_0$ when $t=0$, $\\int_{s_0}^s ds = \\int_0^t{(v_0 + a_c t)dt} \\Rightarrow s = s_0 + v_0 t + \\frac{1}{2} a_c t^2$ &emsp; (12-5)\n",
    "### Velocity as a Function of Position\n",
    "* Solve for $t$ either by using 12-4 and substituting it into 12-5 or integrate $v dv = a_c ds$ with assumption $v= v_0$ $s=s_0$, $\\int_{v_0}^v {v dv} = \\int_{s_0}^s{a_c ds} \\Rightarrow v^2 = v^2_0 + 2 a_c(s-s_0)$ &emsp; (12-6)\n",
    "* The signs of $s_0$, $v_0$, and $a_c$ are all determined from positive direction of the $s$ axis indicated by the arrow written at the left of each equation\n",
    "### Procedure for Analysis\n",
    "* Establish a position coordinate $s$ along the path and specify fixed origin $O$ and positive direction\n",
    "* Vector quantities can be represented as algebraic scalars, sense of $s$, $v$, and $a$ is defined by their algebraic sign\n",
    "* Positive sense for each of these scalars can be indicated by an arrow shown alongside each kinematic equation as it is applied\n",
    "* If a relation is known between any two of the four variables ($s,t,v,a$) then a third variable can be obtained using one of the kinematic equations since each equation relates three variables\n",
    "* When integration is performed it is necessary that the position and velocity be known at a given instant to calculate the constant of integration if an indefinite integral is used or the limits of integration if a definite integral is used\n",
    "* Equations 12-4 - 12-6 only apply when acceleration is constant and initial conditions are $s=s_0$ and $v=v_0$ when $t=0$"
   ],
   "metadata": {
    "collapsed": false
   }
  },
  {
   "cell_type": "markdown",
   "source": [
    "## Problem 7\n",
    "A particle moves along a straight line such that its\n",
    "position is defined by $s = (t^2 - 6t + 5) m$. Determine the\n",
    "average velocity, the average speed, and the acceleration of\n",
    "the particle when $t = 6 s$.\n",
    "Derive formulas for velocity and acceleration. Plot\n",
    "position versus time, velocity versus time, and\n",
    "acceleration versus time from $t=0$ to $t=6$"
   ],
   "metadata": {
    "collapsed": false
   }
  },
  {
   "cell_type": "code",
   "execution_count": 27,
   "outputs": [
    {
     "name": "stdout",
     "output_type": "stream",
     "text": [
      " average velocity = 0.0 m/s\n",
      " average speed = 3.0 m/s\n",
      " average acceleration = 2.0 m/s^2\n"
     ]
    },
    {
     "data": {
      "text/plain": "<Figure size 864x216 with 3 Axes>",
      "image/png": "[encoded data removed]"
     },
     "metadata": {
      "needs_background": "light"
     },
     "output_type": "display_data"
    }
   ],
   "source": [
    "from sympy import symbols, diff, pprint, lambdify\n",
    "import numpy as np\n",
    "import matplotlib.pyplot as plt\n",
    "t = symbols('t')\n",
    "delta_t = 6\n",
    "\n",
    "s = t**2 - 6 *t + 5\n",
    "velocity = diff(s,t)\n",
    "acceleration = diff(velocity,t)\n",
    "s_t = lambdify(t,s)\n",
    "v_t = lambdify(t,velocity)\n",
    "a_t = lambdify(t,acceleration)\n",
    "v_avg = (s_t(6) - s_t(0))/delta_t\n",
    "a_avg = (v_t(6) - v_t(0))/delta_t\n",
    "speed_avg = (s_t(6) - s_t(3) + s_t(0) - s_t(3))/delta_t\n",
    "pprint(f' average velocity = {v_avg} m/s')\n",
    "pprint(f' average speed = {speed_avg} m/s')\n",
    "pprint(f' average acceleration = {a_avg} m/s^2')\n",
    "\n",
    "times = np.linspace(0,6)\n",
    "positions = s_t(times)\n",
    "velocities = v_t(times)\n",
    "accelerations = np.repeat(acceleration,50)\n",
    "fig, axs = plt.subplots(1, 3, figsize=(12, 3))\n",
    "axs[0].plot(times,positions)\n",
    "axs[0].set_title('Position v Time')\n",
    "axs[1].plot(times,velocities)\n",
    "axs[1].set_title('Velocity v Time')\n",
    "axs[2].plot(times,accelerations)\n",
    "axs[2].set_title('Acceleration v Time')\n",
    "plt.show()"
   ],
   "metadata": {
    "collapsed": false,
    "ExecuteTime": {
     "end_time": "2023-08-28T17:29:14.711771100Z",
     "start_time": "2023-08-28T17:29:14.509312200Z"
    }
   }
  },
  {
   "cell_type": "markdown",
   "source": [
    "## Problem  10\n",
    "A particle moves along a straight line with an\n",
    "acceleration of $a = 5/{(3s^{1/3} + s^{5/2}}) m/s^{2} $ ,\n",
    "where $s$ is in meters. Determine the particle’s velocity\n",
    "when $s = 2 m$, if it starts from rest when $s = 1 m$.\n",
    "Use a numerical method to evaluate the integral.\n",
    "Plot velocity as a function of position between $1 m$ and $2 m$\n",
    "Add symbolic solution"
   ],
   "metadata": {
    "collapsed": false
   }
  },
  {
   "cell_type": "code",
   "execution_count": null,
   "outputs": [
    {
     "name": "stdout",
     "output_type": "stream",
     "text": [
      "5/(3*s**0.333333333333333 + s**2.5)\n"
     ]
    }
   ],
   "source": [
    "from sympy import symbols,integrate, pprint, simplify\n",
    "import numpy as np\n",
    "s = symbols('s')\n",
    "a = 5 / (3*s**(1/3) + s**(5/2))\n",
    "test = simplify(a)\n",
    "print(test)\n",
    "v = integrate(test,s)\n",
    "\n",
    "pprint(integrate(test,s))"
   ],
   "metadata": {
    "collapsed": false,
    "is_executing": true,
    "ExecuteTime": {
     "start_time": "2023-08-28T17:29:14.771611Z"
    }
   }
  },
  {
   "cell_type": "code",
   "execution_count": null,
   "outputs": [],
   "source": [
    "from sympy import symbols, pprint\n",
    "import scipy.integrate as integrate\n",
    "from scipy.special import hyp2f1\n",
    "import numpy as np\n",
    "import matplotlib.pyplot as plt\n",
    "def a(s):\n",
    "    return 5 / ((3*s)**(1/3) + s**(5/2))\n",
    "velocities = []\n",
    "positions = np.linspace(1,2,1000)\n",
    "for position in positions:\n",
    "    velocities.append(np.sqrt(2 * integrate.quad(a,1,position)[0]))\n",
    "def v(s):\n",
    "    hyper = hyp2f1(4/13,1,17/13,-1**(13/6)/3**(1/3))\n",
    "    return np.sqrt(5 * 3**(2/3) * (s**(2/3) * hyp2f1(4/13,1,17/13,-s**(13/6)/3**(1/3))- hyper))\n",
    "function_label = r'$v(s) = \\sqrt{5 \\cdot 3^{2/3}(s^{2/3} {_2F_1}(\\frac{4}{13}, 1; \\frac{17}{13}; -\\frac{s^{13/6}}{3^{1/3}} - {_2F_1}(\\frac{4}{13}, 1; \\frac{17}{13}; -\\frac{1^{13/6}}{3^{1/3}}   ) }$'\n",
    "fig, axs = plt.subplots(1, 2, figsize=(16, 5))\n",
    "axs[0].plot(positions,v(positions))\n",
    "axs[0].set_title('Velocity v Time')\n",
    "axs[1].plot(positions,a(positions))\n",
    "axs[1].set_title('Acceleration v Time')\n",
    "axs[0].text(1.55,0.4, function_label, ha='center',va='center' )\n",
    "axs[0].text(1,v(2),r'$v(s=2 \\mathrm{ m}) = ' + f'{v(2):.2f}' + r'$ m/s', ha='left',va='top')\n",
    "axs[0].plot([1,2],[v(2),v(2)], linestyle='dashed')\n",
    "plt.show()"
   ],
   "metadata": {
    "collapsed": false,
    "is_executing": true
   }
  },
  {
   "cell_type": "markdown",
   "source": [
    "## Section 12.3 Rectilinear Kinematics: Erratic Motion\n",
    "* If a particle is erratic or changing motion then its position, velocity, acceleration cannot be defined by one continuous mathematical function along the path, this particle needs a series of functions to specify the motion at different intervals\n",
    "### Graphs of position, velocity, acceleration versus time\n",
    "* For velocity and position versus time graphs use equation, $v = \\frac{ds}{dt}$ since it relates $s$ and $t$ to $v$, this equation shows that the slope of the $s$ vs $t$ graph is the velocity\n",
    "* We can measure the slope on the $s$ vs $t$ graph when $t = t_1$, the velocity is $v_1$, we can create the $v$ vs $t$ graph by plotting this and all slopes at each instant\n",
    "* We can create the $a$ vs $t$ graph from the $v$ vs $t$ graph using $\\frac{dv}{dt} = a$ and the slope of the $v$ vs $t$ graph is the acceleration\n",
    "* If the $s$ vs $t$ curve for each interval of motion can be expressed as $s = s(t)$ then the equation for $v$ vs $t$ graph is obtained by differentiating this function with respect to $t$ since $v = \\frac{ds}{dt}$, the equation for $a$ vs $t$ graph can be obtained by differentiating $v = v(t)$ since $a = \\frac{dv}{dt}$\n",
    "* If $a$ vs $t$ graph is know we can create the $v$ vs $t$ graph using $ a = \\frac{dv}{dt} \\Rightarrow \\Delta v = \\int {a dt}$ (change in velocity = area under $a$ vs $t$ graph), to create the $v$ vs $t$ graph we start with $v_0$ and add the $\\Delta v$ obtained from the $a$ vs $t$ graph, $v_1 = v_0 + \\Delta v$ and so on\n",
    "* If $v$ vs $t$ graph is known we can determine the $s$ vs $t$ graph using $v = \\frac{ds}{dt} \\Rightarrow \\Delta s = \\int {v dt}$ (displacement = area under $v$ vs $t$ graph ), we create the $s$ vs $t$ graph by starting with $s_0$ and adding $\\Delta s$ determined by $v$ vs $t$ graph\n",
    "* If segments of $a$ vs $t$ graph are described by a series of equations, each equation can be integrated to calculate equations which describe the segments of the $v$ vs $t$ graph, the same thing can be done to find $s$ vs $t$ graph\n",
    "### Graphs of velocity, acceleration versus position\n",
    "* If the $a$ vs $s$ graph is known then the points on the $v$ vs $s$ graph can be determined using $v dv = a ds$, integrate this between $v= v_0$ at $s = s_0$ and $v= v_1$ at $s = s_1$ to obtain $\\frac{1}{2}(v_1^2 - v_0^2) = \\int_{s_0}^{s_1} {a ds}$\n",
    "* We can calculate this integral and if $v_0$ at $s_0 = 0$ is known then $v_1 = (2 (\\int_0^{s_1}{a ds}) + v_0^2)^{\\frac{1}{2}}$, then we can calculate the next point using same method\n",
    "* If the $v$ vs $s$ graph is known we can calculate the acceleration at any point $s$ by using $a ds = v dv \\Rightarrow a = v (\\frac{dv}{ds})$ (acceleration = velocity times slope of $v$ vs $s$ graph)\n",
    "* Therefore at any point $(s,v)$ the slope $\\frac{dv}{ds}$ of the $v$ vs $s$ graph is measured, then with $v$ and $\\frac{dv}{ds}$ known we can calculate $a$\n",
    "* The $v$ vs $t$ can be determined from $a$ vs $s$ graph or vice versa if we approximate the known graph in several intervals with functions, $ v = f(s)$ or $ a = g(s)$ and then using $a ds = v dv$ to obtain the other graph"
   ],
   "metadata": {
    "collapsed": false
   }
  },
  {
   "cell_type": "markdown",
   "source": [
    "## Problem 43\n",
    "The motion of a jet plane just after landing on a\n",
    "runway is described by the $a$–$t$ graph. Determine the time $t$'\n",
    "when the jet plane stops. Construct the $v$–$t$ and $s$–$t$ graphs\n",
    "for the motion. Here $s = 0$, and $v = 300 ft/s$ when $t = 0$."
   ],
   "metadata": {
    "collapsed": false
   }
  },
  {
   "cell_type": "code",
   "execution_count": null,
   "outputs": [],
   "source": [
    "from IPython.display import Image\n",
    "Image(\"pictures/dynamics_12_43.png\")"
   ],
   "metadata": {
    "collapsed": false,
    "is_executing": true
   }
  },
  {
   "cell_type": "code",
   "execution_count": null,
   "outputs": [],
   "source": [
    "from sympy import integrate, symbols,solve,lambdify\n",
    "import matplotlib.pyplot as plt\n",
    "t,v,s = symbols('t v s')\n",
    "\n",
    "# integrate dv = a dt, a =0\n",
    "# 300 to v, 0 to t\n",
    "v_dv_1 = integrate(1,(v,300,v))\n",
    "a_dt_1 = integrate(0,(t,0,t))\n",
    "v_1 = solve(v_dv_1 - a_dt_1,v)[0]\n",
    "\n",
    "a_2 = t - 30    #10 to 20 seconds\n",
    "# integrate dv = a dt, a = t - 30\n",
    "# 300 to v, 10 to t\n",
    "v_dv_2 = integrate(1,(v,300,v))\n",
    "a_dt_2 = integrate(a_2,(t,10,t))\n",
    "v_2 = lambdify(t,solve(v_dv_2 - a_dt_2,v)[0])\n",
    "v_2_sym = solve(v_dv_2 - a_dt_2,v)[0]\n",
    "\n",
    "a_3 = -10 #20 to t'\n",
    "# integrate dv = a dt, a = -100\n",
    "# 150 to v, 20 to t'\n",
    "v_dv_3 = integrate(1,(v,v_2(20),v))\n",
    "a_dt_3 = integrate(-10,(t,20,t))\n",
    "v_3 = lambdify(t,solve(v_dv_3 - a_dt_3,v)[0])\n",
    "v_3_sym = solve(v_dv_3 - a_dt_3,v)[0]\n",
    "# t_prime = solve(v_3,t)[0]\n",
    "# print(t_prime)\n",
    "\n",
    "t_1 = np.linspace(0,10,10)\n",
    "t_2 = np.linspace(10,20,10)\n",
    "t_3 = np.linspace(20,35,15)\n",
    "v_1_values = np.repeat(v_1,10)\n",
    "v_2_values = []\n",
    "for t in t_2:\n",
    "    v_2_values.append(v_2(t))\n",
    "v_3_values = []\n",
    "for t in t_3:\n",
    "    v_3_values.append(v_3(t))\n",
    "v_all = np.hstack((v_1_values,v_2_values,v_3_values))\n",
    "t_all = np.hstack((t_1,t_2,t_3))\n",
    "\n",
    "t = symbols('t')\n",
    "\n",
    "# integrate ds = v dt, v = v_2_sym\n",
    "# 0 to s, 0 to t\n",
    "s_ds_1 = integrate(1,(s,0,s))\n",
    "v_dt_1 = integrate(300,(t,0,t))\n",
    "s_1 = lambdify(t,solve(s_ds_1 - v_dt_1,s)[0])\n",
    "\n",
    "# integrate ds = v dt, v = 300\n",
    "# 3000 to s, 10 to t\n",
    "s_ds_2 = integrate(1,(s,s_1(10),s))\n",
    "v_dt_2 = integrate(v_2_sym,(t,10,t))\n",
    "s_2 = lambdify(t,solve(s_ds_2 - v_dt_2,s)[0])\n",
    "\n",
    "# integrate ds = v dt, v = 300\n",
    "# 0 to s, 10 to 35\n",
    "s_ds_3 = integrate(1,(s,s_2(20),s))\n",
    "v_dt_3 = integrate(v_3_sym,(t,20,t))\n",
    "s_3 = lambdify(t,solve(s_ds_3 - v_dt_3,s)[0])\n",
    "\n",
    "s_1_values = []\n",
    "s_2_values = []\n",
    "s_3_values = []\n",
    "for t in t_1:\n",
    "    s_1_values.append(s_1(t))\n",
    "for t in t_2:\n",
    "    s_2_values.append(s_2(t))\n",
    "for t in t_3:\n",
    "    s_3_values.append(s_3(t))\n",
    "s_all = np.hstack((s_1_values,s_2_values,s_3_values))\n",
    "\n",
    "\n",
    "fig, axs = plt.subplots(1, 2, figsize=(12, 3))\n",
    "axs[0].plot(t_all,s_all)\n",
    "axs[0].set_title('Position v Time')\n",
    "axs[1].plot(t_all,v_all)\n",
    "axs[1].set_title('Velocity v Time')\n",
    "axs[1].text(1,v_3(35),r'$v(t=35 \\mathrm{ s}) = ' + f'{v_3(35):.2f}' + r'$ m/s', ha='left',va='bottom')\n",
    "axs[1].plot([1,35],[v_3(35),v_3(35)], linestyle='dashed')\n",
    "plt.show()"
   ],
   "metadata": {
    "collapsed": false,
    "is_executing": true
   }
  },
  {
   "cell_type": "markdown",
   "source": [
    "## Section 12.4 General Curvilinear Motion\n",
    "* Curvilinear motion occurs when a particles moves along a curved path\n",
    "* Path is usually in 3D therefore we must use vector analysis to formulate the particle's position, velocity, and acceleration\n",
    "### Position\n",
    "* Consider a particle at a point on a space curve defined by a path function $s = s(t)$, the position of the particle measured from the fixed point $O$ will be defined by the position vector  $\\vec r = \\vec r(t)$, magnitude and direction of the vector can change as the particle moves along the curve\n",
    "### Displacement\n",
    "* During a small time interval $\\Delta t$ let a particle move $\\Delta s$ along the curve to a new position that is defined by $\\vec r ' = \\vec r + \\Delta \\vec r$, $\\Delta r$ represents the change in the particle's position and is determined by $\\Delta \\vec r = \\vec r ' - \\vec r$\n",
    "### Velocity\n",
    "* The average velocity during $\\Delta t$ is $\\vec v_{avg} = \\frac{\\Delta \\vec r}{\\Delta t}$\n",
    "* The instantaneous velocity is found by taking $\\Delta t \\rightarrow 0$, because of this the direction of $\\Delta \\vec r$ approaches tangent to the curve, $\\vec v = \\lim_{\\Delta t \\rightarrow 0} {\\frac{\\Delta \\vec r}{\\Delta t}} \\Rightarrow \\vec v = \\frac{d\\vec r}{dt}$ &emsp; (12-7)\n",
    "* Since $d\\vec r$ is tangent to the curve, the direction of $\\vec v$ is tangent to the curve\n",
    "* Magnitude of $\\vec v$, or speed, can be found by seeing that as $\\Delta t \\rightarrow 0$ then $\\Delta \\vec r \\rightarrow \\Delta s$, therefore $v = \\lim_{\\Delta t \\rightarrow 0}{\\frac{\\Delta \\vec r}{\\Delta t}} = \\lim_{\\Delta t \\rightarrow 0}{\\frac{\\Delta s}{\\Delta t}} \\Rightarrow v = \\frac{ds}{dt}$ &emsp; (12-8)\n",
    "* Speed is found by differentiating the path function $s$ with respect to $t$\n",
    "### Acceleration\n",
    "* Let a particle have velocity $\\vec v$ at time $t$ and velocity $\\vec v ' = \\vec  v + \\Delta \\vec v$ at $t+ \\Delta t$, then the average acceleration of the particle during $\\Delta t$ is $\\vec a_{avg} = \\frac{\\Delta \\vec v}{\\Delta t}$\n",
    "* $\\Delta \\vec v = \\vec v ' - \\vec v$, plot the two vectors from a fixed point $O'$ such that their heads touch points on a curve, this curve is called a hodograph, and it describes the locus of points for the arrowhead of the velocity vector in the same way as path $s$ describes the locus of points for the arrowhead of the position vector\n",
    "* Instantaneous acceleration can be found by letting $\\Delta t \\rightarrow 0$, in the limit $\\Delta \\vec v$ will approach tangent to the hodograph and $\\vec a = \\lim_{\\Delta t \\rightarrow 0}{\\frac{\\Delta \\vec v}{\\Delta t}} \\Rightarrow \\vec a = \\frac{d\\vec v}{dt}$ &emsp; (12-9)\n",
    "* Substitute 12-7 into 12-9 to obtain $\\vec a = \\frac{d^2 \\vec r}{d t^2}$\n",
    "* From the definition of derivative, $\\vec a$ acts tangent to the hodograph, and in general is not tangent to hte path of motion\n",
    "* $\\vec v$ is always tangent to the path $s$"
   ],
   "metadata": {
    "collapsed": false
   }
  },
  {
   "cell_type": "markdown",
   "source": [
    "## Section 12.5 Curvilinear Motion: Rectangular Components\n",
    "* Motion of a particle can be described along a path in terms of its $x,y,z$ coordinates\n",
    "### Position\n",
    "* If a particle is at point $(x,y,z)$ on curved path $s$ then its location can be defined by position vector, $\\vec r = x \\hat i + y \\hat j + z \\hat k$ &emsp; (12-10)\n",
    "* When the particle moves the $x,y,z$ components will be functions of time, so that $\\vec r = \\vec r(t)$\n",
    "* Magnitude of $\\vec r$ can be determined by, $ r = \\sqrt{x^2 + y^2 + z^2}$\n",
    "* Direction of $\\vec r$ is determined by the unit vector $\\vec u_r = \\frac{\\vec r}{r}$\n",
    "### Velocity\n",
    "* The first derivative of $\\vec r$ is the velocity of the particle, $\\vec v = \\frac{d\\vec r}{dt} = \\frac{d}{dt}(x\\hat i) + \\frac{d}{dt}(y\\hat j + \\frac{d}{dt}(z\\hat k))$\n",
    "* When taking the derivative you must account for changes in magnitude and the direction of each of the vector's components, $\\frac{d}{dt}(x\\hat i) = \\frac{dx}{dt} \\hat i + x \\frac{d\\hat i}{dt}$, same for $y,z$\n",
    "* The second term on the right is zero, if the $x,y,z$ reference frame is fixed and therefore the direction and the magnitude of $\\hat i$ does not change with time\n",
    "* $\\vec v = \\frac{d\\vec r}{dt} = v_x \\hat i + v_y \\hat j + v_z \\hat k$ &emsp; (12-11)\n",
    "* $v_x = \\dot{x}$, $v_y = \\dot y$, $v_z = \\dot z$ &emsp; (12-12)\n",
    "* The dot notation represents the first time derivatives of $x,y,z$\n",
    "* The velocity has magnitude, $v = \\sqrt{v_x^2 + v_y^2 + v_z^2}$, and direction is specified by unit vector, $\\vec u_v = \\frac{\\vec v}{v}$, this direction is always tangent to the path\n",
    "### Acceleration\n",
    "* Acceleration is found by taking the first time derivative of 12-11 or second time derivative of 12-10, $\\vec a = \\frac{d\\vec v}{dt} = a_x \\hat i + a_y \\hat j + a_z \\hat k$ &emsp; (12-13)\n",
    "* $a_x = \\dot v_x = \\ddot x$, $a_y = \\dot v_y = \\ddot y$, $a_z = \\dot v_z = \\ddot z$ &emsp; (12-14)\n",
    "* These represent the first time derivatives of $v_x , v_y, v_z$ or second time derivatives of $x,y,z$\n",
    "* Acceleration has magnitude, $a = \\sqrt{a_x^2 + a_y^2 + a_z^2}$ and direction is specified by unit vector $\\vec u_a = \\frac{\\vec a}{a}$\n",
    "* $\\vec a$ represents the time rate of change in magnitude and direction of the velocity, usually $\\vec a$ will not be tangent to the path\n",
    "\n",
    "### Procedure for Analysis\n",
    "* Use a rectangular coordinate system to solve problems for which the motion can conveniently be expressed in terms of $x,y,z$ components\n",
    "* Rectilinear motion occurs along each coordinate axis, the motion along each axis is found using $v = \\frac{ds}{dt}$ and $a = \\frac{dv}{dt}$ or if motion is not expressed as a function of time use $a ds = v dv$\n",
    "* In 2D the equation of path $y = f(x)$ is used to relate $x$ and $y$ components of velocity and acceleration by applying chain rule\n",
    "* Once $x,y,z$ components of $\\vec v$ and $\\vec a$ have been determined, the magnitudes of these vectors are found from Pythagorean theorem, and their coordinate direction angles from the components of their unit vectors"
   ],
   "metadata": {
    "collapsed": false
   }
  },
  {
   "cell_type": "markdown",
   "source": [
    "## Section 12.6 Motion of a Projectile\n",
    "* Free-flight motion of a projectile is usually studied in rectangular coordinates\n",
    "* Consider a projectile launched at point $(x_0,y_0)$ with initial velocity $\\vec {v_0}$ with components $\\vec {(v_0)_x}$ and $\\vec {(v_0)_y}$, when air resistance is neglected the only force acting on the projectile is its weight, therefore the projectile has to have constant downward acceleration of approximately, $a_c = g =9.81 m/s^2$\n",
    "### Horizontal Motion\n",
    "* $a_x = 0$ therefore the application of the constant acceleration equations 12-4 - 12-6 yields\n",
    "    * $v = v_0 + a_c t \\Rightarrow v_x = (v_0)_x$\n",
    "    * $x = x_0 + v_0 t + \\frac{1}{2} a_c t^2 \\Rightarrow x = x_0 + (v_0)_x t$\n",
    "    * $v^2 = v_0^2 + 2 a_c (x - x_0) \\Rightarrow v_x = (v_0)_x$\n",
    "* The first and last equations indicate the horizontal component of velocity always remains constant during motion\n",
    "### Velocity Motion\n",
    "* Positive $y$ axis is directed upward then $a_y = -g$\n",
    "* Apply equations 12-4 - 12-6\n",
    "    * $v = v_0 + a_c t \\Rightarrow v_y = (v_0)_y -gt$\n",
    "    * $y = y_0 + v_0 t + \\frac{1}{2} a_c t^2 \\Rightarrow y = y_0 + (v_0)_y t - \\frac{1}{2} g t^2$\n",
    "    * $v^2 = v_0^2 + 2 a_c (y - y_0) \\Rightarrow v_y^2 = (v_0)_y^2 - 2 g(y-y_0)$\n",
    "* The last equation can be formulated on the basis of eliminating $t$ from the first two equations and therefore only two of the above three equations are independent of one another\n",
    "* Problems involving the motion of a projectile can have at most 3 unknowns since only three independent equations can be written, one equation in the horizontal direction, two in the vertical direction, once $\\vec v_x$ and $\\vec v_y$ are obtained, the resultant velocity $v$ which is always tangent to the path, can be determined by the vector sum\n",
    "### Procedure for Analysis\n",
    "* Establish fixed $x,y$ coordinate axes and sketch trajectory of the particle, between any two points on the path specify the problem data and identify the three unknowns, in all cases the acceleration of gravity acts downward and equals $9.81 m/s^2$, the particle's initial and final velocities should be represented in terms of their $x$ and $y$ components\n",
    "* Remember positive and negative position, velocity, and acceleration components always act in accordance with their associated coordinate directions\n",
    "* Choose which 3 of the 4 equations should be applied between the two points  on the path to obtain the most direct solution to the problem, choose the equations based on known data and what is to be determined\n",
    "* The velocity in the horizontal direction is constant, $v_x = (v_0)_x$ and $x = x_0 + (v_0)_x t$\n",
    "* In the vertical direction only two of the three equations can be used for solution, $v_y = (v_0)_y + a_c t$, $y = y_0 + (v_0)_y t + \\frac{1}{2} a_c t^2$, $v_y^2 = (v_0)_y^2 + 2 a_c (y-y_0)$"
   ],
   "metadata": {
    "collapsed": false
   }
  },
  {
   "cell_type": "markdown",
   "source": [
    "## Problem 99\n",
    "The missile at $A$ takes off from rest and rises\n",
    "vertically to $B$, where its fuel runs out in $8 s$. If the\n",
    "acceleration varies with time as shown, determine\n",
    "the missile’s height $h_B$ and speed $v_B$. If by internal controls\n",
    "the missile is then suddenly pointed 45° as shown, and\n",
    "allowed to travel in free flight, determine the maximum\n",
    "height attained, $h_C$, and the range $R$ to where it crashes at $D$."
   ],
   "metadata": {
    "collapsed": false
   }
  },
  {
   "cell_type": "code",
   "execution_count": null,
   "outputs": [],
   "source": [
    "from IPython.display import Image\n",
    "Image(\"pictures/dynamics_12_99.png\")"
   ],
   "metadata": {
    "collapsed": false,
    "is_executing": true
   }
  },
  {
   "cell_type": "code",
   "execution_count": null,
   "outputs": [],
   "source": [
    "import numpy as np\n",
    "from sympy import integrate,symbols, solve, lambdify\n",
    "t,s,v,y,x = symbols('t s v y x')\n",
    "\n",
    "a = (40/8) * t\n",
    "\n",
    "# integrate dv = a dt\n",
    "# 0 to v, 0 to t\n",
    "v_dv = integrate(1,(v,0,v))\n",
    "a_dt = integrate(a,(t,0,t))\n",
    "v = solve(v_dv - a_dt,v)[0]\n",
    "v_sym = lambdify(t,v)\n",
    "v_B = v_sym(8)\n",
    "\n",
    "# integrate ds = v dt\n",
    "# 0 to s, 0 to t\n",
    "s_ds = integrate(1,(s,0,s))\n",
    "v_dt = integrate(v,(t,0,t))\n",
    "s = solve(s_ds - v_dt,s)[0]\n",
    "s_sym = lambdify(t,s)\n",
    "h_B = s_sym(8)\n",
    "\n",
    "v_B_x = np.sin(np.radians(45)) * v_B\n",
    "v_B_y = np.cos(np.radians(45)) * v_B\n",
    "\n",
    "# v**2 = v_0**2  + 2 * a_c * (y-y_0), v at C is 0\n",
    "a_c = -9.81\n",
    "h_C = solve(v_B_y**2 + 2 * a_c * (y-h_B),y)[0]\n",
    "\n",
    "\n",
    "# x = x_0 + v_x_0 * t, x is R\n",
    "R = solve(-x + v_B_x * t,x)[0]\n",
    "R_sym = lambdify(t,R)\n",
    "\n",
    "# y = y_0 + v_y_0 * t + 1/2 * a_c * t\n",
    "time = solve(h_B + v_B_y * t + (1/2) * a_c * t**2,t)[1]\n",
    "R = R_sym(time)\n",
    "\n",
    "print(f'v_B =  {v_B:.2f} m/s')\n",
    "print(f'h_B =  {h_B:.2f} m')\n",
    "print(f'h_C = {h_C:.2f} m')\n",
    "print(f'  R = {R:.2f} m')"
   ],
   "metadata": {
    "collapsed": false,
    "is_executing": true
   }
  },
  {
   "cell_type": "markdown",
   "source": [
    "## Section 12.7 Curvilinear Motion: Normal and Tangential Components\n",
    "* If the path along a particle travels is known then we can use $n$ and $t$ coordinate axes to describe the motion, these axes act normal and tangent to the path, and at the instant considered have their origin located at the particle\n",
    "### Planar Motion\n",
    "* Consider a particle that moves in a plane along a fixed curve, and at any instance it is at position $s$ from $O$, consider a coordinate system in which $O$ is on the curve, and at then instant considered $O$ will coincide with the location of the particle. The axis $t$ will be tangent to the curve at this point and is positive oin the direction of increasing $s$, this positive direction will be designated by $\\vec u_t$, the normal axis can be chosen by seeing that geometrically the curve is constructed from a series of differential arc segments, $ds$, each segment is formed from the arc of a circle with radius of curvature $\\rho$, and center of curvature $O'$, the normal axis is perpendicular to the $t$ axis, positive sense is toward the center of curvature, this is always on the concave side of the curve, designated by $\\vec u_n$, the plane containing $n$ and $t$ axes cal;led the osculating plane\n",
    "### Velocity\n",
    "* Consider the same particle, $s$ is a function of time, the particles velocity, $\\vec v$, has direction that is tangent to the path (Section 12-4), and magnitude is calculated by taking the time derivative of $s=s(t)$, $v = ds/dt$, therefore, $\\vec v = v \\vec u_t$ &emsp;(12-15)\n",
    "* Where $v = \\dot s$ &emsp; (12-16)\n",
    "### Acceleration\n",
    "* The acceleration of this particle is $\\vec a = \\dot{\\vec v} = \\dot v \\vec u_t + v \\dot{\\vec u_t}$ &emsp; (12-17)\n",
    "* To determine time derivative of $\\dot{\\vec u_t}$ note that as particle moves $ds$ in time $dt$, $\\vec u_t$ preserves its magnitude in unity, but the direction changes and becomes $\\vec u_t'$\n",
    "* $\\vec u_t' = \\vec u_t + d \\vec u_t$ must be true, $d\\vec u_t$ stretches between the arrowheads of $\\vec u_t$ and $\\vec u_t'$ which lie on an infinitesimal arc of radius $u_t = 1$, therefore $d\\vec u_t$ has magnitude $du_t = (1) d\\theta$ and direction is defined by $\\vec u_n$, from this $d\\vec u_t = d\\theta \\vec u_n$ and therefore the time derivative becomes $\\dot{\\vec u_t} = \\dot \\theta \\vec u_n$, from $ds = \\rho d\\theta$, then $\\dot \\theta = \\dot s / \\rho$\n",
    "* Therefore $\\dot{\\vec u_t} = \\dot \\theta \\vec u_n = \\frac{\\dot s}{\\rho} \\vec u_n = \\frac{v}{\\rho} \\vec u_n$\n",
    "* Substitute 12-17 in to obtain $\\vec a = a_t \\vec u_t + a_n \\vec u_n$ &emsp; (12-18)\n",
    "* Where $a_t = \\dot v$ or $a_t ds = v dv$ &emsp; (12-19)\n",
    "* $a_n = \\frac{v^2}{\\rho}$ &emsp; (12-20)\n",
    "* The magnitude of acceleration is $a = \\sqrt{a_t^2 + a_n^2}$ &emsp; (12-21)\n",
    "* Consider a particle moving along a straight line then $\\rho \\rightarrow \\infty$, from 12-20 $a_n = 0$, therefore $a = a_t = \\dot v$, and we can conclude the tangential component of acceleration represents the time rate of change in the magnitude of the velocity\n",
    "* Consider a particle moving along a curve with constant speed, then $a_t = \\dot v = 0$ and $a = a_n = \\frac{v^2}{\\rho}$, therefore the normal component of acceleration represents the time rate of change in the direction of the velocity, $\\vec a_n$ always acts towards the center of curvature this component is called the centripetal acceleration\n",
    "### Three-Dimensional Motion\n",
    "* If a particle moves along a space curve, then at any instant the $t$ axis is unbiasedly specified, but an infinite number of straight lines can be constructed normal to the tangent axis, we will choose the positive $n$ axis to be directed toward the path's center, this axis is called the principal norm of the curve, with axes defined use 12-15 - 12-21 to determine $\\vec v$ and $\\vec a$, since $\\vec u_t$ and $\\vec u_n$ are perpendicular to each other and lie in osculating plane for spatial motion there is a third unit vector, $\\vec u_b$ which defines the binormal axis $b$ which is perpendicular to $\\vec u_t$ and $\\vec u_n$\n",
    "* The three vectors are related to each other by vector cross product, $\\vec u_b = \\vec u_t \\times \\vec u_n$, it is possible to use this relation to establish the direction of one of the axes, when the other two are known\n",
    "### Procedure for Analysis\n",
    "* If the path of the particle is known, establish set of $s$ and $t$ coordinates with fixed origin which is coincident with the particle at the instant considered\n",
    "* Positive tangent axis acts in direction of motion and positive normal axis is directed toward the path's center of curvature\n",
    "* Particles velocity is tangent to the path\n",
    "* Magnitude of velocity is found by taking time derivative of path function $v = \\dot s$\n",
    "* Tangential component of acceleration is the result of the time rate of change in the magnitude of velocity, this acts in positive $s$ direction if the particle's speed is increasing, opposite direction if the speed is decreasing\n",
    "* Relations between $a_t, v, t, s$ are the same for rectilinear motion, $a_t = \\dot v$, $a_t ds = v dv$\n",
    "* When $a_t$ is constant $a_t = (a_t)_c$ when the above equations are integrated,\n",
    "    * $s = s_0 + v_0 t + \\frac{1}{2} (a_t)_c t^2$\n",
    "    * $v = v_0 + (a_t)_c t$\n",
    "    * $v^2 = v_0^2 + 2 (a_t)_c (s - s_0)$\n",
    "* Normal component of acceleration is the result of the time rate of change in the direction of the velocity, this is always directed toward the center of curvature of the path, along positive $n$ axis\n",
    "* Magnitude of $a_n = \\frac{v^2}{\\rho}$\n",
    "* If path is expressed as $y = f(x)$, then $\\rho$ at any point is determined from $\\rho = \\frac{[1 + {(dy/dx)}^2]^{3/2}}{|d^2y/dx^2|}$"
   ],
   "metadata": {
    "collapsed": false
   }
  },
  {
   "cell_type": "markdown",
   "source": [
    "## Problem 152\n",
    "A particle $P$ travels along an elliptical spiral path\n",
    "such that its position vector $\\vec r$ is defined by\n",
    "$\\vec r = [2 cos(0.1t) \\hat i + 1.5 sin(0.1t)\\hat j + (2t)\\hat k] m$, where $t$ is in\n",
    "seconds and the arguments for the sine and cosine are given\n",
    "in radians. When $t = 8 s$, determine the coordinate direction\n",
    "angles $\\alpha$, $\\beta$, and $\\gamma$, which the binormal axis to the osculating\n",
    "plane makes with the $x$, $y$, and $z$ axes. Hint: Solve for the\n",
    "velocity $\\vec v_P$ and acceleration $\\vec a_P$ of the particle in terms of their\n",
    "$\\hat i, \\hat j, \\hat k$ components. The binormal is parallel to $\\vec v_P \\times \\vec a_P$. Why?\n",
    "Plot position, velocity, acceleration versus time from $t=0$ to $t=8$"
   ],
   "metadata": {
    "collapsed": false
   }
  },
  {
   "cell_type": "code",
   "execution_count": null,
   "outputs": [],
   "source": [
    "from IPython.display import Image\n",
    "Image(\"pictures/dynamics_12_152.png\")"
   ],
   "metadata": {
    "collapsed": false,
    "is_executing": true
   }
  },
  {
   "cell_type": "code",
   "execution_count": null,
   "outputs": [],
   "source": [
    "from sympy import diff, symbols\n",
    "import numpy as np\n",
    "import matplotlib.pyplot as plt\n",
    "\n",
    "\n",
    "t = symbols('t')\n",
    "def position(t):\n",
    "    return [2 * np.cos(.1 * t), 1.5 * np.sin(.1 * t), 2 * t]\n",
    "\n",
    "def velocity(t):\n",
    "    return[-.2 * np.sin(.1 *t),.15 * np.cos(.1 * t),2]\n",
    "\n",
    "def acceleration(t):\n",
    "    return [-.02 * np.cos(.1 *t), -.015 * np.sin(.1 * t),0]\n",
    "\n",
    "v_8 = velocity(8)\n",
    "a_8 = acceleration(8)\n",
    "\n",
    "binormal = np.cross(v_8,a_8)\n",
    "magnitude_binormal = np.linalg.norm(binormal)\n",
    "unit_vector_binormal = binormal / magnitude_binormal\n",
    "\n",
    "alpha = np.degrees(np.arccos(unit_vector_binormal[0]))\n",
    "beta = np.degrees(np.arccos(unit_vector_binormal[1]))\n",
    "gamma = np.degrees(np.arccos(unit_vector_binormal[2]))\n",
    "\n",
    "print(f'alpha = {alpha:.2f}\\u00B0')\n",
    "print(f'beta  = {beta:.2f}\\u00B0')\n",
    "print(f'gamma = {gamma:.2f}\\u00B0')\n",
    "# times = np.linspace(0,8)\n",
    "# positions = position(times)\n",
    "# print(positions)\n",
    "# velocities = velocity(times)\n",
    "# accelerations = acceleration(times)\n",
    "# plt.plot(times,positions)\n",
    "# plt.show()"
   ],
   "metadata": {
    "collapsed": false,
    "is_executing": true
   }
  },
  {
   "cell_type": "markdown",
   "source": [
    "## Section 12.8 Curvilinear Motion: Cylindrical Components\n",
    "* The motion of a particle can be constrained on a path that can be described with cylindrical coordinates, if motion is restricted to the plane then polar coordinates are used\n",
    "### Polar Coordinates\n",
    "* We can specify the location of the particle using radial coordinate $r$ which extends outward from $O$ to the particle, and transverse coordinate $\\theta$ which is the counterclockwise angle between a fixed reference line and $r$ axis\n",
    "* Positive directions of $r$ and $\\theta$ coordinates are defined by $\\vec u_r$ and $\\vec u_{\\theta}$, $\\vec u_r$ is in direction of increasing $r$ when $\\theta$ is held fixed,  $\\vec u_\\theta$ is in direction of increasing $\\theta$ when $r$ is held fixed, perpendicular to each other\n",
    "### Position\n",
    "* Position defined by $\\vec r = r \\vec u_r$ &emsp; (12-22)\n",
    "### Velocity\n",
    "* Instantaneous velocity is determined by taking the time derivative of $\\vec r$, $\\vec v = \\dot{\\vec r} = \\dot r \\vec u_r + r \\dot{\\vec u_r}$\n",
    "* To determine $\\dot{\\vec u_r}$ note that $\\vec u_r$ only changes direction with respect to time, since by definition the magnitude of the vector is always one unit, therefore during time $\\Delta t$ a change in $\\Delta r$ will not cause a change in the direction of $\\vec u_r$, but a change $\\Delta \\theta$ will cause $\\vec u_r$ to become $\\vec u_r'$, $\\vec u_r' = \\vec u_r + \\Delta \\vec u_r$, the time change in $\\vec u_r$ is $\\Delta \\vec u_r$, for small angles $\\Delta \\theta$, $\\Delta \\vec u_r$ has magnitude $\\Delta u_r \\approx 1(\\Delta \\theta)$ and acts in $\\vec u_\\theta$ direction, therefore $\\Delta \\vec u_r = \\Delta \\theta \\vec u_\\theta$\n",
    "* Therefore $\\dot{\\vec u_r} = \\lim_{\\Delta t \\rightarrow 0}{\\frac{\\Delta \\vec u_r}{\\Delta t} = (\\lim_{\\Delta t \\rightarrow 0} {\\frac{\\Delta \\theta}{\\Delta t}}) \\vec u_\\theta$\n",
    "* $\\dot{\\vec u_r} = \\dot \\theta \\vec u_\\theta$ &emsp; (12-23)\n",
    "* Substitute 12-23 into the velocity equation, $\\vec v = v_r \\vec u_r + v\\theta \\vec u_\\theta$ &emsp; (12-24)\n",
    "* Where $v_r = \\dot r$, $v_\\theta = r \\dot \\theta$ &emsp; (12-25)\n",
    "* Radial component $\\vec v_r$ is the measure of the rate of increase or decrease in the length of the radial coordinate, the transverse component $\\vec u_\\theta$ is the rate of motion along the circumference of a circle with radius $r$, $\\dot \\theta = d\\theta / dt$ is called angular velocity since it indicates time rate of change of angle $\\theta$\n",
    "* $\\vec v_r$ and $\\vec v_\\theta$ are mutually perpendicular so the magnitude of velocity is $v = \\sqrt{(\\dot r)^2 + (r\\dot \\theta)^2}$\n",
    "* Direction of $\\vec v$ is tangent to the path\n",
    "### Acceleration\n",
    "* Instantaneous acceleration is determined by taking time derivative of 12-24 and 12-25, $\\vec a = \\dot{\\vec v} = \\ddot r \\vec u_r + \\dot r \\dot{\\vec u_r} + \\dot r \\dot \\theta \\vec u_\\theta + r \\ddot \\theta \\vec u_\\theta + r \\dot \\theta \\dot{\\vec u_\\theta}$\n",
    "* To determine $\\dot{\\vec u_\\theta}$ it is necessary only to find change in direction of $\\vec u_\\theta$ since its magnitude is always unity, during time $\\Delta t$ a change $\\Delta r$ will not change the direction of $\\vec u_\\theta$ but a change $\\Delta \\theta$ will cause $\\vec u_\\theta$ to change direction and become $\\vec u_\\theta '$ and $\\vec u_\\theta ' = \\vec u_\\theta + \\Delta \\vec u_\\theta$, the time change in $\\vec u_\\theta$ is $\\Delta \\vec u_\\theta$, for small angles $\\Delta \\vec u_\\theta$ has magnitude $\\Delta u_\\theta \\approx 1(\\Delta \\theta)$ and acts in $-\\vec u_r$ direction, $\\Delta \\vec u_\\theta = -\\Delta \\theta \\vec u_r$\n",
    "* Therefore $\\dot{\\vec u_\\theta} = \\lim_{t \\rightarrow 0}{\\frac{\\Delta \\vec{u_\\theta}}{\\Delta t}} = - (\\lim_{t \\rightarrow 0}{\\frac{\\Delta \\theta}{\\Delta t}}) \\vec u_r$\n",
    "* $\\dot{\\vec u_\\theta} = - \\dot \\theta \\vec u_r$ &emsp;(12-27)\n",
    "* Substitute this and 12-23 into equation for acceleration, $\\vec a = a_r \\vec u_r + a_\\theta \\vec u_\\theta$ &emsp;(12-28)\n",
    "* Where $a_r = \\ddot r - r\\dot \\theta^2$, $a_\\theta= r \\ddot \\theta + 2 \\dot r \\dot \\theta$ &emsp;(12-29)\n",
    "* $\\ddot \\theta = d^2 \\theta/ dt^2 = d/dt(d\\theta/dt)$ is called angular acceleration since it is the measure of the change made in the angular velocity during an instant of time\n",
    "* $\\vec a_r$ and $\\vec a_\\theta$ are perpendicular, the magnitude of acceleration is $a = \\sqrt{(\\dot r - r \\dot \\theta^2)^2 + (r\\ddot \\theta + 2 \\dot r \\dot \\theta)^2}$ &emsp; (12-30)\n",
    "* Direction is determined from the vector addition of its two components, usually $\\vec a$ is ont tangent to the path\n",
    "### Cylindrical Coordinates\n",
    "* If the particle moves along a space curve then its location is specified by three cylindrical coordinates $r, \\theta, z$, $z$ coordinate is identical to that used for rectangular coordinates,\n",
    "* The unit vector defining its direction is constant, the time derivatives of $\\vec u_z$ are zero, and the position,velocity,acceleration of the particle are written as\n",
    "    * $\\vec r_P = r \\vec u_r + z u_z$\n",
    "    * $\\vec v = \\dot r \\vec u_r + r \\dot \\theta \\vec u_\\theta + \\dot z \\vec u_z$ &emsp; (12-31)\n",
    "    * $\\vec a = (\\dot r - r \\dot{\\theta^2}) \\vec u_r + (r \\ddot \\theta + 2 \\dot r \\dot{\\theta}) \\vec u_\\theta + \\ddot{\\vec u_z}$ &emsp; (12-32)\n",
    "### Time Derivatives\n",
    "* These equations require that we find time derivatives of $\\dot r, \\ddot r, \\dot \\theta, \\ddot{\\theta}$, usually 2 types of problems\n",
    "    * If polar coordinates are specified as time parametric equations, $r=r(t)$ and $\\theta = \\theta(t)$ then the time derivatives can be found directly\n",
    "    * If the time parametric equations are unknown then the path $r = f(\\theta)$ must be known, use calculus and find the relation between $\\dot r$ and $\\dot \\theta$ and between $\\ddot r$ and $\\ddot \\theta$\n",
    "### Procedure for Analysis\n",
    "* Polar coordinates are used when the data regarding angular motion of the radial coordinate $r$ is given to describe the particle's motion, also some paths of motion are conveniently described in these coordinates\n",
    "* To use polar coordinates the origin must be established at a fixed point, radial line $r$ is directed to the particle\n",
    "* Transverse coordinate $\\theta$ is measured from a fixed reference line to the radial line\n",
    "* Once $r$ and $\\dot r, \\ddot r, \\dot \\theta, \\ddot \\theta$ are calculated their values can be substituted into 12-25 and 12-29 to obtain radial and transverse components of $\\vec v$ and $\\vec a$\n",
    "* If it is needed to take time derivatives of $r = f(\\theta)$ then use chain rule\n",
    "* Motion in three dimensions requires an extension of the above to include $\\dot z$ and $\\ddot z$"
   ],
   "metadata": {
    "collapsed": false
   }
  },
  {
   "cell_type": "markdown",
   "source": [
    "## Problem 184\n",
    "A truck is traveling along the horizontal circular\n",
    "curve of radius$ r = 60 m$ with a speed of $20 m/s$ which is\n",
    "increasing at $3 m/s^2$, Determine the truck’s radial and\n",
    "transverse components of acceleration."
   ],
   "metadata": {
    "collapsed": false
   }
  },
  {
   "cell_type": "code",
   "execution_count": null,
   "outputs": [],
   "source": [
    "from IPython.display import Image\n",
    "Image(\"pictures/dynamics_12_184.png\")"
   ],
   "metadata": {
    "collapsed": false,
    "is_executing": true
   }
  },
  {
   "cell_type": "code",
   "execution_count": null,
   "outputs": [],
   "source": [
    "r = 60\n",
    "v = 20\n",
    "a_t = 3\n",
    "a_n = v**2/r\n",
    "a_r = -a_n\n",
    "a_theta = a_t\n",
    "print(f'a_r = {a_r:.2f} m/s**2')\n",
    "print(f'a_\\u03B8 =  {a_theta:.2f} m/s**2')"
   ],
   "metadata": {
    "collapsed": false,
    "is_executing": true
   }
  },
  {
   "cell_type": "markdown",
   "source": [
    "## Section 12.9 Absolute Dependent Motion Analysis of Two Particle\n",
    "* Some problems have the motion of one particle depending on the motion of another particle\n",
    "* Consider 2 blocks interconnected by inextensible cords wrapped around pulleys, let the blocks be on inclined planes with the pulleys at the connecting point of them, when block $A$ moves down the inclined plane block $B$ must move up the other inclined plane, we can make an equation for this first knowing the location of the blocks using position coordinates $s_A$ and $s_B$\n",
    "* Note each coordinate axes\n",
    "    * Is measured from fixed point $O$, or a fixed datum line\n",
    "    * Is measured along each inclined plane in the direction of motion of each block\n",
    "    * Has positive sense from the fixed datums to $A$ and to $B$\n",
    "* Let the total cord length be $l_T$, then the position coordinates are related by $s_A + l_{CD} + s_B = l_T$\n",
    "* $l_{CD}$ is the length of the cord passing over the arc $CD$, the pulley\n",
    "* If we take the time derivative of this equation, and knowing $l_T$ and $l_{CD}$ are constant, we obtain $\\frac{ds_A}{dt} + \\frac{ds_B}{dt} = 0$ or simply $v_B = -v_A$\n",
    "* When block $A$ has velocity downwards, in direction of positive $s_A$, then the velocity of block $B$ will be upwards, in direction of negative $s_B$\n",
    "* If we take the time derivative of the velocity to obtain the acceleration we obtain, $a_B = -a_A$\n",
    "* Consider a system with a block $B$ hanging from a pulley that is hanging from an anchor, this cable then goes around another pulley higher and to the right, then down to pulley near the ground which connects block $A$ to the system,$s_A$ is the distance of block $A$ from the pulley near the ground, $s_B$ is the distance of the pulley holding block $B$ to the pulley above it\n",
    "* Note the position coordinates\n",
    "    * Have their origin at fixed points of datums\n",
    "    * Are measured in the direction of motion of each block\n",
    "    * From the fixed datums are positive to the right for $s_A$ and positive downward for $s_B$\n",
    "* During motion the length of the segments around the pulley and the length of the left anchor to the datum are constant\n",
    "* Let $l$ be the total cord length minus these constant segments, the position coordinates are related by $2s_B + h + s_A = l$\n",
    "* $l$ and $h$ are constant therefore the velocities and accelerations are related by $2v_B = -v_A$ and $2a_B = -a_A$\n",
    "* When $B$ moves downward, $A$ moves to the left with twice the motion\n",
    "* This system can also be solved by defining the position of block $B$ from the center of the bottom pulley, $2(h - s_B) + h + s_A = l$\n",
    "* The velocities and accelerations related by $2v_B = v_A$ and $2a_B = a_A$\n",
    "### Procedure for Analysis\n",
    "* Establish each position coordinate with an origin located at fixed point or datum\n",
    "* The origin does not need to be the same for each of the coordinates, but the coordinate axis selected be directed along the path of motion of the particle\n",
    "* Relate the position coordinates to total length of the cord, or to the portion of the cord which excludes the segments that do not change length as the particles move, such as arc segments wrapped around pulleys\n",
    "* If the system has two or more cords wrapped around pulleys then the position of a point on one cord must be related to the position of a point on another cord using the above procedure, separate equations are written for a fixed length of each cord of the system and the positions of the two particles are then related by these equations\n",
    "* Take the time derivatives of the position-coordinate equations to find the velocity and acceleration equations which relate the motions of the particles\n",
    "* The signs of the terms in these equations will be consistent with those that specify the positive and negative sense of the position coordinates"
   ],
   "metadata": {
    "collapsed": false
   }
  },
  {
   "cell_type": "markdown",
   "source": [
    "## Section 12.10 Relative-Motion of Two Particles Using Translating Axes\n",
    "* Some problems where the path is complicated can be easier analyzed by using two or more frames of reference\n",
    "* Consider motion of particle located at the tip of an airplane propeller, when the plane is in flight it can more easily described if it is first observed that the motion of the airplane from a fixed reference and then superimposes the circular motion of the particle measured from a reference attached to the airplane\n",
    "### Position\n",
    "* Consider particles $A$ and $B$ which move along arbitrary paths, the absolute position of each particle $\\vec r_A$ and $\\vec r_B$ is measured from the common origin $O$ of the fixed $x,y,z$ reference frame, the origin of a second frame of reference $x',y',z'$ is attached to and moves with particle $A$\n",
    "* The axes of this are only permitted to translate relative to the fixed frame\n",
    "* The position of $B$ measured relative to $A$ is denoted by the relative-position vector $\\vec r_{B/A}$, we can relate these 3 vectors by, $\\vec r_B = \\vec r_A + \\vec r_{B/A}$ &emsp; (12-33)\n",
    "### Velocity\n",
    "* Taking the time derivative of 12-33 is the relation of the particle's velocities, $\\vec v_B = \\vec v_A + \\vec v_{B/A}$ &emsp; (12-34)\n",
    "* $\\vec v_B = \\frac{d\\vec r_B}{dt}$ and $\\vec v_A = \\frac{d\\vec r_A}{dt}$ refer to absolute velocities, since they are observed from the fixed frame, but the relative velocity $\\vec v_{B/A} = \\frac{d\\vec r_{B/A}}{dt}$ is observed from the translating frame\n",
    "* Note that since $x',y',z'$ axes translate the components of $\\vec r_{B/A}$ will not change direction and therefore the time derivative of these components will only have to account for the change in their magnitudes\n",
    "* 12-34 states that the velocity of $B$ is equal to the velocity of $A$ plus the velocity of $B$ with respect to $A$, as measured by the translating observer fixed in the $x',y',z'$ reference frame\n",
    "### Acceleration\n",
    "* Taking the time derivative of 12-34 yields a relation between the absolute and relative acceleration of $A$ and $B$, $\\vec a_B = \\vec a_A + \\vec a_{B/A}$ &emsp; (12-35)\n",
    "* $\\vec a_{B/A}$ is the acceleration of $B$ as seen by an observer located at $A$ and translating with the $x',y',z'$ reference frame\n",
    "### Procedure for Analysis\n",
    "* When using the relative velocity and acceleration equation, first you need to specific the particle $A$ that is the origin for the translating $x',y',z'$ axes, usually $A$ has a known velocity or acceleration\n",
    "* There can be at most 2 unknowns, represented by the magnitudes and / or directions of the vector quantities\n",
    "* Can solve the unknowns graphically using trigonometry, or by resolving each of the vectors into rectangular or Cartesian components, thereby generating a set of scalar equations\n"
   ],
   "metadata": {
    "collapsed": false
   }
  },
  {
   "cell_type": "markdown",
   "source": [
    "## Problem 234\n",
    "At a given instant the football player at $A$ throws\n",
    "a football $C$ with a velocity of $20 m/s$ in the direction shown.\n",
    "Determine the constant speed at which the player at $B$ must\n",
    "run so that he can catch the football at the same elevation at\n",
    "which it was thrown. Also calculate the relative velocity and\n",
    "relative acceleration of the football with respect to $B$ at the\n",
    "instant the catch is made. Player $B$ is $15 m$ away from $A$\n",
    "when $A$ starts to throw the football."
   ],
   "metadata": {
    "collapsed": false
   }
  },
  {
   "cell_type": "code",
   "execution_count": null,
   "outputs": [],
   "source": [
    "from IPython.display import Image\n",
    "Image(\"pictures/dynamics_12_234.png\")"
   ],
   "metadata": {
    "collapsed": false,
    "is_executing": true
   }
  },
  {
   "cell_type": "code",
   "execution_count": null,
   "outputs": [],
   "source": [
    "from math import sqrt\n",
    "import numpy as np\n",
    "from sympy import symbols, lambdify,diff,solve\n",
    "t, v_B, v_C_B_x, v_C_B_y = symbols('t v_B v_C_B_x v_C_B_y')\n",
    "theta = np.radians(60)\n",
    "\n",
    "v_0 = 20\n",
    "AB = 15\n",
    "\n",
    "# Ball\n",
    "# s_C = s_0 + v_0 * t, x direction\n",
    "s_C = lambdify(t,0 + v_0 * np.cos(theta) * t)\n",
    "\n",
    "# v = v_0 + a_c * t, y direction\n",
    "time = solve(-v_0 * np.sin(theta) - v_0 * np.sin(theta) + 9.81 * t,t)[0]\n",
    "end_of_throw = s_C(time)\n",
    "\n",
    "# B\n",
    "# s_B = s_0 + v_B * t, x direction, s_B = end_of_throw, t = time,s_0 = AB\n",
    "velocity_B = solve(end_of_throw -AB -  v_B * time,v_B)[0]\n",
    "print(f' velocity of player B = {velocity_B:.2f} m/s')\n",
    "\n",
    "# ball at catch\n",
    "v_C_x = v_0 * np.cos(theta)\n",
    "v_C_y = v_0 * np.sin(theta)\n",
    "\n",
    "#v_C = v_B + v_(C/B)\n",
    "v_C_B_x = solve(v_C_x - velocity_B - v_C_B_x,v_C_B_x)[0]\n",
    "v_C_B_y = solve(v_C_y - v_C_B_y,v_C_B_y)[0]\n",
    "\n",
    "magnitude_v_C_B = sqrt(v_C_B_x**2 + v_C_B_y**2)\n",
    "print(f'magnitude of v_(B/C) =  {magnitude_v_C_B:.2f} m/s')\n",
    "\n",
    "#a_c = a_B + a_(C/B), a_B = 0, a_c = -9.81\n",
    "a_C_B = 9.81\n",
    "\n",
    "print(f'a_(C/B) = {a_C_B:.2f} m/s**2')"
   ],
   "metadata": {
    "collapsed": false,
    "is_executing": true
   }
  }
 ],
 "metadata": {
  "kernelspec": {
   "display_name": "Python 3",
   "language": "python",
   "name": "python3"
  },
  "language_info": {
   "codemirror_mode": {
    "name": "ipython",
    "version": 2
   },
   "file_extension": ".py",
   "mimetype": "text/x-python",
   "name": "python",
   "nbconvert_exporter": "python",
   "pygments_lexer": "ipython2",
   "version": "2.7.6"
  }
 },
 "nbformat": 4,
 "nbformat_minor": 0
}
