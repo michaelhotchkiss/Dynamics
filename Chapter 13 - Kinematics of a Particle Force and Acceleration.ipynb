{
 "cells": [
  {
   "cell_type": "markdown",
   "source": [
    "# Chapter 13 - Kinematics of a Particle: Force and Acceleration"
   ],
   "metadata": {
    "collapsed": false
   }
  },
  {
   "cell_type": "markdown",
   "source": [
    "## Section 13.1 Newton's Second Law of Motion\n",
    "* Kinetics - branch of dynamics that deals with the relationship between the change in motion of a body and the forces that cause this change\n",
    "* Newton's second law is the basis for kinetics, states when an unbalanced force acts on a particle the particle will accelerate in the direction of the force with a magnitude proportional to the force, $F = ma$\n",
    "* The mass is a positive scalar and constant, since it is constant during acceleration, the mass provides a quantitative measure of resistance of the particle to a change in its velocity, i.e. inertia\n",
    "* $\\vec F = m \\vec a$, equation of motion\n",
    "### Newton's Law of Gravitational Attraction\n",
    "* $F = G \\frac{m_1 m_2}{r^2}$ &emsp; (13-1)\n",
    "* $F$ is the force of attraction between the two particles, $G$ is the universal constant of gravitation $G + 66.73(10^{-12} m^3/(kg s^2)$, $m_1,m_2$ are the masses of each particle, $r$ is the distance between the centers of the two particles\n",
    "* If a particle is located at or near the surface of earth, the only gravitational force with any sizable magnitude is the force between the earth and the particle, called the weight, $W = mg$\n",
    "* $g$ is acceleration due to gravity, $g=9.81 m/s^2 = 32.2 ft/s^2$\n",
    "* $W = mg (N)$ &emsp; (13-2)\n",
    "* $m = \\frac{W}{g}$ (slug) $g=32.2 ft/s^$ &emsp; (13-3)"
   ],
   "metadata": {
    "collapsed": false
   }
  },
  {
   "cell_type": "markdown",
   "source": [
    "## Section 13.2 The Equation of Motion\n",
    "* Resultant force of a system is $\\vec F_R = \\sum \\vec F$\n",
    "* Equation of motion can be writen as $\\sum \\vec F = m \\vec a$ &emsp; (13-4)\n",
    "* Consider a particle with mass $m$ and is subjected to two forces, $\\vec F_1$ and $\\vec F_2$, the resultant of these forces produce vector $m \\vec a$, its magnitude and direction can be represented graphically on the kinetic diagram, (kinetic diagram = free-body diagram), therefore $\\sum \\vec F = m \\vec a$, if $\\vec F_R = \\sum \\vec F = \\vec 0 \\Rightarrow \\vec a = 0$ so the particle has constant velocity, these are the conditions of static equilibrium, Newtons first law of motion\n",
    "### Inertial Reference Frame\n",
    "* When using the equation of motion, it is needed that the acceleration of the particle be measured with respect to a reference frame that is fixed or translates with constant velocity, this way the observer will not accelerate and the measurements of the particle's acceleration will be the same from any reference point of this type, this frame is called the Newtonian or inertial reference frame\n",
    "* When studying motions of rockets and satellites, the inertial fixed frame is considered fixed to the stares, but dynamics problems that deal with motions on or near the surface of earth are solved by considering the inertial frame fixed to earth, even though the earth rotates about its axis and revolves around the sun these accelerations are relatively small and are considered negligible for most applications\n",
    "* Consider a person strapped to a seat on rocket sled, when the sled is at rest or has constant velocity then no force is exerted on the persons back\n",
    "* When the thrust causes the sled to accelerate then the seat exerts a force $\\vec F$ on the person pushing him forward with the sled, inertia of the persons head resists the acceleration so the head moves back against the seat, face distorts backward\n",
    "* When the sled decelerates the force of the seatbelt $\\vec F'$ pulls the body to a stop, but the head leaves contact with the back of the seat, face distorts forward, this is due to the inertia, no force is pulling the body forward, but it feels like there is"
   ],
   "metadata": {
    "collapsed": false
   }
  },
  {
   "cell_type": "markdown",
   "source": [
    "## Section 13.3 Equation of Motion for a System of Particles\n",
    "* Consider a system of particles isolated in an enclosed region in space, no restriction on how the particles are connected so this analysis can be applied to solid, liquid, or gas systems\n",
    "* At any instant the arbitrary $i$-th particle with mass $m_i$ is subjected to a system of internal forces a resultant external force, the internal force is represented by $\\vec f_i$ and is the resultant of all the forces the other particles exert on the $i$th particle, the resultant force is represented by $\\vec F_i$ and is the effect of gravitational, electrical, magnetic, or contact forces between the $i$th particle and adjacent bodies or particles not in the system\n",
    "* Applying the equations to this system we obtain, $\\sum \\vec F = m \\vec a$ and $\\vec F_i + \\vec f_i = m_i \\vec a_i$\n",
    "* We can apply this equation to all other particles in the system, we can then add all of these equation vectorically we obtain $\\sum \\vec F_i + \\sum \\vec f_i = \\sum m_i \\vec a_i$\n",
    "* The summation of internal forces will equal zero since the internal forces between two particles are equal but opposite, therefore the sum of external force remain and the equation of motion becomes $\\sum \\vec F_i = \\sum m_i \\vec a_i$ &emsp; (13-5)\n",
    "* Let $\\vec r_G$ be the position vector which locates the center of mass of the particles, by the definition of center of mass, $m \\vec r_G = \\sum m_i \\vec r_i$ where $m = \\sum m_i$ (total mass of the particles)\n",
    "* We can differentiate this equation twice with respect to time and assuming no mass enters or leaves we obtain $m \\vec a_G = \\sum m_i \\vec a_i$\n",
    "* We can substitute this result into 13-5 to obtain $\\sum \\vec F = m \\vec a_G$ &emsp; (13-6)\n",
    "* This means the sum of the external forces acting on the system is equal to the total mass of the particles times the acceleration of its center of mass\n",
    "* Weight is a force that is caused by earth's gravitation, depends on altitude of the mass\n",
    "* Mass is a property of matter that provides a quantitative measure of its resistance to a change in velocity, it is an absolute quantity, does not change from one location to another"
   ],
   "metadata": {
    "collapsed": false
   }
  },
  {
   "cell_type": "markdown",
   "source": [
    "## Section 13.4 Equations of Motion: Rectangular Coordinates\n",
    "* As a particle moves relative to an inertial $x,y,z$ frame of reference the forces acting on the particle can be expressed in terms of their $\\hat i, \\hat j, \\hat k$ components, we can apply the equation of motion to obtain\n",
    "* $\\sum \\vec F = m \\vec a$ and $\\sum F_x \\hat i + \\sum F_y \\hat j + \\sum F_z \\hat k = m(a_x \\hat i + a_y \\hat j + a_z \\hat k)$\n",
    "* For this equation to be true the $\\hat i, \\hat j, \\hat k$ components on the left and right side must be equal\n",
    "* As a result $\\sum F_x = m a_x$, $\\sum F_y = m a_y$, $\\sum F_z = m a_z$ &emsp; (13-7)\n",
    "### Procedure for Analysis\n",
    "* Equations of motion are used to solve problems which require a relationship between the forces acting on a particle and the accelerated motion they cause\n",
    "#### Free-Body Diagram\n",
    "* Establish inertial coordinate system, usually $x,y,z$ coordinates are used to analyze problems when the particle has rectilinear motion\n",
    "* Draw particles free-body diagram, show all forces acting on particle\n",
    "* Establish direction and sense of particle's acceleration, if sense is unknown assume each acceleration component acts in same direction of its positive inertial coordinate axis\n",
    "* Acceleration can be represented by $m\\vec a$ in kinetic diagram\n",
    "* Identify unknowns\n",
    "#### Equations of Motion\n",
    "* If forces can be solved directly from free-body diagram apply the equations of motion in their scalar component form\n",
    "* If geometry of the problem is complicated use Cartesian vector analysis for the solution\n",
    "* Friction, if a moving particle is in contact with a rough surface it may be needed to use the frictional equation which relates frictional and normal forces acting at the surface of contact by using the coefficient of kinetic friction ($F_f = \\mu _k N$), $\\vec F_f$ always acts opposite of the motion of the particle relative to the surface of contact, if the particle is on the verge of relative motion then the coefficient of static friction should be used\n",
    "* Spring, if the particle is connected to an elastic spring with negligible mass, the spring force can be related to the deformation of the spring by equation $F_s = ks$ ($k$ is the spring's stiffness and $s$ is the stretch or compression defined as the difference between deformed length $l$ abd the undeformed length $l_0$, $s= l -l_0$)\n",
    "#### Kinematics\n",
    "* If the velocity or position of the particle is to be solved it is necessary to apply the necessary kinematics equations once the particle's acceleration is determined from $\\sum \\vec F = m \\vec a$\n",
    "* If acceleration is a function of time use $a = dv/dt$ and $v = ds/dt$ to obtain velocity and position\n",
    "* If acceleration is a function of displacement use $a ds = v dv$ to obtain the velocity as a function of displacement\n",
    "* If acceleration is constant use $v = v_0 + a_c t$, $s = s_0 + v_0 t + \\frac{1}{2} a_c t^2$, and $v^2 = v_0^2 + 2 a_c(s-s_0)$ to determine the velocity or position of the particle\n",
    "* If the problem involves the dependent motion of several particles use the method in section 12.9 to relate their accelerations, in all cases make sure the positive inertial coordinate directions used for writing the kinematic equations are the same as those used for writing the equations of motion\n",
    "* If the solution for an unknown vector component yields a negative scalar then the component acts in the opposite direction to what was assumed"
   ],
   "metadata": {
    "collapsed": false
   }
  },
  {
   "cell_type": "markdown",
   "source": [
    "## Problem 1\n",
    "The $6 lb$ particle is subjected to the action of its\n",
    "weight and forces $\\vec F_1 = (2\\hat i + 6\\hat j - 2 t \\hat k) lb$,\n",
    "$\\vec F_2 = (t^2 \\hat i - 4t\\hat j - 1 \\hat k) lb$, and $\\vec F_3 = (-2t\\hat i) lb$,\n",
    "where $t$ is in seconds. Determine the distance the ball is from the origin\n",
    "$2 s$ after being released from rest."
   ],
   "metadata": {
    "collapsed": false
   }
  },
  {
   "cell_type": "code",
   "execution_count": 201,
   "outputs": [
    {
     "name": "stdout",
     "output_type": "stream",
     "text": [
      "Distance of ball from origin after 2 seconds = 29.67 m\n"
     ]
    }
   ],
   "source": [
    "from sympy import symbols,integrate, lambdify\n",
    "import numpy as np\n",
    "t = symbols('t')\n",
    "weight = 6\n",
    "mass = weight/9.81\n",
    "F_1 = [2,6,-2 * t]\n",
    "F_2 = [t**2,-4 * t, -1]\n",
    "F_3 = [-2 * t,0,0]\n",
    "\n",
    "# mass * a_x = F_1[0] + F_2[0] + F_3[0], same thing for y,z\n",
    "\n",
    "a_x = (F_1[0] + F_2[0] + F_3[0]) / mass\n",
    "v_x = integrate(a_x,(t,0,t))\n",
    "s_x = integrate(v_x,(t,0,t))\n",
    "s_x_c = lambdify(t,s_x)\n",
    "\n",
    "a_y = (F_1[1] + F_2[1] + F_3[1]) / mass\n",
    "v_y = integrate(a_y,(t,0,t))\n",
    "s_y = integrate(v_y,(t,0,t))\n",
    "s_y_c = lambdify(t,s_y)\n",
    "\n",
    "a_z = (F_1[2] + F_2[2] + F_3[2] - weight) / mass\n",
    "v_z = integrate(a_z,(t,0,t))\n",
    "s_z = integrate(v_z,(t,0,t))\n",
    "s_z_c = lambdify(t,s_z)\n",
    "\n",
    "s = np.sqrt(s_x_c(2)**2 + s_y_c(2)**2 + s_z_c(2)**2)\n",
    "print(f'Distance of ball from origin after 2 seconds = {s:.2f} m')"
   ],
   "metadata": {
    "collapsed": false,
    "ExecuteTime": {
     "end_time": "2023-07-20T19:34:40.456452Z",
     "start_time": "2023-07-20T19:34:40.394617400Z"
    }
   }
  },
  {
   "cell_type": "markdown",
   "source": [
    "## Problem 36\n",
    "The $2 lb$ collar $C$ fits loosely on the smooth shaft.\n",
    "If the spring is unstretched when $s = 0$ and the collar is\n",
    "given a velocity of $15 ft/s$, determine the velocity of the\n",
    "collar when $s = 1 ft$."
   ],
   "metadata": {
    "collapsed": false
   }
  },
  {
   "cell_type": "code",
   "execution_count": 202,
   "outputs": [
    {
     "name": "stdout",
     "output_type": "stream",
     "text": [
      "velocity of the collar when s is 1 ft = 14.63 ft/s\n"
     ]
    }
   ],
   "source": [
    "from sympy import  symbols, integrate, sqrt, solve\n",
    "import  numpy as np\n",
    "weight = 2\n",
    "mass = weight/32.2\n",
    "s,v = symbols('s v')\n",
    "k = 4\n",
    "x = sqrt(1 + s**2) - 1\n",
    "F_s = k * x\n",
    "\n",
    "# sum F_x = m a_x\n",
    "# -F_s * sin(theta) = mass * v (dv/ds), sin(theta) = s/sqrt(1 + s**2)\n",
    "# -F_s * sin(theta) ds = mass * v dv\n",
    "theta = s/sqrt(1 + s**2)\n",
    "\n",
    "s_1 = integrate(-F_s * theta,(s,0,1))\n",
    "v_1 = integrate(mass * v,(v,15,v))\n",
    "velocity = solve(v_1 - s_1,v)\n",
    "print(f'velocity of the collar when s is 1 ft = {velocity[1]:.2f} ft/s')"
   ],
   "metadata": {
    "collapsed": false,
    "ExecuteTime": {
     "end_time": "2023-07-20T19:34:40.522275400Z",
     "start_time": "2023-07-20T19:34:40.431519700Z"
    }
   }
  },
  {
   "cell_type": "markdown",
   "source": [
    "## Section 13.5 Equations of Motion: Normal and Tangential Coordinates\n",
    "* Consider a particle moving along a curved path that is known, the equation of motion can then be written in tangential, normal, and binormal directions. There is no motion of the particle in binormal direction since the particle is confined to move along the path\n",
    "* The equation of motion yields $\\sum \\vec F = m \\vec a$ and $\\sum F_t \\vec u_t + \\sum F_n \\vec u_n + \\sum F_b \\vec u_b = m \\vec a_t + m a_n$\n",
    "* This equation is satisfied when $\\sum F_t = m a_t$, $\\sum F_n = m a_n$, and $\\sum F_b = 0$ &emsp; (13-8)\n",
    "* Since $a_t$ is the time rate of change in the magnitude of velocity, when $\\sum \\vec F_t$ acts in direction of motion the particle speeds up and when it acts opposite to the direction of motion the particle slows down\n",
    "* $a_n$ is the time rate of change in the velocity's direction and is caused by $\\sum \\vec F_n$ which acts in positive $n$ direction which is toward the path's center of curvature\n",
    "### Procedure for Analysis\n",
    "* Problems involving motion of a particle along a known curved path, should use normal and tangential coordinates since acceleration components are readily formulated, method for applying equations of motion are in section 13.4, this is for $t,n,b$ coordinates\n",
    "#### Free-Body Diagram\n",
    "* Establish inertial $t,n,b$ coordinate system at the particle and draw FBD of particle\n",
    "* Particle's normal acceleration acts in positive $n$ direction\n",
    "* If tangential acceleration is unknown assume it acts in positive $t$ direction\n",
    "* There is no acceleration in $b$ direction\n",
    "* Identify unknowns\n",
    "#### Equations of Motion\n",
    "* Apply equations of motion (13-8)\n",
    "#### Kinematics\n",
    "* Formulate tangential and normal components of acceleration ($a_t = dv/dt$ or $a_t = v dv/ds$ and $a_n = v^2/\\rho$)\n",
    "* If path is defined as $ y = f(x)$ the radius of curvature at the point where the particle is located can be obtained from $\\rho = \\frac{[1 + (dy/dx)^2]^{3/2}}{|d^2y/dx^2|}$"
   ],
   "metadata": {
    "collapsed": false
   }
  },
  {
   "cell_type": "markdown",
   "source": [
    "## Problem 83\n",
    "The ball has a mass m and is attached to the cord of\n",
    "length $l$. The cord is tied at the top to a swivel and the ball is\n",
    "given a velocity $\\vec v_0$. Show that the angle $\\theta$ which the cord\n",
    "makes with the vertical as the ball travels around the\n",
    "circular path must satisfy the equation $\\tan \\theta \\sin \\theta = v_0^2/gl$.\n",
    "Neglect air resistance and the size of the ball."
   ],
   "metadata": {
    "collapsed": false
   }
  },
  {
   "cell_type": "markdown",
   "source": [
    "Solution:\n",
    "$\\sum F_n = m a_n \\Rightarrow T \\sin \\theta = m (\\frac{v_0^2}{r})$\n",
    "$\\sum F_b = 0 \\Rightarrow T \\cos \\theta - m g = 0$\n",
    "$r = l  \\sin \\theta \\Rightarrow T = \\frac{m v_0^2}{l \\sin^2 \\theta}$\n",
    "$T \\cos \\theta - m g = 0 \\Rightarrow \\frac{m v_0^2}{l \\sin^2 \\theta} \\cos \\theta = mg \\Rightarrow \\tan \\theta \\sin \\theta = \\frac{v_0^2}{gl}$"
   ],
   "metadata": {
    "collapsed": false
   }
  },
  {
   "cell_type": "markdown",
   "source": [
    "## Section 13.6 Equations of Motion: Cylindrical Coordinates\n",
    "* If all forces acting on a particle are resolved into cylindrical components the equation of motion can be written as $\\sum \\vec F = m \\vec a$ or $\\sum F_r \\vec u_r +\\sum F_\\theta \\vec u_\\theta + \\sum F_z \\vec u_z = ma_r \\vec u_r + ma_\\theta \\vec u_\\theta + ma_z \\vec u_z$\n",
    "* This equation is satisfied when $\\sum F_r = ma_r$, $\\sum F_\\theta = ma_\\theta$, and $\\sum F_z = ma_z$ &emsp; (13-9)\n",
    "* If the particle is only in $r$-$\\theta$ plane then only first two equations are needed to specify the motion\n",
    "### Tangential and Normal Forces\n",
    "* Easiest problem involving cylindrical coordinates are when acceleration is known, then you must solve for resultant force components ($\\sum F_r$, $\\sum F_\\theta$, $\\sum F_z$)\n",
    "* If accelerated motion is not specified at the given instant then information on directions or magnitudes of the forces acting on the particle must be known or calculated in order to solve 13-9\n",
    "* Consider a force $\\vec P$ causing a particle to move along path $r = f(\\theta)$, the normal force which the path exerts on the particle is perpendicular to the tangent of the path, the frictional force acts along the tangent in opposite direction of motion, directions of $\\vec N$ and $\\vec F$ can be specified relative to the radial coordinate by using angle $\\psi$ (angle between extended radial line and tangent line)\n",
    "* $\\psi$ can be obtained by noting that when the particle is displaced distance $ds$ along the path, the component of displacement in the radial direction is $dr$ and the component of displacement in the transverse direction is $r d\\theta$, these two components are mutually perpendicular so $\\psi$ can be determined from $\\tan \\psi = r d\\theta / dr$\n",
    "* $\\tan \\psi = \\frac{r}{dr/d\\theta}$ &emsp; (13-10)\n",
    "* If $\\psi$ is positive it is measured from the extended radial line to the tangent in a counterclockwise sense or in positive direction of $\\theta$, if it is negative it is measured in the opposite direction to positive $\\theta$\n",
    "### Procedure for Analysis\n",
    "* Cylindrical or polar coordinates are a good choice for analysis of problems which data regarding the angular motion of the radial line $r$ are given or in cases where the path can be easily expressed in terms of these coordinates, once coordinates are established equations of motion can be applied in order to relate the forces acting on the particle to its acceleration components, method for this in section 13.4\n",
    "#### Free-Body Diagram\n",
    "* Establish $r,\\theta,z$ inertial coordinate system and draw free-body diagram of particle\n",
    "* Assume $\\vec a_r, \\vec a_\\theta, \\vec a_z$ act in positive directions of $r,\\theta, z$ if they are not known\n",
    "* Identify unknowns\n",
    "#### Equations of Motion\n",
    "* Apply equations of motion (13-9)\n",
    "#### Kinematics\n",
    "* Use methods from section 12.8 to determine $r$ and the time derivatives $\\dot r, \\ddot r, \\dot \\theta, \\ddot \\theta, \\ddot z$ and evaluate the acceleration components, $a_r = \\ddot r - r \\dot \\theta^2$, $a_\\theta = r \\ddot \\theta + 2 \\dot r \\dot \\theta$, and $a_z = \\ddot z$\n",
    "* If any of the acceleration components is computed are negative then it acts in its negative coordinate direction\n",
    "* When taking time derivative of $r = f(\\theta)$ use chain rule"
   ],
   "metadata": {
    "collapsed": false
   }
  },
  {
   "cell_type": "markdown",
   "source": [
    "## Problem 112\n",
    "The pilot of an airplane executes a vertical loop\n",
    "which in part follows the path of a “four-leaved rose,”\n",
    "$r = (-600\\cos{2\\theta}) ft$, where $\\theta$ is in radians. If his speed is a\n",
    "constant $v_P = 80 ft/s$, determine the vertical reaction the seat of the\n",
    "plane exerts on the pilot when the plane is at $A$. He weights $130 lb$.\n",
    "Hint: To determine the time derivatives necessary to compute the\n",
    "acceleration components $a_r$, and  $a_0$, take the first and second time\n",
    "derivatives of $r = 400(1 + \\cos\\theta)$. Then, for further information, use\n",
    "Eq. 12–26 to determine $\\dot \\theta$.\n",
    "Also, take the time derivative of Eq. 12–26, noting that\n",
    "$\\dot v_P = 0$ to determine $\\dot \\theta$."
   ],
   "metadata": {
    "collapsed": false
   }
  },
  {
   "cell_type": "code",
   "execution_count": 203,
   "outputs": [
    {
     "name": "stdout",
     "output_type": "stream",
     "text": [
      "Normal force the seat exerts on the pilot at A = 85.32 lb\n"
     ]
    }
   ],
   "source": [
    "from sympy import symbols, diff, cos, sin, pi, lambdify\n",
    "import numpy as np\n",
    "theta, dot_theta, ddot_theta = symbols('theta dot_theta ddot_theta')\n",
    "r = -600 * cos(2 * theta)\n",
    "v_p = 80\n",
    "weight = 130\n",
    "mass = weight/32.2\n",
    "r_dot = diff(r,theta) * dot_theta\n",
    "r_ddot = 1200 * (2 * cos(2 * theta) * dot_theta**2 + sin(2 * theta) * ddot_theta)\n",
    "r_1 = lambdify(theta,r)\n",
    "r_dot_1 = lambdify(theta,r_dot)\n",
    "r_ddot_1 = lambdify(theta,r_ddot)\n",
    "\n",
    "#theta = pi/2\n",
    "r_90 = r_1(np.pi/2)\n",
    "r_dot_90 = r_dot_1(np.pi/2)\n",
    "r_ddot_90 = r_ddot_1(np.pi/2)\n",
    "r_ddot_90_1 = lambdify(dot_theta,-2400 * dot_theta**2)\n",
    "\n",
    "v_r = r_dot_90\n",
    "v_theta = r_90 * dot_theta\n",
    "\n",
    "# v_p**2 = v_r**2 + v_theta**2\n",
    "dot_theta_90 = solve(v_r**2 + v_theta**2-v_p**2, dot_theta)[1]\n",
    "\n",
    "# a_r = r_ddot_90_1 - r_90 * dot_theta_90**2\n",
    "a_r = r_ddot_90_1(dot_theta_90) - r_90 * dot_theta_90**2\n",
    "\n",
    "# sum F_r = m * a_r\n",
    "# -N - weight = mass * a_r\n",
    "N = -mass * a_r - weight\n",
    "print(f'Normal force the seat exerts on the pilot at A = {N:.2f} lb')"
   ],
   "metadata": {
    "collapsed": false,
    "ExecuteTime": {
     "end_time": "2023-07-20T19:34:40.529776900Z",
     "start_time": "2023-07-20T19:34:40.522275400Z"
    }
   }
  },
  {
   "cell_type": "markdown",
   "source": [
    "## Section 13.7 Central-Force Motion and Space Mechanics\n",
    "* Central-force motion - motion when a particle is moving only under the influence of a force having a line of action which is always directed toward a fixed point, usually caused by electrostatic and gravitational forces\n",
    "* To analyze this type of motion consider a particle with mass $m$ and is acted upon only by a central force $\\vec F$, draw FBD, use polar coordinates and the equations of motion become\n",
    "* $\\sum F_r = ma_r \\Rightarrow -F = m[\\frac{d^2r}{dt^2}-r(\\frac{d\\theta}{dt})^2]$ &emsp; (13-11)\n",
    "* $\\sum F_\\theta = m a_\\theta \\Rightarrow 0 = m(r\\frac{d^2\\theta}{dt^2} + 2 \\frac{dr}{dt} \\frac{d\\theta}{dt}) \\Rightarrow \\frac{1}{r}[\\frac{d}{dt} (r^2\\frac{d\\theta}{dt})] = 0 $ integrate to obtain $r^2\\frac{d\\theta}{dt}=h$ (h is constant of integration)&emsp; (13-12)\n",
    "* Areal velocity defined as $\\frac{dA}{dt} = \\frac{1}{2} r^2 \\frac{d\\theta}{dt} = \\frac{h}{2}$ &emsp; (13-13)\n",
    "* Areal velocity for a particle under central-force motion is constant, the particle will sweep out equal segments of area per unit of time as it travels along the path, to find the path of motion $r=f(\\theta)$ ,$t$ must be eliminated from 13-11, using chain rule and 13-12 the time derivatives of 13-11 can be replaced with\n",
    "    * $\\frac{dr}{dt} = \\frac{dr}{d\\theta} \\frac{d\\theta}{dt} = \\frac{h}{r^2} \\frac{dr}{d\\theta}$\n",
    "    * $\\frac{d^2r}{dt^2} = \\frac{d}{dt} (\\frac{h}{r^2} \\frac{dr}{d\\theta}) = \\frac{d}{d\\theta} (\\frac{h}{r^2}\\frac{dr}{d\\theta})\\frac{d\\theta}{dt} = [\\frac{d}{d\\theta}(\\frac{g}{r^2}\\frac{dr}{d\\theta})]\\frac{h}{r^2}$\n",
    "* Substitute a new dependent variable (xi) $\\xi = \\frac{1}{r}$ into second equation, $\\frac{d^2r}{dt^2} = -h^2 \\xi^2 \\frac{d^2\\xi}{d\\theta^2}$\n",
    "* Squaring 13-12 yields $(\\frac{d\\theta}{dt})^2 = h^2 \\xi^4$\n",
    "* Substitute these two equations into 13-11 to obtain $-h^2\\xi^2 \\frac{d^2\\xi}{d\\theta^2} - h^2 \\xi^3 = -\\frac{F}{m}$ or $\\frac{d^2 \\xi}{d\\theta^2} + \\xi = \\frac{F}{mh^2 \\xi^2}$ &emsp; (13-14)\n",
    "* This defines the path over which the particle travels when it is subjected to the central force\n",
    "* In application the force of gravitational attraction will be considered\n",
    "* Examples of central-force systems that depend on gravitational include the motion of planets about the sun, motion of the moon and artificial satellites about the earth\n",
    "* Consider a satellite launched into free-flight orbit with initial velocity $\\vec v_0$, it is assumed that this velocity is parallel to the tangent at the surface of the earth, just after the satellite is in free flight the only force acting on it is the gravitational force of earth, the force will always act between the mass centers of the earth and the satellite (from Newton's law of gravitation), we can use 13-1 to find the force of attraction, $F = G \\frac{M_e m}{r^2}$\n",
    "* To obtain orbital path set $\\xi = \\frac{1}{r}$ in the previous equation and substitute that into 13-14 to obtain $\\frac{d^2 \\xi}{d\\theta^2} + \\xi = \\frac{GM_e}{h^2}$ &emsp; (13-15)\n",
    "* This second-order differential equation has constant coefficients and is non-homogenous, solution is the sum of complementary and particular solutions given by $\\xi = \\frac{1}{r} = C \\cos(\\theta - \\phi) + \\frac{GM_e}{h^2}$ &emsp; (13-16)\n",
    "* This equation is the free-flight trajectory of the satellite, it's the equation of a conic section expressed in polar coordinates\n",
    "* To interpret geometrically we need to know equation for a conic section, a conic section is defined as the locus of a point $P$ that moves in such a way that the ratio of its distance to a focus or a fixed point $F$ to its perpendicular distance to a fixed line $DD$ called the directix is constant, the constant ratio is denoted $e$ and is called eccentricity, $e = \\frac{FP}{PA}$\n",
    "* $FP = r = e(PA) = e[p - r \\cos (\\theta - \\phi)]$ or $\\frac{1}{r} = \\frac{1}{p} \\cos (\\theta - \\phi) + \\frac{1}{ep}$, $p$ is distance from $DD$ to $F$, $\\theta$ is angle between $x'$ and $r$, $\\phi$ is angle between $x$ and $x'$\n",
    "* Compare this to 13-16 it can be seen the fixed distance from the focus to the directix is $p = \\frac{1}{C}$ &emps; (13-17)\n",
    "* The eccentricity of the conic section for the trajectory is $e = \\frac{Ch^2}{GM_e}$ &emsp; (13-18)\n",
    "* When $\\theta$ is measured from the $x$ axis (an axis of symmetry since its perpendicular to directix) and $\\phi$ is zero then 13-16 becomes $\\frac{1}{r} = C \\cos \\theta + \\frac{GM_e}{h^2}$ &emsp; (13-19)\n",
    "* $h$ and $C$ are determined from data obtained for the position and velocity of the satellite at the end of the power-flight trajectory\n",
    "* If initial height or distance to the satellite is $r_0$ (measured from the center of the earth), and its initial speed is $v_0$ at the beginning of its free flight then $h$ can be obtained from 13-12, when $\\theta = \\phi = 0^o$, the velocity $\\vec v_0$ has no radial component therefore 12-25 ($v_0 = r_0 (d\\theta/dt)$)\n",
    "* $h = r_0^2 \\frac{d\\theta}{dt}$ or $h = r_0 v_0$ &emsp; (13-20)\n",
    "* To calculate $C$ use 13-19 with $\\theta = 0^o, r= r_0$ and substitute 13-20 for $h$\n",
    "* $C = \\frac{1}{r_0} (1 - \\frac{GM_e}{r_0 v_0^2})$ &emsp; (13-21)\n",
    "* Equation for free-flight trajectory becomes $\\frac{1}{r} = \\frac{1}{r_0} (1 - \\frac{GM_e}{r_0 v_0^2}) \\cos \\theta + \\frac{GM_e}{r_0^2 v_0^2}$\n",
    "* Type of path traveled by the satellite determined from eccentricity of the conic section (13-18)\n",
    "    * $e=0$ - free-flight trajectory is a circle &emsp; (13-23)\n",
    "    * $e=1$ - free-flight trajectory is a parabola &emsp; (13-23)\n",
    "    * $e<1$ - free-flight trajectory is an ellipse &emsp; (13-23)\n",
    "    * $e>1$ - free-flight trajectory is a hyperbola &emsp; (13-23)\n",
    "### Parabolic Path\n",
    "* Initial launch velocity $\\vec v_0$ required for the satellite to follow a parabolic path is called the escape velocity\n",
    "* Speed $v_e$ is determined by using the second statement of 13-23 with 13-18,13-20,13-21 it is shown that $v_e = \\sqrt{\\frac{2GM_e}{r_0}}$ &emsp; (13-24)\n",
    "### Circular Orbit\n",
    "* Speed $v_c$ required to launch a satellite into a circular orbit can be obtained by using the first statement of 13-23 $(e=0)$ and since $e$ is related to $h$ and $C$ in 13-18, $C$ must be zero to satisfy this equation since $h$ cannot be zero in 13-20, therefore using 13-21 $v_c = \\sqrt{\\frac{GM_e}{r_0}} $ &emsp; (13-25)\n",
    "* Provided $r_0$ represents a minimum height for launching in which frictional resistance from the atmosphere is neglected, speeds at launch that are less than $v_c$ will cause the satellite to reenter earth's atmosphere and either burn up or crash\n",
    "### Elliptical Orbit\n",
    "* All trajectories attained by planets and most satellites are elliptical\n",
    "* For a satellite's orbit about earth the minimum distance (perigee) from the orbit to the center of earth is $r_p$ and can be calculated using 13-22 with $\\theta = 0^o$, therefore $r_p = r_0$ &emsp; (13-26)\n",
    "* The maximum distance (apogee) $r_a$ can be calculated using 13-22 with $\\theta= 180^o$ therefore $r_a = \\frac{r_0}{2GM_e/(r_0v_0^2) - 1}$ &emsp; (13-27)\n",
    "* The half-length of the major axis is $a = \\frac{r_p + r_a}{2}$ &emsp; (13-28)\n",
    "* The half-length of the minor axis is $b = \\sqrt{r_p r_a}$ &emsp; (13-29)\n",
    "* We can integrate to obtain the area of the ellipse, $A = \\pi a b = \\frac{\\pi}{2} (r_p + r_a) \\sqrt{r_p r_a}$ &emsp; (13-30)\n",
    "* Areal velocity is defined in 13-13 ($dA/dt = h/2$), integration yields $A = \\frac{hT}{2}$ with $T$ being the period of time required to make one orbital revolution, from 13-30 this time is $T = \\frac{\\pi}{h} (r_p + r_a) \\sqrt{r_p r_a}$ &emsp; (13-31)"
   ],
   "metadata": {
    "collapsed": false
   }
  },
  {
   "cell_type": "markdown",
   "source": [
    "## Problem 125\n",
    "A satellite is launched at its apogee with an initial\n",
    "velocity $v_0 = 2500 mi/h$ parallel to the surface of the earth.\n",
    "Determine the required altitude (or range of altitudes)\n",
    "above the earth’s surface for launching if the free-flight\n",
    "trajectory is to be (a) circular, (b) parabolic, (c) elliptical,\n",
    "with launch at apogee, and (d) hyperbolic. Take\n",
    "$G = 34.4(10^9) (lb \\cdot ft^2)/slug^2$, $M_e = 409(10^{21}) slug$, the\n",
    "earth’s radius $r_e = 3960 mi$, and $1 mi = 5280 ft$.\n",
    "Plot the orbits."
   ],
   "metadata": {
    "collapsed": false
   }
  },
  {
   "cell_type": "code",
   "execution_count": 204,
   "outputs": [
    {
     "name": "stdout",
     "output_type": "stream",
     "text": [
      "Required altitude for circular trajectory = 312580742.11 m\n",
      "Required altitude for parabolic trajectory = 631534486.47 m\n",
      "Required altitude for elliptical trajectory is between 312580742.11 m and 631534486.47 m\n",
      "Required altitude for elliptical trajectory is above 631534486.47 m\n"
     ]
    }
   ],
   "source": [
    "from astropy import units as u\n",
    "v_0 = (2500 * u.imperial.mi / u.h).to(u.meter / u.s)\n",
    "earth_radius = (3960 *u.imperial.mi).to(u.meter)\n",
    "M_e = (409 * 10**(21) * u.imperial.slug).to(u.kg)\n",
    "G = 6.6743 * 10**(-11) * (u.newton * u.meter**2 / u.kg**2)\n",
    "\n",
    "\n",
    "# Circular\n",
    "# e = C**2 * h / (G * M_e) = 0\n",
    "r_0_c = (G * M_e / v_0**2).to(u.meter)\n",
    "r_c = r_0_c - earth_radius\n",
    "print(f'Required altitude for circular trajectory = {r_c:.2f}')\n",
    "# Parabolic\n",
    "# e = C**2 * h / (G * M_e) = 1\n",
    "r_0_p = (2 * G * M_e / v_0**2).to(u.meter)\n",
    "r_p = r_0_p - earth_radius\n",
    "print(f'Required altitude for parabolic trajectory = {r_p:.2f}')\n",
    "# Elliptical\n",
    "# e < 1\n",
    "# r_c < r_e < r_p\n",
    "print(f'Required altitude for elliptical trajectory is between {r_c:.2f} and {r_p:.2f}')\n",
    "# Hyperbolic\n",
    "# e > 1\n",
    "# r_h > r_p\n",
    "print(f'Required altitude for elliptical trajectory is greater than {r_p:.2f}')"
   ],
   "metadata": {
    "collapsed": false,
    "ExecuteTime": {
     "end_time": "2023-07-20T19:34:40.529776900Z",
     "start_time": "2023-07-20T19:34:40.522275400Z"
    }
   }
  }
 ],
 "metadata": {
  "kernelspec": {
   "display_name": "Python 3",
   "language": "python",
   "name": "python3"
  },
  "language_info": {
   "codemirror_mode": {
    "name": "ipython",
    "version": 2
   },
   "file_extension": ".py",
   "mimetype": "text/x-python",
   "name": "python",
   "nbconvert_exporter": "python",
   "pygments_lexer": "ipython2",
   "version": "2.7.6"
  }
 },
 "nbformat": 4,
 "nbformat_minor": 0
}
