{
 "cells": [
  {
   "cell_type": "markdown",
   "source": [
    "# Chapter 22 - Vibrations"
   ],
   "metadata": {
    "collapsed": false
   }
  },
  {
   "cell_type": "markdown",
   "source": [
    "## Section 22.1 Undamped Free Vibration\n",
    "* Vibration - oscillating motion of a body or system of connected bodies displaced from a position of equilibrium\n",
    "* Two types of vibration\n",
    "    * Free vibration occurs when the motion is maintained by gravitational or elastic restoring forces, swinging motion of a pendulum or vibration of an elastic rod\n",
    "    * Forced vibration is caused by an external periodic or intermittent force applied to the system\n",
    "* Both of these can be damped or undamped vibrations\n",
    "* Undamped vibrations do not include frictional effects in analysis since both external and internal frictional forces are present therefore the motion of all vibrating bodies is damped\n",
    "* Undamped free vibration is the simplest vibration, consider a block attached to a block, the other side of the spring is mounted to a wall, vibration occurs when the block is released from a displaced position $x$ since the spring pulls on the block, the block has velocity, so it continues to move out of equilibrium when $x=0$ and if the supporting surface is smooth the block will oscillate back and forth\n",
    "* The path of motion of the block can be determined by using the equation of motion on the block when it is in the displaced position $x$, the elastic restoring force $F = kx$ is directed toward the equilibrium position, acceleration $\\vec a$ can be assumed to act in the direction of positive displacement, since $a = \\frac{d^2x}{dt^2} = \\ddot x$ we obtain $\\sum F_x = ma_x \\Rightarrow -kx = m \\ddot x$\n",
    "* We can see that acceleration is proportional to the displacement\n",
    "* This type of motion is called simple harmonic motion\n",
    "* We can rearrange terms to obtain $\\ddot x + \\omega_n^2 x = 0$ &emsp; (22-1)\n",
    "* $\\omega_n$ is a constant, and is represented with rad/s, it is called the natural frequency, $\\omega_n = \\sqrt{\\frac{k}{m}}$ &emsp; (22-2)\n",
    "* We can obtain 22-1 by considering the block to be suspended to the displacement $y$ is measured from the block's equilibrium position, if the block is in equilibrium the spring exerts a force $F = W = mg$ on the block, therefore when the block is displaced distance $y$ downward from this position the magnitude of the spring force is $F = W + ky$\n",
    "* We can use the equation of motion to obtain $\\sum F_y = m a_y \\Rightarrow -W -ky + W = m \\ddot y$, or we can rearrange this like before to obtain $\\ddot y + \\omega_n^2 y = 0$\n",
    "* 22-1 is a homogenous second-order linear differential equation with constant coefficients, it can be shown the general solution is $x = A \\sin \\omega_n t + B \\cos \\omega_n t$ &emsp; (22-3)\n",
    "* $A$ and $B$ represent two constants of integration, the block's velocity and acceleration can be determined by taking successive time derivatives to obtain 3\n",
    "* $v = \\dot x = A \\omega_n \\cos \\omega_n t - B \\omega_n \\sin \\omega_n t$ &emsp; (22-4)\n",
    "* $a = \\ddot x = -A \\omega_n^2 \\sin \\omega_n t - B \\omega_n^2 \\cos \\omega_n t$ &emsp; (22-5)\n",
    "* 22-3 to 22-5 can be substituted into 22-1 shows the equation will be satisfied and showing 22-3 is the solution\n",
    "* The integration constants are determined from the initial conditions of the problem, consider a block displaced $x_1$ to the right of its equilibrium position and has initial velocity $\\vec v_1$ directed ti the right, we can substitute $x=x_1$ when $t=0$ in 22-3 to obtain $B=x_1$ and with $v=v_1$ when $t=0$ we can use this in 22-4 to obtain $A = \\frac{v_1}{\\omega_n}$\n",
    "* These can be substituted into 22-3 to obtain $x = \\frac{v_1}{\\omega_n} \\sin \\omega_n t + x_1 \\cos \\omega_n t$ &emsp; (22-6)\n",
    "* 22-3 can be expressed in terms of simple sinusoidal motion, $A = C \\cos \\phi$ &emsp; (22-7) and $B = C \\sin \\phi$ &emsp; (22-8)\n",
    "* $C$ and $\\phi$ are constants to be determined in place of $A$ and $B$\n",
    "* We can rewrite 22-3 to $x = C \\cos \\phi \\sin \\omega_n t + C \\sin \\phi \\cos \\omega_n t$\n",
    "* Using the rule $\\sin(\\theta + \\phi) = \\sin(\\theta) \\cos(\\phi) + \\cos(\\theta) \\sin(\\phi)$,\n",
    "* $x = C \\sin(\\omega_n t + \\phi)$ &emsp; (22-9)\n",
    "* Maximum displacement of the block from equilibrium is the amplitude of vibration, we can see from 22-9 the amplitude is $C$\n",
    "* Angle $\\phi$ is the phase angle as it represents the amount by which the curve is displaced from origin when $t=0$\n",
    "* We can relate these constants to $A$ and $B$ using 22-7 and 22-8, we can square and add these two equations to obtain $C = \\sqrt{A^2 + B^2}$ &emsp; (22-10)\n",
    "* We can divide 22-8 by 22-7 the phase angle is $\\phi = \\tan^{-1}{\\frac{B}{A}}$ &emsp; (22-11)\n",
    "* The sine curve (22-9) completes one cycle in time $t = \\tau$ when $\\omega_n \\tau = 2 \\pi$ or $\\tau = \\frac{2\\pi}{\\omega_n}$ &emsp; (22-12)\n",
    "* This is called a period, using 22-2 the period can also be $\\tau = 2 \\pi \\sqrt{\\frac{m}{k}}$ &emsp; (22-13)\n",
    "* Frequency $f$ is the number of cycles completed per unit of time, $f = \\frac{1}{\\tau} = \\frac{\\omega_n}{2\\pi}$ &emsp; (22-14) or $f = \\frac{1}{2\\pi} \\sqrt{\\frac{k}{m}}$ &emsp; (22-15)\n",
    "* Frequency is expressed as cycles/s, called hertz, 1 Hz = 1 cycle/s = 2 $\\pi$ rad/s\n",
    "* When a body or system of connected bodies has initial displacement from equilibrium and is released it will vibrate with natural frequency $\\omega_n$, if the system has a single degree of freedom then the vibrating motion wil have the same characteristics as the simple harmonic motion of the block and spring discussed\n",
    "* Therefore, the motion is described by a differential equation of the same form as 22-1, $\\ddot x + \\omega_n^2x = 0$ &emsp; (22-16)\n",
    "* When $\\omega_n$ is known $\\tau$, $f$ and other vibrating characteristics can bbe established using 22-3 through 22-15\n",
    "### Procedure for Analysis\n",
    "* Natural frequency $\\omega_n$ of a body or a system of connected bodies with a single degree of freedom can be determined by this procedure\n",
    "#### Free-Body Diagram\n",
    "* Draw FBD of the body when the body is displaced a small amount from equilibrium\n",
    "* Locate the body with respect to its equilibrium by using an appropriate inertial coordinate $q$, the acceleration of the body's mass center $\\vec a_G$ or body's angular acceleration $\\vec \\alpha$ should have an assumed sense of direction which is in the positive direction of the position coordinate\n",
    "* If the rotational equation of motion $\\sum M_P = \\sum (M_k)_P$ is used then it may be beneficial to draw the kinetic diagram since it graphically accounts for components $m(\\vec a_G)_x, m(\\vec a_G)_y$, and $I_G \\vec \\alpha$, therefore it is convenient for visualizing the terms needed in the moment sum $\\sum (M_k)_P$\n",
    "#### Equation of Motion\n",
    "* Apply equation of motion to relate the elastic or gravitational restoring forces and couple moments acting on the body to the body's accelerated motion\n",
    "#### Kinematics\n",
    "* Using kinematics express the body's accelerated motion in terms of the second time derivative of the position coordinate $\\ddot q$\n",
    "* Substitute the result into the equation of motion and determine $\\omega_n$ by rearranging the terms so the resulting equation is in form $\\ddot q + \\omega_n^2 q =0$"
   ],
   "metadata": {
    "collapsed": false
   }
  },
  {
   "cell_type": "markdown",
   "source": [
    "## Section 22.2 Energy Methods\n",
    "* Since gravitational and elastic forces are the only forces involved in simple harmonic motion of a body and these forces are conservative we can use conservation of energy equation to obtain the natural frequency or period of vibration of the boyd\n",
    "* Consider the block and spring system in the last section, when the block is displaced $x$ from equilibrium, $T = \\frac{1}{2} m v^2 = \\frac{1}{2} m \\dot x^2$ and $V = \\frac{1}{2} k x^2$, since the energy is conserved $T+V =$ constant $\\Rightarrow \\frac{1}{2} m \\dot x^2 + \\frac{1}{2} k x^2 =$ constant &emsp; (22-17)\n",
    "* We can obtain a differential equation for the accelerated motion of the block by differentiating this equation with respect to time, $m \\dot x \\ddot x + k x \\dot x = 0 \\Rightarrow \\dot x (m\\ddot x + kx)=0$\n",
    "* $\\dot x$ is not always $0$ therefore $\\ddot x + \\omega_n^2 x =0 \\Rightarrow \\omega_n = \\sqrt{\\frac{k}{m}}$\n",
    "* If the conservation of energy is used for a system of connected bodies the natural frequency or equation of motion can be determined by time differentiation, it is not needed to split apart the system to account for the internal forces as they do no work\n",
    "### Procedure for Analysis\n",
    "* Natural frequency of a body or a system of connected bodies can be determined by applying the conservation of energy equation with this procedure\n",
    "#### Energy Equation\n",
    "* Draw the body displaced a small amount from equilibrium and define the location of the body from equilibrium by an appropriate position coordinate $q$\n",
    "* Use conservation of energy for the body in terms of the position coordinate\n",
    "* Kinetic energy must account for both the body's translational and rotational motion, $T = \\frac{1}{2}mv_G^2 + \\frac{1}{2} I_G \\omega^2$\n",
    "* Potential energy is the sum of the gravitational and elastic potential energies of the body $V = V_g + V_e$, $V_g$ should be measured from a datum (equilibrium) , $q=0$\n",
    "#### Time Derivative\n",
    "* Take time derivative of the energy equation, use chain rule and factor out common terms, the resulting differential equation represents the equation of motion for the system, the natural frequency is obtained by rearranging the terms to the form $\\ddot q + \\omega_n^2 q = 0$"
   ],
   "metadata": {
    "collapsed": false
   }
  },
  {
   "cell_type": "markdown",
   "source": [
    "## Section 22.3 Undamped Forced Vibration\n",
    "* Undamped force vibration principles are used to describe motion of many types of machines and structures\n",
    "### Periodic Force\n",
    "* Consider the block and spring previously discussed, add a periodic force $F = F_0 \\sin(\\omega_0 t)$, the amplitude of this force is $F_0$ and the forcing frequency is $\\omega_0$\n",
    "* We can apply the equation of motion to obtain $\\sum F_x = ma_x \\Rightarrow F_0 \\sin(\\omega_0 t) - kx = m\\ddot x$ or $\\ddot x + \\frac{k}{m} x = \\frac{F_0}{m} \\sin(\\omega_0t)$ &emsp; (22-18)\n",
    "* This is a non-homogeneous second-order differential equation, general solution has a complementary solution plus a particular solution\n",
    "* $x_c$ is determined by setting the term on the right side to zero and solving the resulting homogenous equation, solution is defined by 22-9, $x_c = C \\sin(\\omega_n t + \\phi)$ &emsp; (22-19)\n",
    "* $\\omega_n$ is the natural frequency, $\\omega_n = \\sqrt{\\frac{k}{m}}$\n",
    "* The motion is periodic so $x_p$ is found by assuming a solution in the form $x_p = X \\sin(\\omega_0 t)$ &emsp; (22-20)\n",
    "* $X$ is a constant\n",
    "* We can take the second time derivative and substitute it into 22-18 to obtain $-X \\omega_0^2 \\sin(\\omega_0 t) + \\frac{k}{m} (X \\sin (\\omega_0 t)) = \\frac{F_0}{m} \\sin (\\omega_0 t)$\n",
    "* We can factor $\\sin(\\omega_0 t)$ out and solve for $X$\n",
    "* $X = \\frac{\\frac{F_0}{m}}{(\\frac{k}{m}) - \\omega_0^2} =  \\frac{\\frac{F_0}{k}}{ 1 - (\\frac{\\omega_0}{\\omega_n})^2} $ &emsp; (22-21)\n",
    "* We can substitute this into 22-20 to find the particular solution, $x_p = \\frac{\\frac{F_0}{k}}{1- (\\frac{\\omega_0}{\\omega_n})^2} \\sin(\\omega_o t)$ &emsp; (22-22)\n",
    "* The general solution is the sum of these two sine functions having different frequencies, $x = x_c + x_p = C \\sin(\\omega_n t + \\phi) + \\frac{\\frac{F_0}{k}}{1- (\\frac{\\omega_0}{\\omega_n})^2} \\sin(\\omega_o t)$ &emsp; (22-23)\n",
    "* $x_c$ defines the free vibration that depends on the natural frequency and constants $C$ and $\\phi$, $x_p$ describes the forced vibration of the block caused by the applied force $F$, since vibrating systems are subjected to friction, the free vibration will dampen with time, because of this free vibration is called transient, and the forced vibration is called steady-state since it is the only vibration that remains\n",
    "* We can see in 22-21 the amplitude of forced vibration depends on the frequency ratio $\\frac{\\omega_0}{\\omega_n}$, if the magnification factor MF is defined as the ratio of the amplitude of forced vibration,$X$, to the static deflection, $\\frac{F_0}{k}$ which would be produced by the amplitude of the periodic force $F_0$ then using 22-21 MF$= \\frac{X}{\\frac{F_0}{k}} = \\frac{1}{1 - (\\frac{\\omega_0}{\\omega_n})^2}$ &emsp; (22-24)\n",
    "* If the force or displacement is applied with a frequency close to the natural frequency ($\\frac{w_0}{w_n} \\approx 1$) the amplitude of vibration of the block becomes large, this occurs since the force $\\vec F$ is applied to the block so that it always follows the motion of the block, this is called resonance and resonating vibrations can cause tremendous stress and rapid failure of parts\n",
    "### Periodic Support Displacement\n",
    "* Forced vibrations can be caused from periodic excitation of the support of a system\n",
    "* Consider a model that represents periodic vibration of a block that is caused by harmonic movement $\\delta = \\delta_0 \\sin(\\omega_0 t)$ of the support, the displacement $\\delta$ of the support is measured from the point of zero displacement, therefore general deformation of the spring is $x-\\delta \\sin(\\omega_0 t)$\n",
    "* We can apply the equation of motion to obtain $F_x = ma_x \\Rightarrow -k(x-\\delta \\sin(\\omega_0 t)) = m\\ddot x$ or $\\ddot x + \\frac{k}{m}x = \\frac{k\\delta_0}{m} \\sin(\\omega_0 t)$ &emsp; (22-25)\n",
    "* This equation is in the same form of 22-18, if $F_0$ is replaced by $k\\delta_0$, if this substitution is made into the solutions defined by 22-21 to 22-23 the results are appropriate for describing the motion of the block when subjected to the support displacement $\\delta = \\delta_0 \\sin (\\omega_0 t)$"
   ],
   "metadata": {
    "collapsed": false
   }
  },
  {
   "cell_type": "markdown",
   "source": [
    "## Section 22.4 Viscous Damped Free Vibration\n",
    "* Previous vibration analysis did not include friction or damping in the system, therefore the solutions are only close to actual movement, since all vibrations dampen with time, the presence of damping forces should be included in the analysis\n",
    "* Damping is attributed to the resistance created by the substance, water, oil, or air, in which the system vibrates, if a body moves slowly through a substance the resistance to motion is directly proportional to the body's speed, the type of force developed in these conditions is called a viscous damping force, magnitude of this force is expressed by $F = c \\dot x$ &emsp; (22-26)\n",
    "* $c$ is a constant called the coefficient of viscous damping with units of N $\\times$ s/m\n",
    "* The vibrating motion of a body or system with viscous damping can be characterized by a system of a block connected to a spring on the left and a dashpot on the right, the effect of damping is provided from the dashpot, damping occurs when the piston $P$ moves to the right or left within the enclosed cylinder which contains a fluid therefore the motion of the piston is retarded since the fluid must flow around or through a small hole in the piston, assume the dashpot has coefficient of viscous damping $c$\n",
    "* If the block in our system is displaced $x$ from equilibrium both the spring and damping force oppose the forward motion of the block\n",
    "* We can apply the equation of motion to obtain $\\sum F_x = ma_x \\Rightarrow -kx-c\\dot x = m\\ddot x$ or $m \\ddot x + c \\dot x + kx = 0 $ &emsp; (22-27)\n",
    "* This is a linear second-order homogenous differential equation which has a solution of the form $x = e^{\\lambda t}$\n",
    "* $e$ is the base of natural logarithm and $\\lambda$ is a constant, $\\lambda$ can be determined by substituting this solution and its time derivatives into 22-27 which yields, $m \\lambda^2 e^{\\lambda t} + c \\lambda e^{\\lambda t} + k e^{\\lambda t} = 0$ or $e^{\\lambda t} (m \\lambda^2 + c \\lambda + k)=0$\n",
    "* $e^{\\lambda t}$ is never zero therefore a solution is possible when $m\\lambda^2 + c\\lambda + k=0$\n",
    "* We can use the quadratic equation to obtain the two values of $\\lambda$, $\\lambda_1 = -\\frac{c}{2m} + \\sqrt{(\\frac{c}{2m})^2 - \\frac{k}{m}}$ and $\\lambda_2 = -\\frac{c}{2m} - \\sqrt{(\\frac{c}{2m})^2 - \\frac{k}{m}}$ &emsp; (22-28)\n",
    "* General solution for 22-27 is a combination of exponential which involves both of these roots, there are 3 ways of combining $\\lambda_1$ and $\\lambda_2$\n",
    "* The critical damping coefficient $c_c$ is the value of $c$ which makes the radical in 22-28 equal to zero, $(\\frac{c_c}{2m})^2 - \\frac{k}{m} = 0 $ or $c_c = 2m \\sqrt{\\frac{k}{m}} = 2 m \\omega_n$ &emsp; (22-29)\n",
    "### Overdamped System\n",
    "* If $c>c_c$ then $\\lambda_1$ and $\\lambda_2$ are real solutions, general solution of 22-27 is $x= A e^{\\lambda_1 t} + Be^{\\lambda_2 t}$ &emsp; (22-30)\n",
    "* The motion based on this solution is nonvibrating, the damping is strong so when the block is displaced and released it slowly goes back to equilibrium without oscillating\n",
    "### Critically Damped System\n",
    "* If $c=c_c$ then $\\lambda_1 = \\lambda_2 = -\\frac{c_c}{2m} = -\\omega_n$, this is critical damping since $c$ has the smallest value to cause the system to be nonvibrating\n",
    "* With methods involving differential equations the solution for 22-27 is $x = (A+Bt)e^{-\\omega_n t}$ &emsp; (22-31)\n",
    "### Underdamped System\n",
    "* If $c<c_c$ then $\\lambda_1$ and $\\lambda_2$ are complex solutions, general solution of 22-27 is $x=D [e^{-(\\frac{c}{2m}t)}\\sin(\\omega_d t + \\phi)]$ &emsp; (22-32)\n",
    "* $D$ and $\\phi$ are constants that are determined from initial conditions, $\\omega_d$ is called the damped natural frequency of the system, $\\omega_d = \\sqrt{\\frac{k}{m} - (\\frac{c}{2m})^2} = \\omega_n \\sqrt{1-(\\frac{c}{c_c})^2}$ &emsp; (22-33)\n",
    "* Ratio $\\frac{c}{c_c}$ is the damping factor\n",
    "* We can graph 22-32, initial limit of motion is $D$, $D$ lowers with each cycle of vibration since the motion is between the bounds of the exponential curve\n",
    "* Period of damped vibration is $\\tau_d = \\frac{2\\pi}{\\omega_d}$ &emsp; (22-34)\n",
    "* Since $\\omega_d<\\omega_n$ the period of damped vibration will be greater than free vibration $\\tau = \\frac{2\\pi}{\\omega_n}$"
   ],
   "metadata": {
    "collapsed": false
   }
  },
  {
   "cell_type": "markdown",
   "source": [
    "## Section 22.5 Viscous Damped Forced Vibration\n",
    "* Consider the most general case of single degree freedom vibrating motion, the system includes the effects of forced motion and induced damping, analysis of this vibration will have a practical value if the system has significant damping characteristics\n",
    "* Consider a block connected to a spring on the left and a dashpot to the right, the differential equation describing motion is $m \\ddot x + c \\dot x +  kx = F_0 \\sin(\\omega_0 t)$ &emsp; (22-35)\n",
    "* Another equation can be made for a block and spring that have periodic support displacement that includes the effects of damping, in this case $F_0$ is replaced with $k \\delta_0$, 22-35 is nonhomogenous the general solution is the sum of $x_c$ and $x_p$, $x_c$ is determined from setting the right side of 22-35 equal to zero and solving the homogeneous equation which is equivalent to 22-27\n",
    "* The solution is given by 22-30,22-31, or 22-32 depending on $\\lambda_1$ and $\\lambda_2$\n",
    "* Since all these systems are subjected to friction the solution will dampen with time, only $x_p$ which is the steady-state vibration of the system will remain, the applied forcing function is harmonic the steady-state motion will also be harmonic\n",
    "* The particular solution will be $X_P = X' \\sin (\\omega_0 t - \\phi ')$ &emsp; (22-36)\n",
    "* Constants $X'$ and $\\phi'$ are determined from taking the first and second time derivatives and substituting them into 22-35 and can then be simplified to $-X' m \\omega_0^2 \\sin(\\omega_0 t - \\phi') + X' c \\omega_0 \\cos (\\omega_0 t - \\phi') + X'k \\sin (\\omega_0 t - \\phi') = F_0 \\sin (\\omega_0 t)$\n",
    "* This equation holds for any time, therefore the constants can be determined by setting $\\omega_0 t - \\phi' =0$ and $\\omega_0 t - \\phi' = \\frac{\\pi}{2}$, then the equation becomes $X' c \\omega_0 = F_0 \\sin \\phi'$ and $-X' m \\omega_0^2 + X'k = F_0 \\cos \\phi'$\n",
    "* Amplitude is found by squaring these equations and adding them, $X' = \\frac{F_0}{\\sqrt{(k-m\\omega_0^2)^2 + c^2 \\omega_0^2}}$ &emsp; (22-37)\n",
    "* $\\phi'$ is found by dividing the first equation by the second, $\\phi' = \\tan^{-1}[\\frac{c \\omega_0}{k-m \\omega_0^2}]$ &emsp; (22-38)\n",
    "* We can substitute in $\\omega_n = \\sqrt{\\frac{k}{m}}$ and $c_c = 2m \\omega_n$ the above equations can be rewritten, $X' = \\frac{\\frac{F_0}{k}}{\\sqrt{[1 - (\\frac{\\omega_0}{\\omega_n})^2]^2 + [2(\\frac{c}{c_c})(\\frac{\\omega_0}{\\omega_n})]^2}}$ and $\\phi' = \\tan^{-1} [\\frac{2(\\frac{c}{c_c})(\\frac{\\omega_0}{\\omega_n})}{1 - (\\frac{\\omega_0}{\\omega_n})^2]$ &emsp; (22-39)\n",
    "* $\\phi$ is the phase difference between the applied force and teh resulting steady-state vibration of the damped system\n",
    "* Magnification factor was defined in 22.3, the ratio of amplitude of deflection caused by the forced vibration to the deflection caused by a static force $F_0$, MF$=\\frac{X'}{\\frac{F_0}{k}} = \\frac{1}{\\sqrt{[1-(\\frac{\\omega_0}{\\omega_n})^2]^2 + [2 (\\frac{c}{c_c})(\\frac{\\omega_0}{\\omega_n})]^2}}$ &emsp; (22-40)\n",
    "* MF can be plotted versus the frequency ratio for various values of the damping factor, in the graph it is shown that the magnification of the amplitude increases as the damping factor decreases\n",
    "* Resonance occurs when the damping factor is zero and the frequency ratio is $1$"
   ],
   "metadata": {
    "collapsed": false
   }
  },
  {
   "cell_type": "markdown",
   "source": [
    "## Section 22.6 Electrical Circuit Analogs\n",
    "* Characteristics of vibrating mechanical systems can be represented by an electric circuit, consider a circuit which consists of an inductor $L$, resistor $R$ and a capacitor $C$, if a voltage $E(t)$ is applied it causes a current with magnitude $i$ to flow through the circuit\n",
    "* When the current passes through the inductor the voltage drop is $L(\\frac{di}{dt})$ when it passes through the resistor the drop is $Ri$, and when it arrives at the capacitor the drop is $(\\frac{1}{C})\\int idt$\n",
    "* Current cannot flow past a capacitor, so it is only possible to measure the charge $q$ acting on the capacitor, this charge can be related to the current by $i =\\frac{dq}{dt}$\n",
    "* The voltage drops which occur across inductor, resistor, and capacitor become $L \\frac{d^2q}{dt^2}, R \\frac{dq}{dt}$, and $\\frac{q}{C}$\n",
    "* Kirchhoff's voltage law  states the applied voltage balances the sum of the voltage drops around the circuit, $L \\frac{d^2q}{dt^2}+ R \\frac{dq}{dt} + q \\frac{1}{C} = E(t)$ &emsp; (22-41)\n",
    "* Consider a model of a single degree freedom mechanical system, a block is connected to a spring and a dashpot both on the left, and there is a force $\\vec F(t)$ pushing toward the right of the block, this system is subjected to a general forcing function $F(t)$ and damping, the equation of motion for this system was made in the last section and can be written as $m \\frac{d^2x}{dt^2} + c\\frac{dx}{dt} + kx = F(t)$ &emsp; (22-42)\n",
    "* These two equations have the same form and therefore mathematically the procedure of analyzing an electric circuit is the same as analyzing a vibrating mechanical system\n",
    "* This relation is important for experimental work since it is easier to simulate the vibration of a complex mechanical system using an electrical circuit than an equivalent mechanical spring and dashpot system\n"
   ],
   "metadata": {
    "collapsed": false
   }
  },
  {
   "cell_type": "markdown",
   "source": [
    "| Electrical                |      |         Mechanical          |       |\n",
    "|:--------------------------|:----:|:---------------------------:|:-----:|\n",
    "| Electric charge           |  q   |        Displacement         |   x   |\n",
    "| Electric current          |  i   |          Velocity           | dx/dt |\n",
    "| Voltage                   | E(t) |        Applied Force        | F(t)  |\n",
    "| Inductance                |  L   |            Mass             |   m   |\n",
    "| Resistance                |  R   | Viscous damping coefficient |   c   |\n",
    "| Reciprocal of capacitance | 1/C  |      Spring stiffness       |   k   |\n"
   ],
   "metadata": {
    "collapsed": false
   }
  }
 ],
 "metadata": {
  "kernelspec": {
   "display_name": "Python 3",
   "language": "python",
   "name": "python3"
  },
  "language_info": {
   "codemirror_mode": {
    "name": "ipython",
    "version": 2
   },
   "file_extension": ".py",
   "mimetype": "text/x-python",
   "name": "python",
   "nbconvert_exporter": "python",
   "pygments_lexer": "ipython2",
   "version": "2.7.6"
  }
 },
 "nbformat": 4,
 "nbformat_minor": 0
}
